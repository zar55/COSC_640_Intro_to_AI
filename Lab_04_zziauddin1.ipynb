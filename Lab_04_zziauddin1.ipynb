{
  "cells": [
    {
      "cell_type": "markdown",
      "metadata": {
        "id": "view-in-github",
        "colab_type": "text"
      },
      "source": [
        "<a href=\"https://colab.research.google.com/github/zar55/COSC_640_Intro_to_AI/blob/Lab/Lab_04_zziauddin1.ipynb\" target=\"_parent\"><img src=\"https://colab.research.google.com/assets/colab-badge.svg\" alt=\"Open In Colab\"/></a>"
      ]
    },
    {
      "cell_type": "markdown",
      "id": "971a52bf-c0a2-4040-b625-7f3bb42d27a0",
      "metadata": {
        "id": "971a52bf-c0a2-4040-b625-7f3bb42d27a0"
      },
      "source": [
        "# COSC-640: Lab 4\n",
        "\n",
        "**Zargham Ziauddin**\n",
        "\n",
        "[PLACEHOLDER_FOR_NOTEBOOK_LINK]\n"
      ]
    },
    {
      "cell_type": "markdown",
      "source": [
        "## Getting Started\n",
        "\n",
        "Follow the instructions below to copy this notebook and to perform some initial setup.\n",
        "\n",
        "1. Copy this notebook by selecting `File > Save a copy in Drive`.\n",
        "2. A new window should open for the copied notebook. Move the new notebook to your course folder in Google Drive by selecting `File > Move` and then selecting the desired folder.\n",
        "3. Update the name of the notebook by removing \"Copy of\" and replacing \"Username\" with your actual username.\n",
        "4. Update the first cell in the notebook by specifying your course number (440 or 640) and by replacing \"**Student Name**\" with your actual name.\n",
        "5. Do not edit the line that says `PLACEHOLDER_FOR_NOTEBOOK_LINK`. This will be used by the [Notebook Renderer](https://colab.research.google.com/drive/1CJTipys46ldZxJFwnt7XbdjQUfkmoXeU?usp=sharing) tool to insert a link to your Colab notebook.\n",
        "6. Enable link sharing for your notebook."
      ],
      "metadata": {
        "id": "PWJSpzEkajYG"
      },
      "id": "PWJSpzEkajYG"
    },
    {
      "cell_type": "markdown",
      "source": [
        "## Preparing the Colab Environment\n",
        "\n",
        "Run the cell below to download the `aitools` course package."
      ],
      "metadata": {
        "id": "OD55B8nBanwP"
      },
      "id": "OD55B8nBanwP"
    },
    {
      "cell_type": "code",
      "source": [
        "%%capture\n",
        "!rm aitools -r\n",
        "!git clone https://github.com/drbeane/aitools.git"
      ],
      "metadata": {
        "id": "5xW3OBPiao52"
      },
      "id": "5xW3OBPiao52",
      "execution_count": null,
      "outputs": []
    },
    {
      "cell_type": "markdown",
      "source": [
        "Run the cells below to import the necessary tools for this assignment. No other import statements are required for this lab, and no other import statements should be included in this assignment."
      ],
      "metadata": {
        "id": "Jkg78jRiassg"
      },
      "id": "Jkg78jRiassg"
    },
    {
      "cell_type": "code",
      "execution_count": null,
      "id": "92d1b031-9dfd-441d-bbb5-5b6cb4d51b4e",
      "metadata": {
        "tags": [],
        "id": "92d1b031-9dfd-441d-bbb5-5b6cb4d51b4e"
      },
      "outputs": [],
      "source": [
        "import sys\n",
        "sys.path.append('../')\n",
        "\n",
        "import numpy as np\n",
        "import matplotlib.pyplot as plt\n",
        "from tqdm.notebook import tqdm\n",
        "\n",
        "# Import Search Algorithms\n",
        "from aitools.algs import depth_first_search, breadth_first_search, uniform_cost_search\n",
        "from aitools.algs import general_search, greedy_best_first, astar_search\n",
        "from aitools.algs import GeneticAlgorithm\n",
        "\n",
        "# Import Environments\n",
        "from aitools.envs import Knapsack, JobAssignment\n",
        "\n",
        "np.set_printoptions(linewidth=120)"
      ]
    },
    {
      "cell_type": "markdown",
      "id": "edef32b8-886f-4e07-9713-e39eafe8f24a",
      "metadata": {
        "tags": [],
        "id": "edef32b8-886f-4e07-9713-e39eafe8f24a"
      },
      "source": [
        "# Part 1: Knapsack Problem\n",
        "\n",
        "In Part 1, you will apply the genetic algorithm to a Knapsack problem with 3 constraints."
      ]
    },
    {
      "cell_type": "markdown",
      "source": [
        "## 1.A - Create Environment\n",
        "\n",
        "Create an instance of the `Knapsack` environment with 100 items and with capacity of `[70, 90, 60]`. Set `random_state=17`. Display the environment."
      ],
      "metadata": {
        "id": "2hHfd-CobI7H"
      },
      "id": "2hHfd-CobI7H"
    },
    {
      "cell_type": "code",
      "execution_count": null,
      "id": "04d60930-b8f2-47f6-ab13-83fd649330db",
      "metadata": {
        "id": "04d60930-b8f2-47f6-ab13-83fd649330db",
        "colab": {
          "base_uri": "https://localhost:8080/"
        },
        "outputId": "7e31fd02-1816-40b0-94ca-59406600bfe1"
      },
      "outputs": [
        {
          "output_type": "stream",
          "name": "stdout",
          "text": [
            "Knapsack Capacity: [70, 90, 60]\n",
            "Current Weight:    [0 0 0]\n",
            "Current Value:     0\n",
            "Is Valid Solution: False\n",
            "\n"
          ]
        }
      ],
      "source": [
        "knapsack = Knapsack(num_items=100, capacity=[70,90,60], random_state=17)\n",
        "\n",
        "knapsack.display()"
      ]
    },
    {
      "cell_type": "markdown",
      "source": [
        "## 1.B - Apply Genetic Algorithm\n",
        "\n",
        "The optimal solution to this problem has a value of 417. The genetic algorithm can find this solution relatively quickly with the correct parameters. You will be asked to attempt to find this solution.\n",
        "\n",
        "Create an instance of the `GeneticAlgorithm` class for the `Knapsack` instance you created in Step 1.A. Set a population size of 1000, and initialize all members of the population to have all zero values. For the sake of reproducibility, set `random_state` to a value of your choice.\n",
        "\n",
        "Call the `run_evolution()` method to apply the genetic algorithm to the Knapsack environment setting `num_generations=200` and `update_rate=50`. Experiment with the reproduction rate and mutation rate until you find an optimal solution to the problem.\n",
        "\n"
      ],
      "metadata": {
        "id": "MB-3ywmybVUC"
      },
      "id": "MB-3ywmybVUC"
    },
    {
      "cell_type": "code",
      "execution_count": null,
      "id": "0ad96abc-b47d-477f-9b0c-329c24f13029",
      "metadata": {
        "id": "0ad96abc-b47d-477f-9b0c-329c24f13029",
        "colab": {
          "base_uri": "https://localhost:8080/"
        },
        "outputId": "cecfce5c-f632-492d-86c4-12d3351908ba"
      },
      "outputs": [
        {
          "output_type": "stream",
          "name": "stdout",
          "text": [
            "Generation 001: New best score found! Current best score = 50\n",
            "Generation 002: New best score found! Current best score = 88\n",
            "Generation 007: New best score found! Current best score = 94\n",
            "Generation 008: New best score found! Current best score = 112\n",
            "Generation 009: New best score found! Current best score = 118\n",
            "Generation 010: New best score found! Current best score = 125\n",
            "Generation 011: New best score found! Current best score = 146\n",
            "Generation 012: New best score found! Current best score = 175\n",
            "Generation 014: New best score found! Current best score = 193\n",
            "Generation 016: New best score found! Current best score = 249\n",
            "Generation 017: New best score found! Current best score = 252\n",
            "Generation 023: New best score found! Current best score = 257\n",
            "Generation 024: New best score found! Current best score = 267\n",
            "Generation 025: New best score found! Current best score = 276\n",
            "Generation 026: New best score found! Current best score = 292\n",
            "Generation 027: New best score found! Current best score = 302\n",
            "Generation 028: New best score found! Current best score = 323\n",
            "Generation 031: New best score found! Current best score = 327\n",
            "Generation 032: New best score found! Current best score = 334\n",
            "Generation 035: New best score found! Current best score = 341\n",
            "Generation 039: New best score found! Current best score = 349\n",
            "Generation 044: New best score found! Current best score = 390\n",
            "Generation 050: Q1=0, Med=0, Q3=0, Max=390\n",
            "Generation 100: Q1=0, Med=0, Q3=0, Max=383\n",
            "Generation 112: New best score found! Current best score = 395\n",
            "Generation 117: New best score found! Current best score = 396\n",
            "Generation 120: New best score found! Current best score = 404\n",
            "Generation 150: Q1=0, Med=0, Q3=0, Max=395\n",
            "Generation 152: New best score found! Current best score = 407\n",
            "Generation 167: New best score found! Current best score = 417\n",
            "Generation 200: Q1=0, Med=0, Q3=0, Max=403\n"
          ]
        }
      ],
      "source": [
        "gal = GeneticAlgorithm(env=knapsack, pop_size=1000, init_zero=True, random_state=42)\n",
        "\n",
        "soln = gal.run_evolution(num_generations=200, update_rate=50, rr=.3, mr=1e-3)"
      ]
    },
    {
      "cell_type": "markdown",
      "source": [
        "## 1.C - Display the Solution\n",
        "\n",
        "Use the `display()` method to display the solution found in Step 1.B."
      ],
      "metadata": {
        "id": "ADSWSCWLbxEt"
      },
      "id": "ADSWSCWLbxEt"
    },
    {
      "cell_type": "code",
      "execution_count": null,
      "id": "fd0b0334-04fe-407a-9207-0cecfb9c422e",
      "metadata": {
        "id": "fd0b0334-04fe-407a-9207-0cecfb9c422e",
        "colab": {
          "base_uri": "https://localhost:8080/"
        },
        "outputId": "f8210fc3-af51-433a-9db9-b970c51e402a"
      },
      "outputs": [
        {
          "output_type": "stream",
          "name": "stdout",
          "text": [
            "Knapsack Capacity: [70, 90, 60]\n",
            "Current Weight:    [67 80 60]\n",
            "Current Value:     417\n",
            "Is Valid Solution: True\n",
            "\n"
          ]
        }
      ],
      "source": [
        "soln.display()"
      ]
    },
    {
      "cell_type": "markdown",
      "id": "dc3bd667-c0ee-438b-8e4b-19a4a56cd380",
      "metadata": {
        "id": "dc3bd667-c0ee-438b-8e4b-19a4a56cd380"
      },
      "source": [
        "# Part 2: Job Assignment (Search Algorithms)\n",
        "\n",
        "In Part 2, you will apply the search algorithms covered in Weeks 1 and 2 to two different instances of the Job Assignment problem."
      ]
    },
    {
      "cell_type": "markdown",
      "source": [
        "## 2.A - Create Environment\n",
        "\n",
        "Create an instance of the `JobAssignment` environment with 3 jobs, 8 workers, and a maximum worker skill of 10. Set `random_state=1`. Display the environment.\n"
      ],
      "metadata": {
        "id": "uU8kx7y6cDN5"
      },
      "id": "uU8kx7y6cDN5"
    },
    {
      "cell_type": "code",
      "execution_count": null,
      "id": "7852853f-3998-4cde-a286-f0a2a4f2cbe8",
      "metadata": {
        "id": "7852853f-3998-4cde-a286-f0a2a4f2cbe8",
        "colab": {
          "base_uri": "https://localhost:8080/"
        },
        "outputId": "f7f22f9a-2d29-482b-f50d-f4223be39aa5"
      },
      "outputs": [
        {
          "output_type": "stream",
          "name": "stdout",
          "text": [
            "Job Requirements: [ 0 12 13  9]\n",
            "Worker Costs:     [4 9 8 4 7 6 2 4]\n",
            "\n",
            "Worker Skills:    \n",
            "[[ 0  0  0  0  0  0  0  0]\n",
            " [ 3  5  6  3  5  3  5  8]\n",
            " [ 8 10  2  8  1  7 10 10]\n",
            " [ 8  7 10  2  1  2  9  9]]\n",
            "\n",
            "Assignments:      [ _ _ _ _ _ _ _ _ ]\n",
            "Total cost: 0\n",
            "\n"
          ]
        }
      ],
      "source": [
        "job01 = JobAssignment(n_jobs=3, n_workers=8, max_skill=10, random_state=1)\n",
        "job01.display()"
      ]
    },
    {
      "cell_type": "markdown",
      "source": [
        "## 2.B - Applying Search Algorithms\n",
        "\n",
        "Apply the 5 search algorithms from Weeks 1 and 2 to the JobAssignment instance created in Step 2.A. Set a time limit of 2 minutes for each search algorithm. Note that some of the algorithms may not find a solution within 2 minutes."
      ],
      "metadata": {
        "id": "8s_ll9mYcYLH"
      },
      "id": "8s_ll9mYcYLH"
    },
    {
      "cell_type": "code",
      "execution_count": null,
      "id": "a80698d8-bd44-4115-9bc1-553436b795d9",
      "metadata": {
        "id": "a80698d8-bd44-4115-9bc1-553436b795d9",
        "colab": {
          "base_uri": "https://localhost:8080/"
        },
        "outputId": "dd0c788b-37fb-4774-dba8-9be9eeae736a"
      },
      "outputs": [
        {
          "output_type": "stream",
          "name": "stdout",
          "text": [
            "[DFS] Solution found.\n",
            "1840 nodes seen.\n",
            "1125 nodes skipped\n",
            "623 nodes expanded.\n",
            "92 nodes remaining in frontier.\n",
            "0.04 seconds elapsed.\n",
            "Assignments: [ 1 2 1 2 1 3 3 3 ]\n",
            "Job Reqs:    [ 0 12 13  9]\n",
            "Total Skill: [ 0 14 18 20]\n",
            "Total Cost:  44\n",
            "\n",
            "[BFS] Solution found.\n",
            "123109 nodes seen.\n",
            "28971 nodes skipped\n",
            "10496 nodes expanded.\n",
            "83642 nodes remaining in frontier.\n",
            "2.11 seconds elapsed.\n",
            "Assignments: [ 2 1 3 2 _ _ _ 1 ]\n",
            "Job Reqs:    [ 0 12 13  9]\n",
            "Total Skill: [ 0 13 16 10]\n",
            "Total Cost:  29\n",
            "\n",
            "[UCS] Solution found.\n",
            "56560 nodes seen.\n",
            "9595 nodes skipped\n",
            "4331 nodes expanded.\n",
            "42634 nodes remaining in frontier.\n",
            "0.88 seconds elapsed.\n",
            "Assignments: [ 2 _ _ 2 1 _ 3 1 ]\n",
            "Job Reqs:    [ 0 12 13  9]\n",
            "Total Skill: [ 0 13 16  9]\n",
            "Total Cost:  21\n",
            "\n",
            "[GBF] Solution found.\n",
            "91 nodes seen.\n",
            "0 nodes skipped\n",
            "6 nodes expanded.\n",
            "85 nodes remaining in frontier.\n",
            "0.0 seconds elapsed.\n",
            "Assignments: [ _ 2 3 _ 1 _ 2 1 ]\n",
            "Job Reqs:    [ 0 12 13  9]\n",
            "Total Skill: [ 0 13 20 10]\n",
            "Total Cost:  30\n",
            "\n",
            "[AST] Solution found.\n",
            "9928 nodes seen.\n",
            "1030 nodes skipped\n",
            "624 nodes expanded.\n",
            "8274 nodes remaining in frontier.\n",
            "0.64 seconds elapsed.\n",
            "Assignments: [ 2 _ _ 2 1 _ 3 1 ]\n",
            "Job Reqs:    [ 0 12 13  9]\n",
            "Total Skill: [ 0 13 16  9]\n",
            "Total Cost:  21\n",
            "\n"
          ]
        }
      ],
      "source": [
        "soln01, log01 = depth_first_search(env=job01, time_limit=120)\n",
        "soln02, log02 = breadth_first_search(env=job01, time_limit=120)\n",
        "soln03, log03 = uniform_cost_search(env=job01, time_limit=120)\n",
        "soln04, log04 = greedy_best_first(env=job01, time_limit=120)\n",
        "soln05, log05 = astar_search(env=job01, time_limit=120)"
      ]
    },
    {
      "cell_type": "markdown",
      "source": [
        "## 2.C - Create Environment\n",
        "\n",
        "Create an instance of the `JobAssignment` environment with 4 jobs, 10 workers, and a maximum worker skill of 12. Set `random_state=1`. Display the environment.\n"
      ],
      "metadata": {
        "id": "E9DKjBK9dTBJ"
      },
      "id": "E9DKjBK9dTBJ"
    },
    {
      "cell_type": "code",
      "execution_count": null,
      "id": "1e0edde9-be59-49b9-aa42-030b62d19f2e",
      "metadata": {
        "id": "1e0edde9-be59-49b9-aa42-030b62d19f2e",
        "colab": {
          "base_uri": "https://localhost:8080/"
        },
        "outputId": "2b10d78c-c245-4f9d-dce0-c885e487351e"
      },
      "outputs": [
        {
          "output_type": "stream",
          "name": "stdout",
          "text": [
            "Job Requirements: [ 0 12 13  9 16]\n",
            "Worker Costs:     [5 1 4 3 1 5 3 8 8 9]\n",
            "\n",
            "Worker Skills:    \n",
            "[[ 0  0  0  0  0  0  0  0  0  0]\n",
            " [ 5  6  3  5 12 11  3  5  8  8]\n",
            " [10  2  8  1  7 10 10  8  7 10]\n",
            " [ 2  1  2  9  9  4 11 10  9  8]\n",
            " [ 4  7  6  2 10  4  5  9  2 12]]\n",
            "\n",
            "Assignments:      [ _ _ _ _ _ _ _ _ _ _ ]\n",
            "Total cost: 0\n",
            "\n"
          ]
        }
      ],
      "source": [
        "job02 = JobAssignment(n_jobs=4, n_workers=10, max_skill=12, random_state=1)\n",
        "job02.display()"
      ]
    },
    {
      "cell_type": "markdown",
      "source": [
        "## 2.D - Applying Search Algorithms\n",
        "\n",
        "Apply the 5 search algorithms from Weeks 1 and 2 to the JobAssignment instance created in Step 2.C. Set a time limit of 2 minutes for each search algorithm. Note that some of the algorithms may not find a solution within 2 minutes."
      ],
      "metadata": {
        "id": "93Ben66GdPPc"
      },
      "id": "93Ben66GdPPc"
    },
    {
      "cell_type": "code",
      "execution_count": null,
      "id": "2955e4ae-59d2-461a-b35e-6cdd7f04f8ab",
      "metadata": {
        "id": "2955e4ae-59d2-461a-b35e-6cdd7f04f8ab",
        "colab": {
          "base_uri": "https://localhost:8080/"
        },
        "outputId": "62f169bd-c45c-4bc1-f08d-7d141da90e08"
      },
      "outputs": [
        {
          "output_type": "stream",
          "name": "stdout",
          "text": [
            "[DFS] Solution found.\n",
            "6601 nodes seen.\n",
            "4336 nodes skipped\n",
            "2063 nodes expanded.\n",
            "202 nodes remaining in frontier.\n",
            "0.12 seconds elapsed.\n",
            "Assignments: [ 2 4 2 3 1 4 4 4 4 4 ]\n",
            "Job Reqs:    [ 0 12 13  9 16]\n",
            "Total Skill: [ 0 12 18  9 39]\n",
            "Total Cost:  47\n",
            "\n",
            "[BFS] No solution was found.\n",
            "Time limit reached.\n",
            "7081161 nodes seen.\n",
            "1275112 nodes skipped\n",
            "344649 nodes expanded.\n",
            "5461400 nodes remaining in frontier.\n",
            "120.0 seconds elapsed.\n",
            "\n",
            "[UCS] Solution found.\n",
            "2400249 nodes seen.\n",
            "408734 nodes skipped\n",
            "114995 nodes expanded.\n",
            "1876520 nodes remaining in frontier.\n",
            "42.97 seconds elapsed.\n",
            "Assignments: [ _ 4 2 3 1 _ 2 4 _ _ ]\n",
            "Job Reqs:    [ 0 12 13  9 16]\n",
            "Total Skill: [ 0 12 18  9 16]\n",
            "Total Cost:  20\n",
            "\n",
            "[GBF] Solution found.\n",
            "197 nodes seen.\n",
            "0 nodes skipped\n",
            "8 nodes expanded.\n",
            "189 nodes remaining in frontier.\n",
            "0.02 seconds elapsed.\n",
            "Assignments: [ _ 4 _ _ 1 1 2 4 3 2 ]\n",
            "Job Reqs:    [ 0 12 13  9 16]\n",
            "Total Skill: [ 0 23 20  9 16]\n",
            "Total Cost:  35\n",
            "\n",
            "[AST] Solution found.\n",
            "415489 nodes seen.\n",
            "47930 nodes skipped\n",
            "16878 nodes expanded.\n",
            "350681 nodes remaining in frontier.\n",
            "26.17 seconds elapsed.\n",
            "Assignments: [ _ 4 2 3 1 _ 2 4 _ _ ]\n",
            "Job Reqs:    [ 0 12 13  9 16]\n",
            "Total Skill: [ 0 12 18  9 16]\n",
            "Total Cost:  20\n",
            "\n"
          ]
        }
      ],
      "source": [
        "soln01, log01 = depth_first_search(env=job02, time_limit=120)\n",
        "soln02, log02 = breadth_first_search(env=job02, time_limit=120)\n",
        "soln03, log03 = uniform_cost_search(env=job02, time_limit=120)\n",
        "soln04, log04 = greedy_best_first(env=job02, time_limit=120)\n",
        "soln05, log05 = astar_search(env=job02, time_limit=120)"
      ]
    },
    {
      "cell_type": "markdown",
      "id": "c0d7c902-b5fa-4c0a-9086-6a7745ac3b5c",
      "metadata": {
        "id": "c0d7c902-b5fa-4c0a-9086-6a7745ac3b5c"
      },
      "source": [
        "# Part 3: Job Assignment (Genetic Algorithm)\n",
        "\n",
        "In Part 3, you will apply the genetic algorithm to the Job Assignment problems that you considered in Part 2.\n",
        "\n",
        "In each case, you will be asked to adjust the Genetic Algorithm parameters in an attempt to obtain an optimal solution.\n",
        "\n",
        "Recall that the search algorithms score solutions based on **cost** while the genetic algorithm scores solutions based on **fitness**. In order to compare the solutions, recall that the fitness score for solutions to the Job Assignment problem is calculated as shown below\n",
        "\n",
        "    fitness = 10 * num_workers - total_cost"
      ]
    },
    {
      "cell_type": "markdown",
      "source": [
        "## 3.A - Apply Genetic Algorithm\n",
        "\n",
        "Create an instance of the `GeneticAlgorithm` class for the `JobAssignment` instance you created in Step 2.A. Set a population size of 1000. For the sake of reproducibility, set a `random_state` to a value of your choice.\n",
        "\n",
        "Call the `run_evolution()` method to apply the genetic algorithm to the Knapsack environment setting `num_generations=100` and `update_rate=50`. Experiment with the reproduction rate and mutation rate until you find an optimal solution to the problem.\n",
        "\n"
      ],
      "metadata": {
        "id": "x3cz8JeZe0bM"
      },
      "id": "x3cz8JeZe0bM"
    },
    {
      "cell_type": "code",
      "execution_count": null,
      "id": "430a37aa-f3de-4721-8cf7-f0b4bdb5d7dd",
      "metadata": {
        "id": "430a37aa-f3de-4721-8cf7-f0b4bdb5d7dd",
        "colab": {
          "base_uri": "https://localhost:8080/"
        },
        "outputId": "7a02e289-a2f4-4210-dd47-84b2a1afaec4"
      },
      "outputs": [
        {
          "output_type": "stream",
          "name": "stdout",
          "text": [
            "Generation 001: New best score found! Current best score = 53\n",
            "Generation 008: New best score found! Current best score = 57\n",
            "Generation 030: New best score found! Current best score = 58\n",
            "Generation 042: New best score found! Current best score = 59\n",
            "Generation 050: Q1=0, Med=0, Q3=0, Max=59\n",
            "Generation 100: Q1=0, Med=0, Q3=0, Max=59\n"
          ]
        }
      ],
      "source": [
        "gal02 = GeneticAlgorithm(env=job01, pop_size=1000, init_zero=False, random_state=42)\n",
        "\n",
        "soln = gal02.run_evolution(num_generations=100, update_rate=50, rr=.5, mr=1e-2)"
      ]
    },
    {
      "cell_type": "markdown",
      "source": [
        "## 3.B - Display the Solution\n",
        "\n",
        "Use the `display()` method to show the details of the solution found in Step 3.A.Set `flags='rcat'` when calling `display()`. This will simplify the output by hiding the workers skills array."
      ],
      "metadata": {
        "id": "O6dMiVMZfQBj"
      },
      "id": "O6dMiVMZfQBj"
    },
    {
      "cell_type": "code",
      "execution_count": null,
      "id": "ef555313-ec63-4d1d-a37e-53144329b34f",
      "metadata": {
        "id": "ef555313-ec63-4d1d-a37e-53144329b34f",
        "colab": {
          "base_uri": "https://localhost:8080/"
        },
        "outputId": "d22a9174-70d3-4809-a0a8-6b467bfdfcac"
      },
      "outputs": [
        {
          "output_type": "stream",
          "name": "stdout",
          "text": [
            "Job Requirements: [ 0 12 13  9]\n",
            "Worker Costs:     [4 9 8 4 7 6 2 4]\n",
            "Assignments:      [ 2 _ _ 2 1 _ 3 1 ]\n",
            "Total cost: 21\n",
            "\n"
          ]
        }
      ],
      "source": [
        "soln.display(flags='rcat')"
      ]
    },
    {
      "cell_type": "markdown",
      "source": [
        "## 3.C - Apply Genetic Algorithm\n",
        "\n",
        "Create an instance of the `GeneticAlgorithm` class for the `JobAssignment` instance you created in Step 2.A. Set a population size of 1000. For the sake of reproducibility, set a `random_state` to a value of your choice.\n",
        "\n",
        "Call the `run_evolution()` method to apply the genetic algorithm to the Knapsack environment setting `num_generations=200` and `update_rate=50`. Experiment with the reproduction rate and mutation rate until you find an optimal solution to the problem."
      ],
      "metadata": {
        "id": "YnLtXYfsfHAN"
      },
      "id": "YnLtXYfsfHAN"
    },
    {
      "cell_type": "code",
      "source": [
        "gal03 = GeneticAlgorithm(env=job02, pop_size=1000, init_zero=False, random_state=42)\n",
        "\n",
        "soln = gal03.run_evolution(num_generations=200, update_rate=50, rr=.5, mr=1e-2)"
      ],
      "metadata": {
        "id": "9FPDQIbKf6eW",
        "colab": {
          "base_uri": "https://localhost:8080/"
        },
        "outputId": "d600f8d9-614f-4e65-a279-6fd6a6e9d22b"
      },
      "id": "9FPDQIbKf6eW",
      "execution_count": null,
      "outputs": [
        {
          "output_type": "stream",
          "name": "stdout",
          "text": [
            "Generation 001: New best score found! Current best score = 70\n",
            "Generation 016: New best score found! Current best score = 73\n",
            "Generation 037: New best score found! Current best score = 74\n",
            "Generation 044: New best score found! Current best score = 75\n",
            "Generation 050: Q1=0, Med=0, Q3=0, Max=74\n",
            "Generation 066: New best score found! Current best score = 77\n",
            "Generation 070: New best score found! Current best score = 79\n",
            "Generation 100: Q1=0, Med=0, Q3=0, Max=79\n",
            "Generation 150: Q1=0, Med=0, Q3=0, Max=79\n",
            "Generation 157: New best score found! Current best score = 80\n",
            "Generation 200: Q1=0, Med=0, Q3=0, Max=79\n"
          ]
        }
      ]
    },
    {
      "cell_type": "markdown",
      "source": [
        "## 3.D - Display the Solution\n",
        "\n",
        "Use the `display()` method to show the details of the solution found in Step 3.C.Set `flags='rcat'` when calling `display()`. This will simplify the output by hiding the workers skills array."
      ],
      "metadata": {
        "id": "KHHPWrwofdYh"
      },
      "id": "KHHPWrwofdYh"
    },
    {
      "cell_type": "code",
      "execution_count": null,
      "id": "6da63841-c415-49b9-beba-0bee0e000b49",
      "metadata": {
        "id": "6da63841-c415-49b9-beba-0bee0e000b49",
        "colab": {
          "base_uri": "https://localhost:8080/"
        },
        "outputId": "9972aecf-9a31-45f6-8d82-d09ce5ef4346"
      },
      "outputs": [
        {
          "output_type": "stream",
          "name": "stdout",
          "text": [
            "Job Requirements: [ 0 12 13  9 16]\n",
            "Worker Costs:     [5 1 4 3 1 5 3 8 8 9]\n",
            "Assignments:      [ _ 4 2 3 1 _ 2 4 _ _ ]\n",
            "Total cost: 20\n",
            "\n"
          ]
        }
      ],
      "source": [
        "soln.display(flags='rcat')"
      ]
    },
    {
      "cell_type": "markdown",
      "id": "e6fe7b37-64ab-4444-85c2-9871cb2fa512",
      "metadata": {
        "id": "e6fe7b37-64ab-4444-85c2-9871cb2fa512"
      },
      "source": [
        "# Part 4: Large Job Assignment Problem\n",
        "\n",
        "You should have observed in Parts 2 and 3 that the genetic algorithm is capable of finding optimal solutions to the job assignment problem much more quickly that the search algorithms. In Part 4, you will apply the genetic algorithm to a large job assignment problem that the optimal search algorithms would have no hope of solving in a reasonable amount of time.\n"
      ]
    },
    {
      "cell_type": "markdown",
      "source": [
        "## 4.A - Create Environment\n",
        "\n",
        "Create an instance of the `JobAssignment` environment with 10 jobs, 50 workers, and a maximum worker skill of 5. Set `random_state=1`. Display the environment.\n"
      ],
      "metadata": {
        "id": "TWvhsbJaHQl3"
      },
      "id": "TWvhsbJaHQl3"
    },
    {
      "cell_type": "code",
      "execution_count": null,
      "id": "5235729e-e394-4eb9-bb7b-310d1889f2ea",
      "metadata": {
        "id": "5235729e-e394-4eb9-bb7b-310d1889f2ea",
        "colab": {
          "base_uri": "https://localhost:8080/"
        },
        "outputId": "45756406-a74c-4176-af8c-f6a8cf1d46cf"
      },
      "outputs": [
        {
          "output_type": "stream",
          "name": "stdout",
          "text": [
            "Job Requirements: [ 0 12 13  9 16 10 12  6 16  1  1]\n",
            "Worker Costs:     [8 2 2 5 7 6 7 5 2 2 6 2 3 7 3 4 4 3 4 1 1 2 6 1 6 9 9 1 1 1 9 6 4 5 1 9 7 4 1 9 2 7 7 2 4 8 4 3 4 1]\n",
            "\n",
            "Worker Skills:    \n",
            "[[0 0 0 0 0 0 0 0 0 0 0 0 0 0 0 0 0 0 0 0 0 0 0 0 0 0 0 0 0 0 0 0 0 0 0 0 0 0 0 0 0 0 0 0 0 0 0 0 0 0]\n",
            " [2 1 2 4 5 4 2 4 1 1 3 3 2 4 5 3 1 1 2 2 4 1 1 5 3 5 4 4 1 4 5 4 5 5 5 2 1 5 3 1 3 5 2 2 1 3 5 5 1 5]\n",
            " [2 5 2 1 3 4 2 3 5 5 3 3 1 2 3 3 1 2 3 5 1 2 3 2 5 3 1 1 2 1 2 4 2 2 5 5 4 1 4 1 4 2 3 5 1 1 4 2 2 1]\n",
            " [1 5 3 4 5 3 1 4 4 2 3 5 4 1 1 5 3 5 3 1 4 1 1 5 3 2 1 5 4 1 2 3 5 5 4 4 4 4 3 4 4 5 4 3 5 5 1 4 4 1]\n",
            " [4 2 1 3 3 3 1 3 2 5 1 5 5 2 4 2 5 2 3 2 1 1 3 5 2 1 1 4 2 1 5 4 3 4 5 5 4 1 1 1 5 2 5 2 3 3 5 4 5 5]\n",
            " [1 4 3 5 4 5 3 4 1 3 2 4 3 1 2 5 2 4 4 2 3 1 3 5 1 3 5 4 5 4 1 5 3 3 5 2 3 2 2 2 1 5 5 3 3 4 2 5 1 1]\n",
            " [4 3 5 2 4 2 2 3 5 1 4 1 5 3 4 2 2 5 5 1 3 2 4 1 2 1 3 3 5 4 3 3 3 1 3 1 5 2 1 3 4 1 5 4 4 4 1 4 2 3]\n",
            " [1 2 5 3 4 5 5 3 2 3 1 4 4 3 1 1 1 1 3 5 1 5 2 3 2 3 5 2 4 2 2 3 5 2 1 3 2 3 1 1 4 5 2 1 5 1 4 3 5 4]\n",
            " [3 5 3 5 1 1 5 3 3 5 3 4 1 1 5 4 5 4 4 5 1 4 2 5 5 4 3 3 3 3 3 1 3 2 3 4 1 1 2 2 4 4 4 2 4 4 4 2 4 1]\n",
            " [5 1 3 5 5 3 1 4 3 5 1 5 3 4 5 3 5 2 4 5 4 1 4 1 5 4 1 4 2 5 5 3 3 5 3 2 3 4 2 4 4 1 5 4 4 4 4 1 3 4]\n",
            " [2 4 3 4 3 3 1 5 1 2 4 1 1 1 2 3 5 5 3 1 2 1 1 3 5 4 1 3 2 4 4 2 5 5 5 1 2 1 2 3 3 5 3 5 1 3 5 5 2 2]]\n",
            "\n",
            "Assignments:      [ _ _ _ _ _ _ _ _ _ _ _ _ _ _ _ _ _ _ _ _ _ _ _ _ _ _ _ _ _ _ _ _ _ _ _ _ _ _ _ _ _ _ _ _ _ _ _ _ _ _ ]\n",
            "Total cost: 0\n",
            "\n"
          ]
        }
      ],
      "source": [
        "job03 = JobAssignment(n_jobs=10, n_workers=50, max_skill=5, random_state=1)\n",
        "\n",
        "job03.display()"
      ]
    },
    {
      "cell_type": "markdown",
      "source": [
        "## 4.B - Greedy Best First Search\n",
        "\n",
        "You should have noticed in Part 2 that Greedy Best First Search can find decent, but not optimal, solutions to the job assignment quickly. We will use GBF as a benchmark to compare against the solutions found by the genetic algorithm.\n",
        "\n",
        "In the next cell, apply Greedy Best First search to the environment created in Step 4.A. Set a time limit of 2 minutes."
      ],
      "metadata": {
        "id": "mpOHdwywHlgz"
      },
      "id": "mpOHdwywHlgz"
    },
    {
      "cell_type": "code",
      "execution_count": null,
      "id": "82b073c0-3eb8-4ac9-88c9-82bad73f268c",
      "metadata": {
        "id": "82b073c0-3eb8-4ac9-88c9-82bad73f268c",
        "colab": {
          "base_uri": "https://localhost:8080/"
        },
        "outputId": "b29727ac-1463-49c3-9975-c5a63d7056bd"
      },
      "outputs": [
        {
          "output_type": "stream",
          "name": "stdout",
          "text": [
            "[GBF] Solution found.\n",
            "9501 nodes seen.\n",
            "0 nodes skipped\n",
            "26 nodes expanded.\n",
            "9475 nodes remaining in frontier.\n",
            "0.58 seconds elapsed.\n",
            "Assignments: [ _ _ _ _ _ _ _ _ _ _ _ _ _ _ _ _ 8 _ _ _ _ _ _ 8 8 _ _ _ 7 8 9 10 1 1 4 2 6 1 2 6 4 5 6 2 3 3 4 5 7 4 ]\n",
            "Job Reqs:    [ 0 12 13  9 16 10 12  6 16  1  1]\n",
            "Total Skill: [ 0 15 14 10 20 10 13  9 18  5  2]\n",
            "Total Cost:  110\n",
            "\n"
          ]
        }
      ],
      "source": [
        "soln01, log01 = greedy_best_first(env=job03, time_limit=120)"
      ]
    },
    {
      "cell_type": "markdown",
      "source": [
        "## 4.C - Apply Genetic Algorithm\n",
        "\n",
        "Create an instance of the `GeneticAlgorithm` class for the `JobAssignment` instance you created in Step 2.A. Set a population size of 1000. For the sake of reproducibility, set a `random_state` to a value of your choice.\n",
        "\n",
        "Call the `run_evolution()` method to apply the genetic algorithm to the Knapsack environment setting `num_generations` to be 3000 or less and setting `update_rate=500`. Experiment with the reproduction rate and mutation rate until you find a solution **with a cost of 80 or less**.\n",
        "\n",
        "**Note:** You are not required to find an optimal solution to this enviornmnet. But in case you want to try, the cost for an optimal solution is 53."
      ],
      "metadata": {
        "id": "wXWSdUntJDeq"
      },
      "id": "wXWSdUntJDeq"
    },
    {
      "cell_type": "code",
      "execution_count": null,
      "id": "ffa85e4f-ffa2-4fd9-8a6b-2f617361bc62",
      "metadata": {
        "id": "ffa85e4f-ffa2-4fd9-8a6b-2f617361bc62",
        "colab": {
          "base_uri": "https://localhost:8080/"
        },
        "outputId": "bb739aac-425d-4bc7-b88b-66f2ee83ad49"
      },
      "outputs": [
        {
          "output_type": "stream",
          "name": "stdout",
          "text": [
            "Generation 0001: New best score found! Current best score = 309\n",
            "Generation 0030: New best score found! Current best score = 313\n",
            "Generation 0041: New best score found! Current best score = 315\n",
            "Generation 0054: New best score found! Current best score = 317\n",
            "Generation 0072: New best score found! Current best score = 322\n",
            "Generation 0392: New best score found! Current best score = 326\n",
            "Generation 0397: New best score found! Current best score = 333\n",
            "Generation 0500: Q1=0, Med=0, Q3=0, Max=320\n",
            "Generation 0504: New best score found! Current best score = 336\n",
            "Generation 0610: New best score found! Current best score = 338\n",
            "Generation 0612: New best score found! Current best score = 343\n",
            "Generation 0669: New best score found! Current best score = 346\n",
            "Generation 0706: New best score found! Current best score = 349\n",
            "Generation 0728: New best score found! Current best score = 350\n",
            "Generation 0732: New best score found! Current best score = 352\n",
            "Generation 0734: New best score found! Current best score = 355\n",
            "Generation 0742: New best score found! Current best score = 360\n",
            "Generation 0858: New best score found! Current best score = 363\n",
            "Generation 0859: New best score found! Current best score = 369\n",
            "Generation 0878: New best score found! Current best score = 371\n",
            "Generation 0882: New best score found! Current best score = 380\n",
            "Generation 0883: New best score found! Current best score = 381\n",
            "Generation 0975: New best score found! Current best score = 383\n",
            "Generation 1000: Q1=0, Med=0, Q3=0, Max=377\n",
            "Generation 1062: New best score found! Current best score = 386\n",
            "Generation 1077: New best score found! Current best score = 387\n",
            "Generation 1129: New best score found! Current best score = 388\n",
            "Generation 1220: New best score found! Current best score = 395\n",
            "Generation 1313: New best score found! Current best score = 407\n",
            "Generation 1467: New best score found! Current best score = 408\n",
            "Generation 1500: Q1=0, Med=0, Q3=0, Max=404\n",
            "Generation 1516: New best score found! Current best score = 409\n",
            "Generation 1517: New best score found! Current best score = 410\n",
            "Generation 1605: New best score found! Current best score = 412\n",
            "Generation 1606: New best score found! Current best score = 414\n",
            "Generation 1632: New best score found! Current best score = 415\n",
            "Generation 1637: New best score found! Current best score = 422\n",
            "Generation 2000: Q1=0, Med=0, Q3=0, Max=414\n",
            "Generation 2074: New best score found! Current best score = 423\n",
            "Generation 2077: New best score found! Current best score = 427\n",
            "Generation 2500: Q1=0, Med=0, Q3=0, Max=419\n",
            "Generation 2541: New best score found! Current best score = 429\n",
            "Generation 3000: Q1=0, Med=0, Q3=0, Max=427\n"
          ]
        }
      ],
      "source": [
        "gal04 = GeneticAlgorithm(env=job03, pop_size=1000, init_zero=False, random_state=42)\n",
        "\n",
        "soln =  gal04.run_evolution(num_generations=3000, update_rate=500, rr=.45, mr=1e-3)"
      ]
    },
    {
      "cell_type": "markdown",
      "source": [
        "## 4.D - Display the Solution\n",
        "\n",
        "Use the `display()` method to show the details of the solution found in Step 3.C.Set `flags='rcat'` when calling `display()`. This will simplify the output by hiding the workers skills array."
      ],
      "metadata": {
        "id": "PqRhkFtzJ8ZS"
      },
      "id": "PqRhkFtzJ8ZS"
    },
    {
      "cell_type": "code",
      "execution_count": null,
      "id": "f51b1391-4f1c-4a94-a462-a8322549c5ff",
      "metadata": {
        "id": "f51b1391-4f1c-4a94-a462-a8322549c5ff",
        "colab": {
          "base_uri": "https://localhost:8080/"
        },
        "outputId": "49bc2a42-69da-4258-e4f8-6eeb7ca3864c"
      },
      "outputs": [
        {
          "output_type": "stream",
          "name": "stdout",
          "text": [
            "Job Requirements: [ 0 12 13  9 16 10 12  6 16  1  1]\n",
            "Worker Costs:     [8 2 2 5 7 6 7 5 2 2 6 2 3 7 3 4 4 3 4 1 1 2 6 1 6 9 9 1 1 1 9 6 4 5 1 9 7 4 1 9 2 7 7 2 4 8 4 3 4 1]\n",
            "Assignments:      [ _ 8 _ 10 _ _ _ 1 6 2 _ 4 4 _ 8 _ 4 3 6 7 9 8 _ 8 2 _ _ 6 5 6 _ _ _ _ 5 _ _ 7 1 _ 4 _ _ 2 3 _ 1 5 _ 7 ]\n",
            "Total cost: 71\n",
            "\n"
          ]
        }
      ],
      "source": [
        "soln.display(flags='rcat')"
      ]
    },
    {
      "cell_type": "markdown",
      "source": [
        "# Submission Instructions\n",
        "\n",
        "1. Perform a Restart and Run All by clicking **Tools > Restart session and run all**.\n",
        "2. Copy the link to your notebook by clicking **Share > Copy Link**.\n",
        "3. Paste the copied link into the `notebook_url` field in the [Notebook Renderer](https://colab.research.google.com/drive/1CJTipys46ldZxJFwnt7XbdjQUfkmoXeU?usp=sharing) tool and then execute the cell to render the notebook.\n",
        "4. The Notebook Renderer will open up a save file dialog. Save the resulting HTML file yo your local machine.\n",
        "5. Submit the HTML file to Canvas.\n"
      ],
      "metadata": {
        "id": "R6efasxfL87r"
      },
      "id": "R6efasxfL87r"
    }
  ],
  "metadata": {
    "kernelspec": {
      "display_name": "Python 3 (ipykernel)",
      "language": "python",
      "name": "python3"
    },
    "language_info": {
      "codemirror_mode": {
        "name": "ipython",
        "version": 3
      },
      "file_extension": ".py",
      "mimetype": "text/x-python",
      "name": "python",
      "nbconvert_exporter": "python",
      "pygments_lexer": "ipython3",
      "version": "3.9.18"
    },
    "colab": {
      "provenance": [],
      "include_colab_link": true
    }
  },
  "nbformat": 4,
  "nbformat_minor": 5
}