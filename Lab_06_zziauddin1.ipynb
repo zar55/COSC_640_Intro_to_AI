{
  "cells": [
    {
      "cell_type": "markdown",
      "metadata": {
        "id": "view-in-github",
        "colab_type": "text"
      },
      "source": [
        "<a href=\"https://colab.research.google.com/github/zar55/COSC_640_Intro_to_AI/blob/Lab/Lab_06_zziauddin1.ipynb\" target=\"_parent\"><img src=\"https://colab.research.google.com/assets/colab-badge.svg\" alt=\"Open In Colab\"/></a>"
      ]
    },
    {
      "cell_type": "markdown",
      "source": [
        "# COSC-640: Lab 6\n",
        "\n",
        "**Zargham Ziauddin**\n",
        "\n",
        "[PLACEHOLDER_FOR_NOTEBOOK_LINK]\n"
      ],
      "metadata": {
        "id": "Nz2iykx7TUy8"
      },
      "id": "Nz2iykx7TUy8"
    },
    {
      "cell_type": "markdown",
      "id": "edef32b8-886f-4e07-9713-e39eafe8f24a",
      "metadata": {
        "tags": [],
        "id": "edef32b8-886f-4e07-9713-e39eafe8f24a"
      },
      "source": [
        "## Getting Started\n",
        "\n",
        "Follow the instructions below to copy this notebook and to perform some initial setup.\n",
        "\n",
        "1. Copy this notebook by selecting `File > Save a copy in Drive`.\n",
        "2. A new window should open for the copied notebook. Move the new notebook to your course folder in Google Drive by selecting `File > Move` and then selecting the desired folder.\n",
        "3. Update the name of the notebook by removing \"Copy of\" and replacing \"Username\" with your actual username.\n",
        "4. Update the first cell in the notebook by specifying your course number (440 or 640) and by replacing \"**Student Name**\" with your actual name.\n",
        "5. Do not edit the line that says `PLACEHOLDER_FOR_NOTEBOOK_LINK`. This will be used by the [Notebook Renderer](https://colab.research.google.com/drive/1CJTipys46ldZxJFwnt7XbdjQUfkmoXeU?usp=sharing) tool to insert a link to your Colab notebook.\n",
        "6. Enable link sharing for your notebook."
      ]
    },
    {
      "cell_type": "markdown",
      "source": [
        "## Preparing the Colab Environment\n",
        "\n",
        "Run the cell below to download and extract the datasets required for this lab. All of the required datasets will then be stored on the Colab VM in a folder named `data/`."
      ],
      "metadata": {
        "id": "sLbYRf5WTZ0f"
      },
      "id": "sLbYRf5WTZ0f"
    },
    {
      "cell_type": "code",
      "source": [
        "%%capture\n",
        "!wget -nc https://github.com/drbeane/datasets/raw/main/COSC_640_data.zip\n",
        "!unzip -n COSC_640_data.zip -d data/"
      ],
      "metadata": {
        "id": "8aELgQQ2TdEt"
      },
      "id": "8aELgQQ2TdEt",
      "execution_count": null,
      "outputs": []
    },
    {
      "cell_type": "markdown",
      "source": [
        "Run the cell below to import the necessary tools for this assignment. No other import statements are required for this lab, and no other import statements should be included in this assignment."
      ],
      "metadata": {
        "id": "IAIP4jp7TcHT"
      },
      "id": "IAIP4jp7TcHT"
    },
    {
      "cell_type": "code",
      "execution_count": null,
      "id": "36db57f8-b0ac-4d38-8ee3-b7da3499a6ce",
      "metadata": {
        "id": "36db57f8-b0ac-4d38-8ee3-b7da3499a6ce"
      },
      "outputs": [],
      "source": [
        "import numpy as np\n",
        "import pandas as pd\n",
        "import matplotlib.pyplot as plt\n",
        "\n",
        "from sklearn.linear_model import LogisticRegression\n",
        "from sklearn.neighbors import KNeighborsClassifier\n",
        "from sklearn.tree import DecisionTreeClassifier\n",
        "from sklearn.ensemble import RandomForestClassifier\n",
        "\n",
        "from sklearn.preprocessing import StandardScaler, OneHotEncoder\n",
        "from sklearn.compose  import ColumnTransformer\n",
        "\n",
        "from sklearn.model_selection import cross_val_score, cross_val_predict, GridSearchCV\n",
        "from sklearn.metrics import classification_report, confusion_matrix"
      ]
    },
    {
      "cell_type": "markdown",
      "id": "c0cbc112-67a9-41f7-91a0-813fd2d82fa5",
      "metadata": {
        "id": "c0cbc112-67a9-41f7-91a0-813fd2d82fa5"
      },
      "source": [
        "# Part 1: Data Preparation (Census Data)\n",
        "\n",
        "In Parts 1 and 2, you will be working with the \"Census Income\" dataset. In Part 1, you will prepare the data and in Part 2, you will select, train, and apply a model.\n",
        "\n",
        "Your goal will be to create a model to predict whether or not an individual has an annual salary greater than $50,000 based on various demographic factors. You can find more information about the dataset, including a description of the features here: [Census Income Dataset](https://archive.ics.uci.edu/ml/datasets/adult).\n",
        "\n",
        "Note that the label values are stored in the `income` column. All other columns represent features. All feature columns containing numerical values represent numerical features and all feature columns containing string values represent categorical features.\n",
        "\n",
        "**Note:** In the interest of time, you will work with only half of the Census dataset in Parts 1 and 2. Some of the cross validations steps would require a significant amount of time to run in the Colab environment if we were to run them on the entire dataset."
      ]
    },
    {
      "cell_type": "markdown",
      "source": [
        "## 1.A - Load the Data\n",
        "\n",
        "Load the data from the file `data/census.csv` into a DataFrame. Use the `sample()` method to shuffle the data, setting `frac=0.5` and `random_state=1`. Display the head of the DataFrame.\n",
        "\n",
        "**Pay careful attention to the instructions above regarding the parameters for `sample()`.**"
      ],
      "metadata": {
        "id": "Zacd8XxBUDC3"
      },
      "id": "Zacd8XxBUDC3"
    },
    {
      "cell_type": "code",
      "execution_count": null,
      "id": "f6e6e427-b22d-49cc-8b42-ae23d962c0fc",
      "metadata": {
        "id": "f6e6e427-b22d-49cc-8b42-ae23d962c0fc",
        "colab": {
          "base_uri": "https://localhost:8080/",
          "height": 293
        },
        "outputId": "479fc2ad-396a-4a69-fcb8-d59b4040b91d"
      },
      "outputs": [
        {
          "output_type": "execute_result",
          "data": {
            "text/plain": [
              "       age    workclass  fnlwgt  education  educ_num      marital_status  \\\n",
              "9646    24      Private  336088    HS-grad         9            Divorced   \n",
              "709     34  Federal-gov  190228  Bachelors        13  Married-civ-spouse   \n",
              "7385    18      Private  104704    HS-grad         9       Never-married   \n",
              "16671   44      Private   36271  Bachelors        13  Married-civ-spouse   \n",
              "21932   27      Private  178709    Masters        14       Never-married   \n",
              "\n",
              "              occupation   relationship                race     sex  \\\n",
              "9646     Exec-managerial  Not-in-family  Amer-Indian-Eskimo  Female   \n",
              "709      Protective-serv        Husband               White    Male   \n",
              "7385        Adm-clerical      Own-child               Black    Male   \n",
              "16671       Craft-repair        Husband               White    Male   \n",
              "21932  Machine-op-inspct  Not-in-family               White  Female   \n",
              "\n",
              "       capital_gain  capital_loss  hrs_per_week native_country income  \n",
              "9646              0             0            50  United-States  <=50K  \n",
              "709               0          1902            48  United-States   >50K  \n",
              "7385              0             0            40  United-States  <=50K  \n",
              "16671             0             0            40  United-States  <=50K  \n",
              "21932             0             0            40  United-States  <=50K  "
            ],
            "text/html": [
              "\n",
              "  <div id=\"df-58510968-4cd0-486f-8195-9078f100522c\" class=\"colab-df-container\">\n",
              "    <div>\n",
              "<style scoped>\n",
              "    .dataframe tbody tr th:only-of-type {\n",
              "        vertical-align: middle;\n",
              "    }\n",
              "\n",
              "    .dataframe tbody tr th {\n",
              "        vertical-align: top;\n",
              "    }\n",
              "\n",
              "    .dataframe thead th {\n",
              "        text-align: right;\n",
              "    }\n",
              "</style>\n",
              "<table border=\"1\" class=\"dataframe\">\n",
              "  <thead>\n",
              "    <tr style=\"text-align: right;\">\n",
              "      <th></th>\n",
              "      <th>age</th>\n",
              "      <th>workclass</th>\n",
              "      <th>fnlwgt</th>\n",
              "      <th>education</th>\n",
              "      <th>educ_num</th>\n",
              "      <th>marital_status</th>\n",
              "      <th>occupation</th>\n",
              "      <th>relationship</th>\n",
              "      <th>race</th>\n",
              "      <th>sex</th>\n",
              "      <th>capital_gain</th>\n",
              "      <th>capital_loss</th>\n",
              "      <th>hrs_per_week</th>\n",
              "      <th>native_country</th>\n",
              "      <th>income</th>\n",
              "    </tr>\n",
              "  </thead>\n",
              "  <tbody>\n",
              "    <tr>\n",
              "      <th>9646</th>\n",
              "      <td>24</td>\n",
              "      <td>Private</td>\n",
              "      <td>336088</td>\n",
              "      <td>HS-grad</td>\n",
              "      <td>9</td>\n",
              "      <td>Divorced</td>\n",
              "      <td>Exec-managerial</td>\n",
              "      <td>Not-in-family</td>\n",
              "      <td>Amer-Indian-Eskimo</td>\n",
              "      <td>Female</td>\n",
              "      <td>0</td>\n",
              "      <td>0</td>\n",
              "      <td>50</td>\n",
              "      <td>United-States</td>\n",
              "      <td>&lt;=50K</td>\n",
              "    </tr>\n",
              "    <tr>\n",
              "      <th>709</th>\n",
              "      <td>34</td>\n",
              "      <td>Federal-gov</td>\n",
              "      <td>190228</td>\n",
              "      <td>Bachelors</td>\n",
              "      <td>13</td>\n",
              "      <td>Married-civ-spouse</td>\n",
              "      <td>Protective-serv</td>\n",
              "      <td>Husband</td>\n",
              "      <td>White</td>\n",
              "      <td>Male</td>\n",
              "      <td>0</td>\n",
              "      <td>1902</td>\n",
              "      <td>48</td>\n",
              "      <td>United-States</td>\n",
              "      <td>&gt;50K</td>\n",
              "    </tr>\n",
              "    <tr>\n",
              "      <th>7385</th>\n",
              "      <td>18</td>\n",
              "      <td>Private</td>\n",
              "      <td>104704</td>\n",
              "      <td>HS-grad</td>\n",
              "      <td>9</td>\n",
              "      <td>Never-married</td>\n",
              "      <td>Adm-clerical</td>\n",
              "      <td>Own-child</td>\n",
              "      <td>Black</td>\n",
              "      <td>Male</td>\n",
              "      <td>0</td>\n",
              "      <td>0</td>\n",
              "      <td>40</td>\n",
              "      <td>United-States</td>\n",
              "      <td>&lt;=50K</td>\n",
              "    </tr>\n",
              "    <tr>\n",
              "      <th>16671</th>\n",
              "      <td>44</td>\n",
              "      <td>Private</td>\n",
              "      <td>36271</td>\n",
              "      <td>Bachelors</td>\n",
              "      <td>13</td>\n",
              "      <td>Married-civ-spouse</td>\n",
              "      <td>Craft-repair</td>\n",
              "      <td>Husband</td>\n",
              "      <td>White</td>\n",
              "      <td>Male</td>\n",
              "      <td>0</td>\n",
              "      <td>0</td>\n",
              "      <td>40</td>\n",
              "      <td>United-States</td>\n",
              "      <td>&lt;=50K</td>\n",
              "    </tr>\n",
              "    <tr>\n",
              "      <th>21932</th>\n",
              "      <td>27</td>\n",
              "      <td>Private</td>\n",
              "      <td>178709</td>\n",
              "      <td>Masters</td>\n",
              "      <td>14</td>\n",
              "      <td>Never-married</td>\n",
              "      <td>Machine-op-inspct</td>\n",
              "      <td>Not-in-family</td>\n",
              "      <td>White</td>\n",
              "      <td>Female</td>\n",
              "      <td>0</td>\n",
              "      <td>0</td>\n",
              "      <td>40</td>\n",
              "      <td>United-States</td>\n",
              "      <td>&lt;=50K</td>\n",
              "    </tr>\n",
              "  </tbody>\n",
              "</table>\n",
              "</div>\n",
              "    <div class=\"colab-df-buttons\">\n",
              "\n",
              "  <div class=\"colab-df-container\">\n",
              "    <button class=\"colab-df-convert\" onclick=\"convertToInteractive('df-58510968-4cd0-486f-8195-9078f100522c')\"\n",
              "            title=\"Convert this dataframe to an interactive table.\"\n",
              "            style=\"display:none;\">\n",
              "\n",
              "  <svg xmlns=\"http://www.w3.org/2000/svg\" height=\"24px\" viewBox=\"0 -960 960 960\">\n",
              "    <path d=\"M120-120v-720h720v720H120Zm60-500h600v-160H180v160Zm220 220h160v-160H400v160Zm0 220h160v-160H400v160ZM180-400h160v-160H180v160Zm440 0h160v-160H620v160ZM180-180h160v-160H180v160Zm440 0h160v-160H620v160Z\"/>\n",
              "  </svg>\n",
              "    </button>\n",
              "\n",
              "  <style>\n",
              "    .colab-df-container {\n",
              "      display:flex;\n",
              "      gap: 12px;\n",
              "    }\n",
              "\n",
              "    .colab-df-convert {\n",
              "      background-color: #E8F0FE;\n",
              "      border: none;\n",
              "      border-radius: 50%;\n",
              "      cursor: pointer;\n",
              "      display: none;\n",
              "      fill: #1967D2;\n",
              "      height: 32px;\n",
              "      padding: 0 0 0 0;\n",
              "      width: 32px;\n",
              "    }\n",
              "\n",
              "    .colab-df-convert:hover {\n",
              "      background-color: #E2EBFA;\n",
              "      box-shadow: 0px 1px 2px rgba(60, 64, 67, 0.3), 0px 1px 3px 1px rgba(60, 64, 67, 0.15);\n",
              "      fill: #174EA6;\n",
              "    }\n",
              "\n",
              "    .colab-df-buttons div {\n",
              "      margin-bottom: 4px;\n",
              "    }\n",
              "\n",
              "    [theme=dark] .colab-df-convert {\n",
              "      background-color: #3B4455;\n",
              "      fill: #D2E3FC;\n",
              "    }\n",
              "\n",
              "    [theme=dark] .colab-df-convert:hover {\n",
              "      background-color: #434B5C;\n",
              "      box-shadow: 0px 1px 3px 1px rgba(0, 0, 0, 0.15);\n",
              "      filter: drop-shadow(0px 1px 2px rgba(0, 0, 0, 0.3));\n",
              "      fill: #FFFFFF;\n",
              "    }\n",
              "  </style>\n",
              "\n",
              "    <script>\n",
              "      const buttonEl =\n",
              "        document.querySelector('#df-58510968-4cd0-486f-8195-9078f100522c button.colab-df-convert');\n",
              "      buttonEl.style.display =\n",
              "        google.colab.kernel.accessAllowed ? 'block' : 'none';\n",
              "\n",
              "      async function convertToInteractive(key) {\n",
              "        const element = document.querySelector('#df-58510968-4cd0-486f-8195-9078f100522c');\n",
              "        const dataTable =\n",
              "          await google.colab.kernel.invokeFunction('convertToInteractive',\n",
              "                                                    [key], {});\n",
              "        if (!dataTable) return;\n",
              "\n",
              "        const docLinkHtml = 'Like what you see? Visit the ' +\n",
              "          '<a target=\"_blank\" href=https://colab.research.google.com/notebooks/data_table.ipynb>data table notebook</a>'\n",
              "          + ' to learn more about interactive tables.';\n",
              "        element.innerHTML = '';\n",
              "        dataTable['output_type'] = 'display_data';\n",
              "        await google.colab.output.renderOutput(dataTable, element);\n",
              "        const docLink = document.createElement('div');\n",
              "        docLink.innerHTML = docLinkHtml;\n",
              "        element.appendChild(docLink);\n",
              "      }\n",
              "    </script>\n",
              "  </div>\n",
              "\n",
              "\n",
              "<div id=\"df-6d8b810d-c1e2-414b-aded-a1da13377ab7\">\n",
              "  <button class=\"colab-df-quickchart\" onclick=\"quickchart('df-6d8b810d-c1e2-414b-aded-a1da13377ab7')\"\n",
              "            title=\"Suggest charts\"\n",
              "            style=\"display:none;\">\n",
              "\n",
              "<svg xmlns=\"http://www.w3.org/2000/svg\" height=\"24px\"viewBox=\"0 0 24 24\"\n",
              "     width=\"24px\">\n",
              "    <g>\n",
              "        <path d=\"M19 3H5c-1.1 0-2 .9-2 2v14c0 1.1.9 2 2 2h14c1.1 0 2-.9 2-2V5c0-1.1-.9-2-2-2zM9 17H7v-7h2v7zm4 0h-2V7h2v10zm4 0h-2v-4h2v4z\"/>\n",
              "    </g>\n",
              "</svg>\n",
              "  </button>\n",
              "\n",
              "<style>\n",
              "  .colab-df-quickchart {\n",
              "      --bg-color: #E8F0FE;\n",
              "      --fill-color: #1967D2;\n",
              "      --hover-bg-color: #E2EBFA;\n",
              "      --hover-fill-color: #174EA6;\n",
              "      --disabled-fill-color: #AAA;\n",
              "      --disabled-bg-color: #DDD;\n",
              "  }\n",
              "\n",
              "  [theme=dark] .colab-df-quickchart {\n",
              "      --bg-color: #3B4455;\n",
              "      --fill-color: #D2E3FC;\n",
              "      --hover-bg-color: #434B5C;\n",
              "      --hover-fill-color: #FFFFFF;\n",
              "      --disabled-bg-color: #3B4455;\n",
              "      --disabled-fill-color: #666;\n",
              "  }\n",
              "\n",
              "  .colab-df-quickchart {\n",
              "    background-color: var(--bg-color);\n",
              "    border: none;\n",
              "    border-radius: 50%;\n",
              "    cursor: pointer;\n",
              "    display: none;\n",
              "    fill: var(--fill-color);\n",
              "    height: 32px;\n",
              "    padding: 0;\n",
              "    width: 32px;\n",
              "  }\n",
              "\n",
              "  .colab-df-quickchart:hover {\n",
              "    background-color: var(--hover-bg-color);\n",
              "    box-shadow: 0 1px 2px rgba(60, 64, 67, 0.3), 0 1px 3px 1px rgba(60, 64, 67, 0.15);\n",
              "    fill: var(--button-hover-fill-color);\n",
              "  }\n",
              "\n",
              "  .colab-df-quickchart-complete:disabled,\n",
              "  .colab-df-quickchart-complete:disabled:hover {\n",
              "    background-color: var(--disabled-bg-color);\n",
              "    fill: var(--disabled-fill-color);\n",
              "    box-shadow: none;\n",
              "  }\n",
              "\n",
              "  .colab-df-spinner {\n",
              "    border: 2px solid var(--fill-color);\n",
              "    border-color: transparent;\n",
              "    border-bottom-color: var(--fill-color);\n",
              "    animation:\n",
              "      spin 1s steps(1) infinite;\n",
              "  }\n",
              "\n",
              "  @keyframes spin {\n",
              "    0% {\n",
              "      border-color: transparent;\n",
              "      border-bottom-color: var(--fill-color);\n",
              "      border-left-color: var(--fill-color);\n",
              "    }\n",
              "    20% {\n",
              "      border-color: transparent;\n",
              "      border-left-color: var(--fill-color);\n",
              "      border-top-color: var(--fill-color);\n",
              "    }\n",
              "    30% {\n",
              "      border-color: transparent;\n",
              "      border-left-color: var(--fill-color);\n",
              "      border-top-color: var(--fill-color);\n",
              "      border-right-color: var(--fill-color);\n",
              "    }\n",
              "    40% {\n",
              "      border-color: transparent;\n",
              "      border-right-color: var(--fill-color);\n",
              "      border-top-color: var(--fill-color);\n",
              "    }\n",
              "    60% {\n",
              "      border-color: transparent;\n",
              "      border-right-color: var(--fill-color);\n",
              "    }\n",
              "    80% {\n",
              "      border-color: transparent;\n",
              "      border-right-color: var(--fill-color);\n",
              "      border-bottom-color: var(--fill-color);\n",
              "    }\n",
              "    90% {\n",
              "      border-color: transparent;\n",
              "      border-bottom-color: var(--fill-color);\n",
              "    }\n",
              "  }\n",
              "</style>\n",
              "\n",
              "  <script>\n",
              "    async function quickchart(key) {\n",
              "      const quickchartButtonEl =\n",
              "        document.querySelector('#' + key + ' button');\n",
              "      quickchartButtonEl.disabled = true;  // To prevent multiple clicks.\n",
              "      quickchartButtonEl.classList.add('colab-df-spinner');\n",
              "      try {\n",
              "        const charts = await google.colab.kernel.invokeFunction(\n",
              "            'suggestCharts', [key], {});\n",
              "      } catch (error) {\n",
              "        console.error('Error during call to suggestCharts:', error);\n",
              "      }\n",
              "      quickchartButtonEl.classList.remove('colab-df-spinner');\n",
              "      quickchartButtonEl.classList.add('colab-df-quickchart-complete');\n",
              "    }\n",
              "    (() => {\n",
              "      let quickchartButtonEl =\n",
              "        document.querySelector('#df-6d8b810d-c1e2-414b-aded-a1da13377ab7 button');\n",
              "      quickchartButtonEl.style.display =\n",
              "        google.colab.kernel.accessAllowed ? 'block' : 'none';\n",
              "    })();\n",
              "  </script>\n",
              "</div>\n",
              "\n",
              "    </div>\n",
              "  </div>\n"
            ],
            "application/vnd.google.colaboratory.intrinsic+json": {
              "type": "dataframe",
              "variable_name": "census",
              "summary": "{\n  \"name\": \"census\",\n  \"rows\": 16280,\n  \"fields\": [\n    {\n      \"column\": \"age\",\n      \"properties\": {\n        \"dtype\": \"number\",\n        \"std\": 13,\n        \"min\": 17,\n        \"max\": 90,\n        \"num_unique_values\": 71,\n        \"samples\": [\n          41,\n          24,\n          53\n        ],\n        \"semantic_type\": \"\",\n        \"description\": \"\"\n      }\n    },\n    {\n      \"column\": \"workclass\",\n      \"properties\": {\n        \"dtype\": \"category\",\n        \"num_unique_values\": 8,\n        \"samples\": [\n          \"Federal-gov\",\n          \"State-gov\",\n          \"Private\"\n        ],\n        \"semantic_type\": \"\",\n        \"description\": \"\"\n      }\n    },\n    {\n      \"column\": \"fnlwgt\",\n      \"properties\": {\n        \"dtype\": \"number\",\n        \"std\": 108081,\n        \"min\": 12285,\n        \"max\": 1484705,\n        \"num_unique_values\": 12835,\n        \"samples\": [\n          99270,\n          172071,\n          138634\n        ],\n        \"semantic_type\": \"\",\n        \"description\": \"\"\n      }\n    },\n    {\n      \"column\": \"education\",\n      \"properties\": {\n        \"dtype\": \"category\",\n        \"num_unique_values\": 16,\n        \"samples\": [\n          \"HS-grad\",\n          \"Bachelors\",\n          \"9th\"\n        ],\n        \"semantic_type\": \"\",\n        \"description\": \"\"\n      }\n    },\n    {\n      \"column\": \"educ_num\",\n      \"properties\": {\n        \"dtype\": \"number\",\n        \"std\": 2,\n        \"min\": 1,\n        \"max\": 16,\n        \"num_unique_values\": 16,\n        \"samples\": [\n          9,\n          13,\n          5\n        ],\n        \"semantic_type\": \"\",\n        \"description\": \"\"\n      }\n    },\n    {\n      \"column\": \"marital_status\",\n      \"properties\": {\n        \"dtype\": \"category\",\n        \"num_unique_values\": 7,\n        \"samples\": [\n          \"Divorced\",\n          \"Married-civ-spouse\",\n          \"Widowed\"\n        ],\n        \"semantic_type\": \"\",\n        \"description\": \"\"\n      }\n    },\n    {\n      \"column\": \"occupation\",\n      \"properties\": {\n        \"dtype\": \"category\",\n        \"num_unique_values\": 14,\n        \"samples\": [\n          \"Handlers-cleaners\",\n          \"Tech-support\",\n          \"Exec-managerial\"\n        ],\n        \"semantic_type\": \"\",\n        \"description\": \"\"\n      }\n    },\n    {\n      \"column\": \"relationship\",\n      \"properties\": {\n        \"dtype\": \"category\",\n        \"num_unique_values\": 6,\n        \"samples\": [\n          \"Not-in-family\",\n          \"Husband\",\n          \"Other-relative\"\n        ],\n        \"semantic_type\": \"\",\n        \"description\": \"\"\n      }\n    },\n    {\n      \"column\": \"race\",\n      \"properties\": {\n        \"dtype\": \"category\",\n        \"num_unique_values\": 5,\n        \"samples\": [\n          \"White\",\n          \"Other\",\n          \"Black\"\n        ],\n        \"semantic_type\": \"\",\n        \"description\": \"\"\n      }\n    },\n    {\n      \"column\": \"sex\",\n      \"properties\": {\n        \"dtype\": \"category\",\n        \"num_unique_values\": 2,\n        \"samples\": [\n          \"Male\",\n          \"Female\"\n        ],\n        \"semantic_type\": \"\",\n        \"description\": \"\"\n      }\n    },\n    {\n      \"column\": \"capital_gain\",\n      \"properties\": {\n        \"dtype\": \"number\",\n        \"std\": 7190,\n        \"min\": 0,\n        \"max\": 99999,\n        \"num_unique_values\": 113,\n        \"samples\": [\n          6097,\n          1409\n        ],\n        \"semantic_type\": \"\",\n        \"description\": \"\"\n      }\n    },\n    {\n      \"column\": \"capital_loss\",\n      \"properties\": {\n        \"dtype\": \"number\",\n        \"std\": 412,\n        \"min\": 0,\n        \"max\": 4356,\n        \"num_unique_values\": 80,\n        \"samples\": [\n          1504,\n          0\n        ],\n        \"semantic_type\": \"\",\n        \"description\": \"\"\n      }\n    },\n    {\n      \"column\": \"hrs_per_week\",\n      \"properties\": {\n        \"dtype\": \"number\",\n        \"std\": 12,\n        \"min\": 1,\n        \"max\": 99,\n        \"num_unique_values\": 88,\n        \"samples\": [\n          13,\n          50\n        ],\n        \"semantic_type\": \"\",\n        \"description\": \"\"\n      }\n    },\n    {\n      \"column\": \"native_country\",\n      \"properties\": {\n        \"dtype\": \"category\",\n        \"num_unique_values\": 41,\n        \"samples\": [\n          \"Taiwan\",\n          \"Cuba\"\n        ],\n        \"semantic_type\": \"\",\n        \"description\": \"\"\n      }\n    },\n    {\n      \"column\": \"income\",\n      \"properties\": {\n        \"dtype\": \"category\",\n        \"num_unique_values\": 2,\n        \"samples\": [\n          \">50K\",\n          \"<=50K\"\n        ],\n        \"semantic_type\": \"\",\n        \"description\": \"\"\n      }\n    }\n  ]\n}"
            }
          },
          "metadata": {},
          "execution_count": 3
        }
      ],
      "source": [
        "census = pd.read_csv('data/census.csv')\n",
        "census = census.sample(frac=.5, random_state=1)\n",
        "census.head()"
      ]
    },
    {
      "cell_type": "markdown",
      "source": [
        "## 1.B - Label Distribution\n",
        "\n",
        "Create a label array and use `value_counts()` to display the distribution of the label values as proportions."
      ],
      "metadata": {
        "id": "l57rT-EiUQew"
      },
      "id": "l57rT-EiUQew"
    },
    {
      "cell_type": "code",
      "execution_count": null,
      "id": "3cbe555d-633f-46be-8a95-db68bdf8ade2",
      "metadata": {
        "id": "3cbe555d-633f-46be-8a95-db68bdf8ade2",
        "colab": {
          "base_uri": "https://localhost:8080/"
        },
        "outputId": "b84538e5-aef6-469b-eb95-e362d26b1962"
      },
      "outputs": [
        {
          "output_type": "stream",
          "name": "stdout",
          "text": [
            "['<=50K' '>50K' '<=50K' ... '<=50K' '>50K' '<=50K']\n",
            "<=50K    0.75688\n",
            ">50K     0.24312\n",
            "Name: income, dtype: float64\n"
          ]
        }
      ],
      "source": [
        "census_label = census.income.values\n",
        "print(census_label)\n",
        "\n",
        "census_value_counts = census.income.value_counts(normalize=True)\n",
        "print(census_value_counts)"
      ]
    },
    {
      "cell_type": "markdown",
      "source": [
        "## 1.C - Grouping Features\n",
        "\n",
        "Create lists containing the names of the numerical and categorical features. Print these lists along with messages indicating which features are numerical and which are categorical."
      ],
      "metadata": {
        "id": "o_C9X4NVUf64"
      },
      "id": "o_C9X4NVUf64"
    },
    {
      "cell_type": "code",
      "execution_count": null,
      "id": "e4befd54-88e0-4e37-8921-18794125c872",
      "metadata": {
        "id": "e4befd54-88e0-4e37-8921-18794125c872",
        "colab": {
          "base_uri": "https://localhost:8080/"
        },
        "outputId": "ad4f0df6-7c5a-4da5-9a82-198f488a37cd"
      },
      "outputs": [
        {
          "output_type": "stream",
          "name": "stdout",
          "text": [
            "Numerical Feature: ['age', 'fnlwgt', 'educ_num', 'capital_gain', 'capital_loss', 'hrs_per_week'] \n",
            "Categorical Feature: ['workclass', 'education', 'marital_status', 'occupation', 'relationship', 'race', 'sex', 'native_country']\n"
          ]
        }
      ],
      "source": [
        "census_numerical_feature = census.select_dtypes(include=['int64', 'float64']).columns.tolist()\n",
        "census_categorical_feature = census.drop(columns=['income']).select_dtypes(include=['object']).columns.tolist()\n",
        "\n",
        "print(f\"Numerical Feature: {census_numerical_feature} \\nCategorical Feature: {census_categorical_feature}\")"
      ]
    },
    {
      "cell_type": "markdown",
      "source": [
        "## 1.D - Counting Levels\n",
        "\n",
        "Determine the number of levels for each categorical feature. Display the results my printing a message of the following form for each feature:\n",
        "\n",
        "    [feature] has [num_levels] levels.\n",
        "\n",
        "The bracketed expressions should be replaced with the appropriate values."
      ],
      "metadata": {
        "id": "0rfebTT1UjQ-"
      },
      "id": "0rfebTT1UjQ-"
    },
    {
      "cell_type": "code",
      "execution_count": null,
      "id": "8d1eaa53-2b0e-42fb-8496-1aa7aa6e7d52",
      "metadata": {
        "id": "8d1eaa53-2b0e-42fb-8496-1aa7aa6e7d52",
        "colab": {
          "base_uri": "https://localhost:8080/"
        },
        "outputId": "ecbc5f83-6675-40e2-8b8e-dcf012cd8e50"
      },
      "outputs": [
        {
          "output_type": "stream",
          "name": "stdout",
          "text": [
            "workclass has 9 levels.\n",
            "education has 16 levels.\n",
            "marital_status has 7 levels.\n",
            "occupation has 15 levels.\n",
            "relationship has 6 levels.\n",
            "race has 5 levels.\n",
            "sex has 2 levels.\n",
            "native_country has 42 levels.\n"
          ]
        }
      ],
      "source": [
        "for feature in census_categorical_feature:\n",
        "    num_levels = len(census[feature].unique())\n",
        "    print(f\"{feature} has {num_levels} levels.\")"
      ]
    },
    {
      "cell_type": "markdown",
      "source": [
        "## 1.E - Data Preprocessing\n",
        "\n",
        "Create instances of `StandardScaler` and `OneHotEncoder` and then use them to create an instance of `ColumnTransformer`, applying each preprocessing object to the appropriate columns. Then fit and apply your `ColumnTransformer` to the DataFrame containing your training data. Store the resulting feature array in a variable."
      ],
      "metadata": {
        "id": "EyBSxwOPU-40"
      },
      "id": "EyBSxwOPU-40"
    },
    {
      "cell_type": "code",
      "execution_count": null,
      "id": "65a7697d-10ab-4b9b-847d-e5606e846468",
      "metadata": {
        "id": "65a7697d-10ab-4b9b-847d-e5606e846468",
        "colab": {
          "base_uri": "https://localhost:8080/"
        },
        "outputId": "18f218ba-73c0-419b-947b-bb829088620e"
      },
      "outputs": [
        {
          "output_type": "stream",
          "name": "stdout",
          "text": [
            "  (0, 0)\t-1.077435668634231\n",
            "  (0, 1)\t1.352544566713086\n",
            "  (0, 2)\t-0.4188991274982127\n",
            "  (0, 3)\t-0.14692650334080548\n",
            "  (0, 4)\t-0.2195813567011641\n",
            "  (0, 5)\t0.7669276729263145\n",
            "  (0, 9)\t1.0\n",
            "  (0, 26)\t1.0\n",
            "  (0, 31)\t1.0\n",
            "  (0, 41)\t1.0\n",
            "  (0, 54)\t1.0\n",
            "  (0, 59)\t1.0\n",
            "  (0, 64)\t1.0\n",
            "  (0, 104)\t1.0\n",
            "  (1, 0)\t-0.3406780089765004\n",
            "  (1, 1)\t0.0029626172563532952\n",
            "  (1, 2)\t1.1420250646901373\n",
            "  (1, 3)\t-0.14692650334080548\n",
            "  (1, 4)\t4.393541387419398\n",
            "  (1, 5)\t0.606039284244798\n",
            "  (1, 6)\t1.0\n",
            "  (1, 24)\t1.0\n",
            "  (1, 33)\t1.0\n",
            "  (1, 48)\t1.0\n",
            "  (1, 53)\t1.0\n",
            "  :\t:\n",
            "  (16278, 3)\t-0.14692650334080548\n",
            "  (16278, 4)\t-0.2195813567011641\n",
            "  (16278, 5)\t-0.03751427048126766\n",
            "  (16278, 7)\t1.0\n",
            "  (16278, 30)\t1.0\n",
            "  (16278, 33)\t1.0\n",
            "  (16278, 41)\t1.0\n",
            "  (16278, 53)\t1.0\n",
            "  (16278, 63)\t1.0\n",
            "  (16278, 65)\t1.0\n",
            "  (16278, 104)\t1.0\n",
            "  (16279, 0)\t-0.8564083707369119\n",
            "  (16279, 1)\t-1.0719286087979971\n",
            "  (16279, 2)\t1.1420250646901373\n",
            "  (16279, 3)\t-0.14692650334080548\n",
            "  (16279, 4)\t-0.2195813567011641\n",
            "  (16279, 5)\t0.7669276729263145\n",
            "  (16279, 7)\t1.0\n",
            "  (16279, 24)\t1.0\n",
            "  (16279, 35)\t1.0\n",
            "  (16279, 50)\t1.0\n",
            "  (16279, 54)\t1.0\n",
            "  (16279, 63)\t1.0\n",
            "  (16279, 65)\t1.0\n",
            "  (16279, 104)\t1.0\n"
          ]
        }
      ],
      "source": [
        "scaler = StandardScaler()\n",
        "encoder = OneHotEncoder()\n",
        "\n",
        "preprocessor = ColumnTransformer(\n",
        "    transformers=[\n",
        "        ('numeric', scaler, census_numerical_feature),\n",
        "        ('categorical', encoder, census_categorical_feature)\n",
        "    ]\n",
        "    )\n",
        "census_preprocessed_feature = preprocessor.fit_transform(census)\n",
        "\n",
        "print(census_preprocessed_feature)"
      ]
    },
    {
      "cell_type": "markdown",
      "id": "b8c2a71d-7533-4fc4-9eff-147a26a42cd3",
      "metadata": {
        "id": "b8c2a71d-7533-4fc4-9eff-147a26a42cd3"
      },
      "source": [
        "# Part 2: Selecting and Applying a Model (Census Data)\n",
        "\n",
        "We will now perform hyperparameter tuning and model selection. After identifying the preferred model, we will analyze its preformance."
      ]
    },
    {
      "cell_type": "markdown",
      "source": [
        "## 2.A - Cross Validation for Logistic Regression\n",
        "\n",
        "Create an instance of `LogisticRegression`. Use `cross_value_score()` to estimate the model's out-of-sample\n",
        "performance on the dataset. Use 5-fold CV with accuracy as the metric. Print the scores for each fold, as well as mean score. Round all scores to 3 decimal places."
      ],
      "metadata": {
        "id": "us0nPko1VnVy"
      },
      "id": "us0nPko1VnVy"
    },
    {
      "cell_type": "code",
      "execution_count": null,
      "id": "0bfb9251-6063-4ce8-8c07-49e2fc91cb2c",
      "metadata": {
        "id": "0bfb9251-6063-4ce8-8c07-49e2fc91cb2c",
        "colab": {
          "base_uri": "https://localhost:8080/"
        },
        "outputId": "3562a6bd-ccd4-4844-97f9-7aac1b79bde1"
      },
      "outputs": [
        {
          "output_type": "stream",
          "name": "stdout",
          "text": [
            "Scores: [0.86  0.86  0.86  0.851 0.857]\n",
            "Mean Score: 0.857\n"
          ]
        }
      ],
      "source": [
        "census_lr = LogisticRegression()\n",
        "\n",
        "score = cross_val_score(census_lr, census_preprocessed_feature, census_label, scoring='accuracy', cv=5, n_jobs=-1)\n",
        "\n",
        "print(f\"Scores: {score.round(3)}\")\n",
        "print(f\"Mean Score: {score.mean().round(3)}\")"
      ]
    },
    {
      "cell_type": "markdown",
      "source": [
        "## 2.B - Hyperparameter Tuning for KNN\n",
        "\n",
        "Create an instance of `KNeighborsClassifier` specifying no parameter values.  Use `GridSearchCV` to perform hyperparameter tuning with 5-fold cross validation for your KNN model. Score your models according to accuracy. Tune over the `n_neighbors` parameter, considering the following hyperparameter values: **16, 18, 20, 22, 24**\n",
        "\n",
        "Print the best hyperparameter value found by grid search, as well as the best score found. Add text to indicate the meaning of these values in the output."
      ],
      "metadata": {
        "id": "o3pIBb_3VyVq"
      },
      "id": "o3pIBb_3VyVq"
    },
    {
      "cell_type": "code",
      "source": [
        "census_neighbor = KNeighborsClassifier()\n",
        "\n",
        "census_knn_params = {\n",
        "    'n_neighbors': [16,18,20,22,24]\n",
        "}\n",
        "\n",
        "census_neighbor_grid = GridSearchCV(census_neighbor, census_knn_params, refit=True, scoring='accuracy', cv=5, n_jobs=-1)\n",
        "\n",
        "census_neighbor_grid.fit(census_preprocessed_feature, census_label)\n",
        "\n",
        "print(f\"Best Hyperparameter: {census_neighbor_grid.best_params_}\")\n",
        "print(f\"Best Score: {census_neighbor_grid.best_score_}\")"
      ],
      "metadata": {
        "id": "VwVeyyvTuO5a",
        "colab": {
          "base_uri": "https://localhost:8080/"
        },
        "outputId": "8cfa34a5-a8d3-4066-b320-ca002e44fc26"
      },
      "id": "VwVeyyvTuO5a",
      "execution_count": null,
      "outputs": [
        {
          "output_type": "stream",
          "name": "stdout",
          "text": [
            "Best Hyperparameter: {'n_neighbors': 20}\n",
            "Best Score: 0.8451474201474202\n"
          ]
        }
      ]
    },
    {
      "cell_type": "markdown",
      "source": [
        "## 2.C - Visualizing Results\n",
        "\n",
        "Replace the blank in line 1 of this cell with the name of your parameter dictionary from 2.B. Replace the blank in line 2 with the name of your `GridSearchCV` object from 2.B. Then execute this cell to see how the CV scores varied with respect to the hyperparameter values. Use this graph to determine if you should re-run the previous cell with a different range of hyperparameter values."
      ],
      "metadata": {
        "id": "pxMNqlP6WUzq"
      },
      "id": "pxMNqlP6WUzq"
    },
    {
      "cell_type": "code",
      "execution_count": null,
      "id": "1ad6b85d-fe64-46c1-8302-873c3f75a20e",
      "metadata": {
        "id": "1ad6b85d-fe64-46c1-8302-873c3f75a20e",
        "colab": {
          "base_uri": "https://localhost:8080/",
          "height": 234
        },
        "outputId": "932f08a4-c4ef-4b56-efe6-0f739e4fe54c"
      },
      "outputs": [
        {
          "output_type": "display_data",
          "data": {
            "text/plain": [
              "<Figure size 400x200 with 1 Axes>"
            ],
            "image/png": "[encoded data removed]"
          },
          "metadata": {}
        }
      ],
      "source": [
        "n_neighbors = census_knn_params['n_neighbors']\n",
        "scores = census_neighbor_grid.cv_results_['mean_test_score']\n",
        "\n",
        "plt.figure(figsize=[4,2])\n",
        "plt.plot(n_neighbors, scores)\n",
        "plt.xlabel('n_neighbors')\n",
        "plt.ylabel('CV Score')\n",
        "plt.grid()\n",
        "plt.show()"
      ]
    },
    {
      "cell_type": "markdown",
      "source": [
        "## 2.D - Hyperparameter Tuning for Decision Trees\n",
        "\n",
        "Create an instance of `DecisionTreeClassifer` with `random_state=1` but specifying no other parameter values.  Use `GridSearchCV` to perform hyperparameter tuning with 5-fold cross validation for your decision tree model. Score your models according to accuracy. Tune over the `max_depth` parameter, considering the following hyperparameter values: **4, 8, 12, 16, 20, 24**.\n",
        "\n",
        "Print the best hyperparameter value found by grid search, as well as the best score found. Print additional text to indicate the meaning of these values in the output."
      ],
      "metadata": {
        "id": "cDpHb3p8W3ok"
      },
      "id": "cDpHb3p8W3ok"
    },
    {
      "cell_type": "code",
      "execution_count": null,
      "id": "4cc65641-7569-4baa-ab57-b0f77fac3b1e",
      "metadata": {
        "id": "4cc65641-7569-4baa-ab57-b0f77fac3b1e",
        "colab": {
          "base_uri": "https://localhost:8080/"
        },
        "outputId": "4039fab0-9368-4cd9-b665-1e1271b599b4"
      },
      "outputs": [
        {
          "output_type": "stream",
          "name": "stdout",
          "text": [
            "Best Hyperparameter: {'max_depth': 8}\n",
            "Best Score: 0.8565724815724816\n"
          ]
        }
      ],
      "source": [
        "census_decision = DecisionTreeClassifier(random_state=1)\n",
        "\n",
        "census_decision_params = {\n",
        "    'max_depth': [4,8,12,16,20,24]\n",
        "}\n",
        "\n",
        "census_decision_grid = GridSearchCV(census_decision, census_decision_params, scoring='accuracy', cv=5, n_jobs=-1)\n",
        "\n",
        "census_decision_grid.fit(census_preprocessed_feature, census_label)\n",
        "\n",
        "print(f\"Best Hyperparameter: {census_decision_grid.best_params_}\")\n",
        "print(f\"Best Score: {census_decision_grid.best_score_}\")"
      ]
    },
    {
      "cell_type": "markdown",
      "source": [
        "## 2.E - Visualizing Results\n",
        "\n",
        "Replace the blank in line 1 of this cell with the name of your parameter dictionary from 2.D. Replace the blank in line 2 with the name of your `GridSearchCV` object from 2.D. Then execute this cell to see how the CV scores varied with respect to the hyperparameter values. Use this graph to determine if you should re-run the previous cell with a different range of hyperparameter values."
      ],
      "metadata": {
        "id": "0fwtU3FtYHVp"
      },
      "id": "0fwtU3FtYHVp"
    },
    {
      "cell_type": "code",
      "execution_count": null,
      "id": "d2df09c0-0eee-4620-a2bf-5b1f8a3c589a",
      "metadata": {
        "id": "d2df09c0-0eee-4620-a2bf-5b1f8a3c589a",
        "colab": {
          "base_uri": "https://localhost:8080/",
          "height": 234
        },
        "outputId": "eb648fea-2eb0-4def-d291-7553211ebde6"
      },
      "outputs": [
        {
          "output_type": "display_data",
          "data": {
            "text/plain": [
              "<Figure size 400x200 with 1 Axes>"
            ],
            "image/png": "[encoded data removed]"
          },
          "metadata": {}
        }
      ],
      "source": [
        "# 2.E\n",
        "max_depth = census_decision_params['max_depth']\n",
        "scores = census_decision_grid.cv_results_['mean_test_score']\n",
        "\n",
        "plt.figure(figsize=[4,2])\n",
        "plt.plot(max_depth, scores)\n",
        "plt.xlabel('max_depth')\n",
        "plt.ylabel('CV Score')\n",
        "plt.grid()\n",
        "plt.show()"
      ]
    },
    {
      "cell_type": "markdown",
      "source": [
        "## 2.F - Hyperparameter Tuning for Random Forests\n",
        "\n",
        "Create an instance of `RandomForestClassifer` with `random_state=1` and `n_estimators=100` but specifying no other parameter values.  Use `GridSearchCV` to perform hyperparameter tuning with 5-fold cross validation for your random forest model. Score your models according to accuracy. Tune over the `max_depth` parameter, considering the following hyperparameter values: **12, 16, 20, 24, 28**.\n",
        "\n",
        "Print the best hyperparameter value found by grid search, as well as the best score found. Print additional text to indicate the meaning of these values in the output.\n"
      ],
      "metadata": {
        "id": "SfDLmyBUYWc1"
      },
      "id": "SfDLmyBUYWc1"
    },
    {
      "cell_type": "code",
      "execution_count": null,
      "id": "eb9081a8-d9ae-495c-81f4-1238e77fa928",
      "metadata": {
        "id": "eb9081a8-d9ae-495c-81f4-1238e77fa928",
        "colab": {
          "base_uri": "https://localhost:8080/"
        },
        "outputId": "d1bdb6c6-3f12-40d1-fcaf-e18a376f9056"
      },
      "outputs": [
        {
          "output_type": "stream",
          "name": "stdout",
          "text": [
            "Best Hyperparameter: {'max_depth': 20}\n",
            "Best Score: 0.8648034398034398\n"
          ]
        }
      ],
      "source": [
        "census_random = RandomForestClassifier(random_state=1, n_estimators=100)\n",
        "\n",
        "census_random_params = {\n",
        "    'max_depth': [12,16,20,24,28]\n",
        "}\n",
        "\n",
        "census_random_grid = GridSearchCV(census_random, census_random_params, scoring='accuracy', cv=5, n_jobs=-1)\n",
        "\n",
        "census_random_grid.fit(census_preprocessed_feature, census_label)\n",
        "\n",
        "print(f\"Best Hyperparameter: {census_random_grid.best_params_}\")\n",
        "print(f\"Best Score: {census_random_grid.best_score_}\")"
      ]
    },
    {
      "cell_type": "markdown",
      "source": [
        "## 2.G - Visualizing Results\n",
        "\n",
        "Replace the blank in line 1 of this cell with the name of your parameter dictionary from 2.F. Replace the blank in line 2 with the name of your `GridSearchCV` object from 2.F. Then execute this cell to see how the CV scores varied with respect to the hyperparameter values. Use this graph to determine if you should re-run the previous cell with a different range of hyperparameter values."
      ],
      "metadata": {
        "id": "98-_N6orYtyO"
      },
      "id": "98-_N6orYtyO"
    },
    {
      "cell_type": "code",
      "execution_count": null,
      "id": "85c3aeaa-8360-480d-b827-c840c5917895",
      "metadata": {
        "id": "85c3aeaa-8360-480d-b827-c840c5917895",
        "colab": {
          "base_uri": "https://localhost:8080/",
          "height": 234
        },
        "outputId": "2a0eafaf-3d9a-4b77-e271-87e4da86844b"
      },
      "outputs": [
        {
          "output_type": "display_data",
          "data": {
            "text/plain": [
              "<Figure size 400x200 with 1 Axes>"
            ],
            "image/png": "[encoded data removed]"
          },
          "metadata": {}
        }
      ],
      "source": [
        "max_depth = census_random_params['max_depth']\n",
        "scores = census_random_grid.cv_results_['mean_test_score']\n",
        "\n",
        "plt.figure(figsize=[4,2])\n",
        "plt.plot(max_depth, scores)\n",
        "plt.xlabel('max_depth')\n",
        "plt.ylabel('CV Score')\n",
        "plt.grid()\n",
        "plt.show()"
      ]
    },
    {
      "cell_type": "markdown",
      "source": [
        "## 2.H - Classification Report\n",
        "\n",
        "Identify which of the models from above gave you the best results. Then use that model with `cross_val_predict()` with `cv=5` to generate out-of-sample predictions for the dataset. Use these predictions with `classification_report()` to generate a classification report."
      ],
      "metadata": {
        "id": "pMXZSAL9ZH96"
      },
      "id": "pMXZSAL9ZH96"
    },
    {
      "cell_type": "code",
      "execution_count": null,
      "id": "07304d8e-0158-416e-8e32-a48f717bdb9d",
      "metadata": {
        "id": "07304d8e-0158-416e-8e32-a48f717bdb9d",
        "colab": {
          "base_uri": "https://localhost:8080/"
        },
        "outputId": "76046aac-2c87-4e1b-f5ab-9dfae21cb707"
      },
      "outputs": [
        {
          "output_type": "stream",
          "name": "stdout",
          "text": [
            "              precision    recall  f1-score   support\n",
            "\n",
            "       <=50K       0.88      0.95      0.91     12322\n",
            "        >50K       0.77      0.58      0.66      3958\n",
            "\n",
            "    accuracy                           0.86     16280\n",
            "   macro avg       0.82      0.76      0.79     16280\n",
            "weighted avg       0.85      0.86      0.85     16280\n",
            "\n"
          ]
        }
      ],
      "source": [
        "final_model = census_decision_grid.best_estimator_\n",
        "\n",
        "census_pred = cross_val_predict(final_model, census_preprocessed_feature, census_label, cv=5, n_jobs=-1)\n",
        "\n",
        "print(classification_report(census_label, census_pred))"
      ]
    },
    {
      "cell_type": "markdown",
      "source": [
        "## 2.I - Confusion Matrix\n",
        "\n",
        "Use your out-of-sample predictions with `confusion_matrix()` to generate a confusion matrix. Display the confusion matrix as a DataFrame, with the rows and columns labeled according to the actual class names."
      ],
      "metadata": {
        "id": "wHXUzjvtZR82"
      },
      "id": "wHXUzjvtZR82"
    },
    {
      "cell_type": "code",
      "execution_count": null,
      "id": "eec17f51-b824-4eb9-997d-cce1010e6731",
      "metadata": {
        "id": "eec17f51-b824-4eb9-997d-cce1010e6731",
        "colab": {
          "base_uri": "https://localhost:8080/",
          "height": 125
        },
        "outputId": "197c7a0c-b059-4605-b451-ca8f472bf971"
      },
      "outputs": [
        {
          "output_type": "execute_result",
          "data": {
            "text/plain": [
              "       <=50K  >50K\n",
              "<=50K  11648   674\n",
              ">50K    1661  2297"
            ],
            "text/html": [
              "\n",
              "  <div id=\"df-5e9d4fb5-5a6f-465c-a818-a5dc267a657b\" class=\"colab-df-container\">\n",
              "    <div>\n",
              "<style scoped>\n",
              "    .dataframe tbody tr th:only-of-type {\n",
              "        vertical-align: middle;\n",
              "    }\n",
              "\n",
              "    .dataframe tbody tr th {\n",
              "        vertical-align: top;\n",
              "    }\n",
              "\n",
              "    .dataframe thead th {\n",
              "        text-align: right;\n",
              "    }\n",
              "</style>\n",
              "<table border=\"1\" class=\"dataframe\">\n",
              "  <thead>\n",
              "    <tr style=\"text-align: right;\">\n",
              "      <th></th>\n",
              "      <th>&lt;=50K</th>\n",
              "      <th>&gt;50K</th>\n",
              "    </tr>\n",
              "  </thead>\n",
              "  <tbody>\n",
              "    <tr>\n",
              "      <th>&lt;=50K</th>\n",
              "      <td>11648</td>\n",
              "      <td>674</td>\n",
              "    </tr>\n",
              "    <tr>\n",
              "      <th>&gt;50K</th>\n",
              "      <td>1661</td>\n",
              "      <td>2297</td>\n",
              "    </tr>\n",
              "  </tbody>\n",
              "</table>\n",
              "</div>\n",
              "    <div class=\"colab-df-buttons\">\n",
              "\n",
              "  <div class=\"colab-df-container\">\n",
              "    <button class=\"colab-df-convert\" onclick=\"convertToInteractive('df-5e9d4fb5-5a6f-465c-a818-a5dc267a657b')\"\n",
              "            title=\"Convert this dataframe to an interactive table.\"\n",
              "            style=\"display:none;\">\n",
              "\n",
              "  <svg xmlns=\"http://www.w3.org/2000/svg\" height=\"24px\" viewBox=\"0 -960 960 960\">\n",
              "    <path d=\"M120-120v-720h720v720H120Zm60-500h600v-160H180v160Zm220 220h160v-160H400v160Zm0 220h160v-160H400v160ZM180-400h160v-160H180v160Zm440 0h160v-160H620v160ZM180-180h160v-160H180v160Zm440 0h160v-160H620v160Z\"/>\n",
              "  </svg>\n",
              "    </button>\n",
              "\n",
              "  <style>\n",
              "    .colab-df-container {\n",
              "      display:flex;\n",
              "      gap: 12px;\n",
              "    }\n",
              "\n",
              "    .colab-df-convert {\n",
              "      background-color: #E8F0FE;\n",
              "      border: none;\n",
              "      border-radius: 50%;\n",
              "      cursor: pointer;\n",
              "      display: none;\n",
              "      fill: #1967D2;\n",
              "      height: 32px;\n",
              "      padding: 0 0 0 0;\n",
              "      width: 32px;\n",
              "    }\n",
              "\n",
              "    .colab-df-convert:hover {\n",
              "      background-color: #E2EBFA;\n",
              "      box-shadow: 0px 1px 2px rgba(60, 64, 67, 0.3), 0px 1px 3px 1px rgba(60, 64, 67, 0.15);\n",
              "      fill: #174EA6;\n",
              "    }\n",
              "\n",
              "    .colab-df-buttons div {\n",
              "      margin-bottom: 4px;\n",
              "    }\n",
              "\n",
              "    [theme=dark] .colab-df-convert {\n",
              "      background-color: #3B4455;\n",
              "      fill: #D2E3FC;\n",
              "    }\n",
              "\n",
              "    [theme=dark] .colab-df-convert:hover {\n",
              "      background-color: #434B5C;\n",
              "      box-shadow: 0px 1px 3px 1px rgba(0, 0, 0, 0.15);\n",
              "      filter: drop-shadow(0px 1px 2px rgba(0, 0, 0, 0.3));\n",
              "      fill: #FFFFFF;\n",
              "    }\n",
              "  </style>\n",
              "\n",
              "    <script>\n",
              "      const buttonEl =\n",
              "        document.querySelector('#df-5e9d4fb5-5a6f-465c-a818-a5dc267a657b button.colab-df-convert');\n",
              "      buttonEl.style.display =\n",
              "        google.colab.kernel.accessAllowed ? 'block' : 'none';\n",
              "\n",
              "      async function convertToInteractive(key) {\n",
              "        const element = document.querySelector('#df-5e9d4fb5-5a6f-465c-a818-a5dc267a657b');\n",
              "        const dataTable =\n",
              "          await google.colab.kernel.invokeFunction('convertToInteractive',\n",
              "                                                    [key], {});\n",
              "        if (!dataTable) return;\n",
              "\n",
              "        const docLinkHtml = 'Like what you see? Visit the ' +\n",
              "          '<a target=\"_blank\" href=https://colab.research.google.com/notebooks/data_table.ipynb>data table notebook</a>'\n",
              "          + ' to learn more about interactive tables.';\n",
              "        element.innerHTML = '';\n",
              "        dataTable['output_type'] = 'display_data';\n",
              "        await google.colab.output.renderOutput(dataTable, element);\n",
              "        const docLink = document.createElement('div');\n",
              "        docLink.innerHTML = docLinkHtml;\n",
              "        element.appendChild(docLink);\n",
              "      }\n",
              "    </script>\n",
              "  </div>\n",
              "\n",
              "\n",
              "<div id=\"df-73fefb06-7e8b-4d8a-a61f-7d0a0d4a90da\">\n",
              "  <button class=\"colab-df-quickchart\" onclick=\"quickchart('df-73fefb06-7e8b-4d8a-a61f-7d0a0d4a90da')\"\n",
              "            title=\"Suggest charts\"\n",
              "            style=\"display:none;\">\n",
              "\n",
              "<svg xmlns=\"http://www.w3.org/2000/svg\" height=\"24px\"viewBox=\"0 0 24 24\"\n",
              "     width=\"24px\">\n",
              "    <g>\n",
              "        <path d=\"M19 3H5c-1.1 0-2 .9-2 2v14c0 1.1.9 2 2 2h14c1.1 0 2-.9 2-2V5c0-1.1-.9-2-2-2zM9 17H7v-7h2v7zm4 0h-2V7h2v10zm4 0h-2v-4h2v4z\"/>\n",
              "    </g>\n",
              "</svg>\n",
              "  </button>\n",
              "\n",
              "<style>\n",
              "  .colab-df-quickchart {\n",
              "      --bg-color: #E8F0FE;\n",
              "      --fill-color: #1967D2;\n",
              "      --hover-bg-color: #E2EBFA;\n",
              "      --hover-fill-color: #174EA6;\n",
              "      --disabled-fill-color: #AAA;\n",
              "      --disabled-bg-color: #DDD;\n",
              "  }\n",
              "\n",
              "  [theme=dark] .colab-df-quickchart {\n",
              "      --bg-color: #3B4455;\n",
              "      --fill-color: #D2E3FC;\n",
              "      --hover-bg-color: #434B5C;\n",
              "      --hover-fill-color: #FFFFFF;\n",
              "      --disabled-bg-color: #3B4455;\n",
              "      --disabled-fill-color: #666;\n",
              "  }\n",
              "\n",
              "  .colab-df-quickchart {\n",
              "    background-color: var(--bg-color);\n",
              "    border: none;\n",
              "    border-radius: 50%;\n",
              "    cursor: pointer;\n",
              "    display: none;\n",
              "    fill: var(--fill-color);\n",
              "    height: 32px;\n",
              "    padding: 0;\n",
              "    width: 32px;\n",
              "  }\n",
              "\n",
              "  .colab-df-quickchart:hover {\n",
              "    background-color: var(--hover-bg-color);\n",
              "    box-shadow: 0 1px 2px rgba(60, 64, 67, 0.3), 0 1px 3px 1px rgba(60, 64, 67, 0.15);\n",
              "    fill: var(--button-hover-fill-color);\n",
              "  }\n",
              "\n",
              "  .colab-df-quickchart-complete:disabled,\n",
              "  .colab-df-quickchart-complete:disabled:hover {\n",
              "    background-color: var(--disabled-bg-color);\n",
              "    fill: var(--disabled-fill-color);\n",
              "    box-shadow: none;\n",
              "  }\n",
              "\n",
              "  .colab-df-spinner {\n",
              "    border: 2px solid var(--fill-color);\n",
              "    border-color: transparent;\n",
              "    border-bottom-color: var(--fill-color);\n",
              "    animation:\n",
              "      spin 1s steps(1) infinite;\n",
              "  }\n",
              "\n",
              "  @keyframes spin {\n",
              "    0% {\n",
              "      border-color: transparent;\n",
              "      border-bottom-color: var(--fill-color);\n",
              "      border-left-color: var(--fill-color);\n",
              "    }\n",
              "    20% {\n",
              "      border-color: transparent;\n",
              "      border-left-color: var(--fill-color);\n",
              "      border-top-color: var(--fill-color);\n",
              "    }\n",
              "    30% {\n",
              "      border-color: transparent;\n",
              "      border-left-color: var(--fill-color);\n",
              "      border-top-color: var(--fill-color);\n",
              "      border-right-color: var(--fill-color);\n",
              "    }\n",
              "    40% {\n",
              "      border-color: transparent;\n",
              "      border-right-color: var(--fill-color);\n",
              "      border-top-color: var(--fill-color);\n",
              "    }\n",
              "    60% {\n",
              "      border-color: transparent;\n",
              "      border-right-color: var(--fill-color);\n",
              "    }\n",
              "    80% {\n",
              "      border-color: transparent;\n",
              "      border-right-color: var(--fill-color);\n",
              "      border-bottom-color: var(--fill-color);\n",
              "    }\n",
              "    90% {\n",
              "      border-color: transparent;\n",
              "      border-bottom-color: var(--fill-color);\n",
              "    }\n",
              "  }\n",
              "</style>\n",
              "\n",
              "  <script>\n",
              "    async function quickchart(key) {\n",
              "      const quickchartButtonEl =\n",
              "        document.querySelector('#' + key + ' button');\n",
              "      quickchartButtonEl.disabled = true;  // To prevent multiple clicks.\n",
              "      quickchartButtonEl.classList.add('colab-df-spinner');\n",
              "      try {\n",
              "        const charts = await google.colab.kernel.invokeFunction(\n",
              "            'suggestCharts', [key], {});\n",
              "      } catch (error) {\n",
              "        console.error('Error during call to suggestCharts:', error);\n",
              "      }\n",
              "      quickchartButtonEl.classList.remove('colab-df-spinner');\n",
              "      quickchartButtonEl.classList.add('colab-df-quickchart-complete');\n",
              "    }\n",
              "    (() => {\n",
              "      let quickchartButtonEl =\n",
              "        document.querySelector('#df-73fefb06-7e8b-4d8a-a61f-7d0a0d4a90da button');\n",
              "      quickchartButtonEl.style.display =\n",
              "        google.colab.kernel.accessAllowed ? 'block' : 'none';\n",
              "    })();\n",
              "  </script>\n",
              "</div>\n",
              "\n",
              "  <div id=\"id_cf073d61-c693-49b8-8291-56da92406ad0\">\n",
              "    <style>\n",
              "      .colab-df-generate {\n",
              "        background-color: #E8F0FE;\n",
              "        border: none;\n",
              "        border-radius: 50%;\n",
              "        cursor: pointer;\n",
              "        display: none;\n",
              "        fill: #1967D2;\n",
              "        height: 32px;\n",
              "        padding: 0 0 0 0;\n",
              "        width: 32px;\n",
              "      }\n",
              "\n",
              "      .colab-df-generate:hover {\n",
              "        background-color: #E2EBFA;\n",
              "        box-shadow: 0px 1px 2px rgba(60, 64, 67, 0.3), 0px 1px 3px 1px rgba(60, 64, 67, 0.15);\n",
              "        fill: #174EA6;\n",
              "      }\n",
              "\n",
              "      [theme=dark] .colab-df-generate {\n",
              "        background-color: #3B4455;\n",
              "        fill: #D2E3FC;\n",
              "      }\n",
              "\n",
              "      [theme=dark] .colab-df-generate:hover {\n",
              "        background-color: #434B5C;\n",
              "        box-shadow: 0px 1px 3px 1px rgba(0, 0, 0, 0.15);\n",
              "        filter: drop-shadow(0px 1px 2px rgba(0, 0, 0, 0.3));\n",
              "        fill: #FFFFFF;\n",
              "      }\n",
              "    </style>\n",
              "    <button class=\"colab-df-generate\" onclick=\"generateWithVariable('census_cm_df')\"\n",
              "            title=\"Generate code using this dataframe.\"\n",
              "            style=\"display:none;\">\n",
              "\n",
              "  <svg xmlns=\"http://www.w3.org/2000/svg\" height=\"24px\"viewBox=\"0 0 24 24\"\n",
              "       width=\"24px\">\n",
              "    <path d=\"M7,19H8.4L18.45,9,17,7.55,7,17.6ZM5,21V16.75L18.45,3.32a2,2,0,0,1,2.83,0l1.4,1.43a1.91,1.91,0,0,1,.58,1.4,1.91,1.91,0,0,1-.58,1.4L9.25,21ZM18.45,9,17,7.55Zm-12,3A5.31,5.31,0,0,0,4.9,8.1,5.31,5.31,0,0,0,1,6.5,5.31,5.31,0,0,0,4.9,4.9,5.31,5.31,0,0,0,6.5,1,5.31,5.31,0,0,0,8.1,4.9,5.31,5.31,0,0,0,12,6.5,5.46,5.46,0,0,0,6.5,12Z\"/>\n",
              "  </svg>\n",
              "    </button>\n",
              "    <script>\n",
              "      (() => {\n",
              "      const buttonEl =\n",
              "        document.querySelector('#id_cf073d61-c693-49b8-8291-56da92406ad0 button.colab-df-generate');\n",
              "      buttonEl.style.display =\n",
              "        google.colab.kernel.accessAllowed ? 'block' : 'none';\n",
              "\n",
              "      buttonEl.onclick = () => {\n",
              "        google.colab.notebook.generateWithVariable('census_cm_df');\n",
              "      }\n",
              "      })();\n",
              "    </script>\n",
              "  </div>\n",
              "\n",
              "    </div>\n",
              "  </div>\n"
            ],
            "application/vnd.google.colaboratory.intrinsic+json": {
              "type": "dataframe",
              "variable_name": "census_cm_df",
              "summary": "{\n  \"name\": \"census_cm_df\",\n  \"rows\": 2,\n  \"fields\": [\n    {\n      \"column\": \"<=50K\",\n      \"properties\": {\n        \"dtype\": \"number\",\n        \"std\": 7061,\n        \"min\": 1661,\n        \"max\": 11648,\n        \"num_unique_values\": 2,\n        \"samples\": [\n          1661,\n          11648\n        ],\n        \"semantic_type\": \"\",\n        \"description\": \"\"\n      }\n    },\n    {\n      \"column\": \">50K\",\n      \"properties\": {\n        \"dtype\": \"number\",\n        \"std\": 1147,\n        \"min\": 674,\n        \"max\": 2297,\n        \"num_unique_values\": 2,\n        \"samples\": [\n          2297,\n          674\n        ],\n        \"semantic_type\": \"\",\n        \"description\": \"\"\n      }\n    }\n  ]\n}"
            }
          },
          "metadata": {},
          "execution_count": 16
        }
      ],
      "source": [
        "class_names = census['income'].unique()\n",
        "\n",
        "census_cm = confusion_matrix(census_label, census_pred)\n",
        "census_cm_df = pd.DataFrame(census_cm, index=class_names, columns=class_names)\n",
        "\n",
        "census_cm_df"
      ]
    },
    {
      "cell_type": "markdown",
      "id": "38e2fcf5-fa3e-41a9-83a8-ffc4b65c11b1",
      "metadata": {
        "id": "38e2fcf5-fa3e-41a9-83a8-ffc4b65c11b1"
      },
      "source": [
        "# Part 3: Data Preparation (Forest Cover Data)\n",
        "\n",
        "\n",
        "In Parts 3 and 4, you will be working with the \"Forest Cover\" dataset. In Part 3, you will prepare the data and in Part 4, you will select, train, and apply a model.\n",
        "\n",
        "Your goal will be to create a model to predict the forest cover type for patches of land in Colorado wilderness areas based on various cartographic information. You can find more information about the dataset, including a description of the features here: [Forest Cover Type Prediction](https://www.kaggle.com/c/forest-cover-type-prediction).\n",
        "\n",
        "Note that the label values are stored in the `Cover_Type` column and have been integer encoded. All other columns represent features. The `Wilderness_Area` and `Soil_Type` columns represent categorical features. The  `Soil_Type` has been integer encoded, but should still be considered to be categorical. All other columns represent numerical features.\n"
      ]
    },
    {
      "cell_type": "markdown",
      "source": [
        "## 3.A - Load the Data\n",
        "\n",
        "Load the data from the file `data/forest_cover.csv` into a DataFrame. Use the `sample()` method to shuffle the data, setting `random_state=1`. Display the head of the DataFrame."
      ],
      "metadata": {
        "id": "Fb9pdJP8UIWr"
      },
      "id": "Fb9pdJP8UIWr"
    },
    {
      "cell_type": "code",
      "execution_count": null,
      "id": "b960d81f-020d-42ab-854f-32c1e0a52508",
      "metadata": {
        "id": "b960d81f-020d-42ab-854f-32c1e0a52508",
        "colab": {
          "base_uri": "https://localhost:8080/",
          "height": 226
        },
        "outputId": "214d7a3c-3a4a-4d1a-ccd9-a8358a323fb4"
      },
      "outputs": [
        {
          "output_type": "execute_result",
          "data": {
            "text/plain": [
              "       Elevation  Aspect  Slope  Horizontal_Distance_To_Hydrology  \\\n",
              "5765        2489     333     18                               124   \n",
              "11340       2696       4     13                                30   \n",
              "9270        3413     140     17                               134   \n",
              "5710        2874     116     18                               153   \n",
              "1070        3001      57     18                               180   \n",
              "\n",
              "       Vertical_Distance_To_Hydrology  Horizontal_Distance_To_Roadways  \\\n",
              "5765                               39                              458   \n",
              "11340                              10                             2800   \n",
              "9270                                6                             4271   \n",
              "5710                               17                             2379   \n",
              "1070                               28                             4673   \n",
              "\n",
              "       Hillshade_9am  Hillshade_Noon  Hillshade_3pm  \\\n",
              "5765             176             214            176   \n",
              "11340            202             214            148   \n",
              "9270             243             233            113   \n",
              "5710             248             220             94   \n",
              "1070             229             200             97   \n",
              "\n",
              "       Horizontal_Distance_To_Fire_Points  Wilderness_Area  Soil_Type  \\\n",
              "5765                                 1409  Cache la Poudre         10   \n",
              "11340                                6524            Rawah         29   \n",
              "9270                                 4272    Comanche Peak         23   \n",
              "5710                                  564    Comanche Peak         13   \n",
              "1070                                 1864            Rawah         29   \n",
              "\n",
              "       Cover_Type  \n",
              "5765            6  \n",
              "11340           1  \n",
              "9270            7  \n",
              "5710            5  \n",
              "1070            1  "
            ],
            "text/html": [
              "\n",
              "  <div id=\"df-70f7e807-4561-4e90-8fe4-40574118e579\" class=\"colab-df-container\">\n",
              "    <div>\n",
              "<style scoped>\n",
              "    .dataframe tbody tr th:only-of-type {\n",
              "        vertical-align: middle;\n",
              "    }\n",
              "\n",
              "    .dataframe tbody tr th {\n",
              "        vertical-align: top;\n",
              "    }\n",
              "\n",
              "    .dataframe thead th {\n",
              "        text-align: right;\n",
              "    }\n",
              "</style>\n",
              "<table border=\"1\" class=\"dataframe\">\n",
              "  <thead>\n",
              "    <tr style=\"text-align: right;\">\n",
              "      <th></th>\n",
              "      <th>Elevation</th>\n",
              "      <th>Aspect</th>\n",
              "      <th>Slope</th>\n",
              "      <th>Horizontal_Distance_To_Hydrology</th>\n",
              "      <th>Vertical_Distance_To_Hydrology</th>\n",
              "      <th>Horizontal_Distance_To_Roadways</th>\n",
              "      <th>Hillshade_9am</th>\n",
              "      <th>Hillshade_Noon</th>\n",
              "      <th>Hillshade_3pm</th>\n",
              "      <th>Horizontal_Distance_To_Fire_Points</th>\n",
              "      <th>Wilderness_Area</th>\n",
              "      <th>Soil_Type</th>\n",
              "      <th>Cover_Type</th>\n",
              "    </tr>\n",
              "  </thead>\n",
              "  <tbody>\n",
              "    <tr>\n",
              "      <th>5765</th>\n",
              "      <td>2489</td>\n",
              "      <td>333</td>\n",
              "      <td>18</td>\n",
              "      <td>124</td>\n",
              "      <td>39</td>\n",
              "      <td>458</td>\n",
              "      <td>176</td>\n",
              "      <td>214</td>\n",
              "      <td>176</td>\n",
              "      <td>1409</td>\n",
              "      <td>Cache la Poudre</td>\n",
              "      <td>10</td>\n",
              "      <td>6</td>\n",
              "    </tr>\n",
              "    <tr>\n",
              "      <th>11340</th>\n",
              "      <td>2696</td>\n",
              "      <td>4</td>\n",
              "      <td>13</td>\n",
              "      <td>30</td>\n",
              "      <td>10</td>\n",
              "      <td>2800</td>\n",
              "      <td>202</td>\n",
              "      <td>214</td>\n",
              "      <td>148</td>\n",
              "      <td>6524</td>\n",
              "      <td>Rawah</td>\n",
              "      <td>29</td>\n",
              "      <td>1</td>\n",
              "    </tr>\n",
              "    <tr>\n",
              "      <th>9270</th>\n",
              "      <td>3413</td>\n",
              "      <td>140</td>\n",
              "      <td>17</td>\n",
              "      <td>134</td>\n",
              "      <td>6</td>\n",
              "      <td>4271</td>\n",
              "      <td>243</td>\n",
              "      <td>233</td>\n",
              "      <td>113</td>\n",
              "      <td>4272</td>\n",
              "      <td>Comanche Peak</td>\n",
              "      <td>23</td>\n",
              "      <td>7</td>\n",
              "    </tr>\n",
              "    <tr>\n",
              "      <th>5710</th>\n",
              "      <td>2874</td>\n",
              "      <td>116</td>\n",
              "      <td>18</td>\n",
              "      <td>153</td>\n",
              "      <td>17</td>\n",
              "      <td>2379</td>\n",
              "      <td>248</td>\n",
              "      <td>220</td>\n",
              "      <td>94</td>\n",
              "      <td>564</td>\n",
              "      <td>Comanche Peak</td>\n",
              "      <td>13</td>\n",
              "      <td>5</td>\n",
              "    </tr>\n",
              "    <tr>\n",
              "      <th>1070</th>\n",
              "      <td>3001</td>\n",
              "      <td>57</td>\n",
              "      <td>18</td>\n",
              "      <td>180</td>\n",
              "      <td>28</td>\n",
              "      <td>4673</td>\n",
              "      <td>229</td>\n",
              "      <td>200</td>\n",
              "      <td>97</td>\n",
              "      <td>1864</td>\n",
              "      <td>Rawah</td>\n",
              "      <td>29</td>\n",
              "      <td>1</td>\n",
              "    </tr>\n",
              "  </tbody>\n",
              "</table>\n",
              "</div>\n",
              "    <div class=\"colab-df-buttons\">\n",
              "\n",
              "  <div class=\"colab-df-container\">\n",
              "    <button class=\"colab-df-convert\" onclick=\"convertToInteractive('df-70f7e807-4561-4e90-8fe4-40574118e579')\"\n",
              "            title=\"Convert this dataframe to an interactive table.\"\n",
              "            style=\"display:none;\">\n",
              "\n",
              "  <svg xmlns=\"http://www.w3.org/2000/svg\" height=\"24px\" viewBox=\"0 -960 960 960\">\n",
              "    <path d=\"M120-120v-720h720v720H120Zm60-500h600v-160H180v160Zm220 220h160v-160H400v160Zm0 220h160v-160H400v160ZM180-400h160v-160H180v160Zm440 0h160v-160H620v160ZM180-180h160v-160H180v160Zm440 0h160v-160H620v160Z\"/>\n",
              "  </svg>\n",
              "    </button>\n",
              "\n",
              "  <style>\n",
              "    .colab-df-container {\n",
              "      display:flex;\n",
              "      gap: 12px;\n",
              "    }\n",
              "\n",
              "    .colab-df-convert {\n",
              "      background-color: #E8F0FE;\n",
              "      border: none;\n",
              "      border-radius: 50%;\n",
              "      cursor: pointer;\n",
              "      display: none;\n",
              "      fill: #1967D2;\n",
              "      height: 32px;\n",
              "      padding: 0 0 0 0;\n",
              "      width: 32px;\n",
              "    }\n",
              "\n",
              "    .colab-df-convert:hover {\n",
              "      background-color: #E2EBFA;\n",
              "      box-shadow: 0px 1px 2px rgba(60, 64, 67, 0.3), 0px 1px 3px 1px rgba(60, 64, 67, 0.15);\n",
              "      fill: #174EA6;\n",
              "    }\n",
              "\n",
              "    .colab-df-buttons div {\n",
              "      margin-bottom: 4px;\n",
              "    }\n",
              "\n",
              "    [theme=dark] .colab-df-convert {\n",
              "      background-color: #3B4455;\n",
              "      fill: #D2E3FC;\n",
              "    }\n",
              "\n",
              "    [theme=dark] .colab-df-convert:hover {\n",
              "      background-color: #434B5C;\n",
              "      box-shadow: 0px 1px 3px 1px rgba(0, 0, 0, 0.15);\n",
              "      filter: drop-shadow(0px 1px 2px rgba(0, 0, 0, 0.3));\n",
              "      fill: #FFFFFF;\n",
              "    }\n",
              "  </style>\n",
              "\n",
              "    <script>\n",
              "      const buttonEl =\n",
              "        document.querySelector('#df-70f7e807-4561-4e90-8fe4-40574118e579 button.colab-df-convert');\n",
              "      buttonEl.style.display =\n",
              "        google.colab.kernel.accessAllowed ? 'block' : 'none';\n",
              "\n",
              "      async function convertToInteractive(key) {\n",
              "        const element = document.querySelector('#df-70f7e807-4561-4e90-8fe4-40574118e579');\n",
              "        const dataTable =\n",
              "          await google.colab.kernel.invokeFunction('convertToInteractive',\n",
              "                                                    [key], {});\n",
              "        if (!dataTable) return;\n",
              "\n",
              "        const docLinkHtml = 'Like what you see? Visit the ' +\n",
              "          '<a target=\"_blank\" href=https://colab.research.google.com/notebooks/data_table.ipynb>data table notebook</a>'\n",
              "          + ' to learn more about interactive tables.';\n",
              "        element.innerHTML = '';\n",
              "        dataTable['output_type'] = 'display_data';\n",
              "        await google.colab.output.renderOutput(dataTable, element);\n",
              "        const docLink = document.createElement('div');\n",
              "        docLink.innerHTML = docLinkHtml;\n",
              "        element.appendChild(docLink);\n",
              "      }\n",
              "    </script>\n",
              "  </div>\n",
              "\n",
              "\n",
              "<div id=\"df-6a7e5f7b-059d-46cc-b3a0-db4a24e33b5a\">\n",
              "  <button class=\"colab-df-quickchart\" onclick=\"quickchart('df-6a7e5f7b-059d-46cc-b3a0-db4a24e33b5a')\"\n",
              "            title=\"Suggest charts\"\n",
              "            style=\"display:none;\">\n",
              "\n",
              "<svg xmlns=\"http://www.w3.org/2000/svg\" height=\"24px\"viewBox=\"0 0 24 24\"\n",
              "     width=\"24px\">\n",
              "    <g>\n",
              "        <path d=\"M19 3H5c-1.1 0-2 .9-2 2v14c0 1.1.9 2 2 2h14c1.1 0 2-.9 2-2V5c0-1.1-.9-2-2-2zM9 17H7v-7h2v7zm4 0h-2V7h2v10zm4 0h-2v-4h2v4z\"/>\n",
              "    </g>\n",
              "</svg>\n",
              "  </button>\n",
              "\n",
              "<style>\n",
              "  .colab-df-quickchart {\n",
              "      --bg-color: #E8F0FE;\n",
              "      --fill-color: #1967D2;\n",
              "      --hover-bg-color: #E2EBFA;\n",
              "      --hover-fill-color: #174EA6;\n",
              "      --disabled-fill-color: #AAA;\n",
              "      --disabled-bg-color: #DDD;\n",
              "  }\n",
              "\n",
              "  [theme=dark] .colab-df-quickchart {\n",
              "      --bg-color: #3B4455;\n",
              "      --fill-color: #D2E3FC;\n",
              "      --hover-bg-color: #434B5C;\n",
              "      --hover-fill-color: #FFFFFF;\n",
              "      --disabled-bg-color: #3B4455;\n",
              "      --disabled-fill-color: #666;\n",
              "  }\n",
              "\n",
              "  .colab-df-quickchart {\n",
              "    background-color: var(--bg-color);\n",
              "    border: none;\n",
              "    border-radius: 50%;\n",
              "    cursor: pointer;\n",
              "    display: none;\n",
              "    fill: var(--fill-color);\n",
              "    height: 32px;\n",
              "    padding: 0;\n",
              "    width: 32px;\n",
              "  }\n",
              "\n",
              "  .colab-df-quickchart:hover {\n",
              "    background-color: var(--hover-bg-color);\n",
              "    box-shadow: 0 1px 2px rgba(60, 64, 67, 0.3), 0 1px 3px 1px rgba(60, 64, 67, 0.15);\n",
              "    fill: var(--button-hover-fill-color);\n",
              "  }\n",
              "\n",
              "  .colab-df-quickchart-complete:disabled,\n",
              "  .colab-df-quickchart-complete:disabled:hover {\n",
              "    background-color: var(--disabled-bg-color);\n",
              "    fill: var(--disabled-fill-color);\n",
              "    box-shadow: none;\n",
              "  }\n",
              "\n",
              "  .colab-df-spinner {\n",
              "    border: 2px solid var(--fill-color);\n",
              "    border-color: transparent;\n",
              "    border-bottom-color: var(--fill-color);\n",
              "    animation:\n",
              "      spin 1s steps(1) infinite;\n",
              "  }\n",
              "\n",
              "  @keyframes spin {\n",
              "    0% {\n",
              "      border-color: transparent;\n",
              "      border-bottom-color: var(--fill-color);\n",
              "      border-left-color: var(--fill-color);\n",
              "    }\n",
              "    20% {\n",
              "      border-color: transparent;\n",
              "      border-left-color: var(--fill-color);\n",
              "      border-top-color: var(--fill-color);\n",
              "    }\n",
              "    30% {\n",
              "      border-color: transparent;\n",
              "      border-left-color: var(--fill-color);\n",
              "      border-top-color: var(--fill-color);\n",
              "      border-right-color: var(--fill-color);\n",
              "    }\n",
              "    40% {\n",
              "      border-color: transparent;\n",
              "      border-right-color: var(--fill-color);\n",
              "      border-top-color: var(--fill-color);\n",
              "    }\n",
              "    60% {\n",
              "      border-color: transparent;\n",
              "      border-right-color: var(--fill-color);\n",
              "    }\n",
              "    80% {\n",
              "      border-color: transparent;\n",
              "      border-right-color: var(--fill-color);\n",
              "      border-bottom-color: var(--fill-color);\n",
              "    }\n",
              "    90% {\n",
              "      border-color: transparent;\n",
              "      border-bottom-color: var(--fill-color);\n",
              "    }\n",
              "  }\n",
              "</style>\n",
              "\n",
              "  <script>\n",
              "    async function quickchart(key) {\n",
              "      const quickchartButtonEl =\n",
              "        document.querySelector('#' + key + ' button');\n",
              "      quickchartButtonEl.disabled = true;  // To prevent multiple clicks.\n",
              "      quickchartButtonEl.classList.add('colab-df-spinner');\n",
              "      try {\n",
              "        const charts = await google.colab.kernel.invokeFunction(\n",
              "            'suggestCharts', [key], {});\n",
              "      } catch (error) {\n",
              "        console.error('Error during call to suggestCharts:', error);\n",
              "      }\n",
              "      quickchartButtonEl.classList.remove('colab-df-spinner');\n",
              "      quickchartButtonEl.classList.add('colab-df-quickchart-complete');\n",
              "    }\n",
              "    (() => {\n",
              "      let quickchartButtonEl =\n",
              "        document.querySelector('#df-6a7e5f7b-059d-46cc-b3a0-db4a24e33b5a button');\n",
              "      quickchartButtonEl.style.display =\n",
              "        google.colab.kernel.accessAllowed ? 'block' : 'none';\n",
              "    })();\n",
              "  </script>\n",
              "</div>\n",
              "\n",
              "    </div>\n",
              "  </div>\n"
            ],
            "application/vnd.google.colaboratory.intrinsic+json": {
              "type": "dataframe",
              "variable_name": "forest",
              "summary": "{\n  \"name\": \"forest\",\n  \"rows\": 15120,\n  \"fields\": [\n    {\n      \"column\": \"Elevation\",\n      \"properties\": {\n        \"dtype\": \"number\",\n        \"std\": 417,\n        \"min\": 1863,\n        \"max\": 3849,\n        \"num_unique_values\": 1665,\n        \"samples\": [\n          2397,\n          2056,\n          2877\n        ],\n        \"semantic_type\": \"\",\n        \"description\": \"\"\n      }\n    },\n    {\n      \"column\": \"Aspect\",\n      \"properties\": {\n        \"dtype\": \"number\",\n        \"std\": 110,\n        \"min\": 0,\n        \"max\": 360,\n        \"num_unique_values\": 361,\n        \"samples\": [\n          10,\n          330,\n          299\n        ],\n        \"semantic_type\": \"\",\n        \"description\": \"\"\n      }\n    },\n    {\n      \"column\": \"Slope\",\n      \"properties\": {\n        \"dtype\": \"number\",\n        \"std\": 8,\n        \"min\": 0,\n        \"max\": 52,\n        \"num_unique_values\": 52,\n        \"samples\": [\n          30,\n          34,\n          44\n        ],\n        \"semantic_type\": \"\",\n        \"description\": \"\"\n      }\n    },\n    {\n      \"column\": \"Horizontal_Distance_To_Hydrology\",\n      \"properties\": {\n        \"dtype\": \"number\",\n        \"std\": 210,\n        \"min\": 0,\n        \"max\": 1343,\n        \"num_unique_values\": 400,\n        \"samples\": [\n          510,\n          890,\n          228\n        ],\n        \"semantic_type\": \"\",\n        \"description\": \"\"\n      }\n    },\n    {\n      \"column\": \"Vertical_Distance_To_Hydrology\",\n      \"properties\": {\n        \"dtype\": \"number\",\n        \"std\": 61,\n        \"min\": -146,\n        \"max\": 554,\n        \"num_unique_values\": 423,\n        \"samples\": [\n          62,\n          245,\n          -25\n        ],\n        \"semantic_type\": \"\",\n        \"description\": \"\"\n      }\n    },\n    {\n      \"column\": \"Horizontal_Distance_To_Roadways\",\n      \"properties\": {\n        \"dtype\": \"number\",\n        \"std\": 1325,\n        \"min\": 0,\n        \"max\": 6890,\n        \"num_unique_values\": 3250,\n        \"samples\": [\n          3501,\n          4497,\n          3389\n        ],\n        \"semantic_type\": \"\",\n        \"description\": \"\"\n      }\n    },\n    {\n      \"column\": \"Hillshade_9am\",\n      \"properties\": {\n        \"dtype\": \"number\",\n        \"std\": 30,\n        \"min\": 0,\n        \"max\": 254,\n        \"num_unique_values\": 176,\n        \"samples\": [\n          228,\n          216,\n          115\n        ],\n        \"semantic_type\": \"\",\n        \"description\": \"\"\n      }\n    },\n    {\n      \"column\": \"Hillshade_Noon\",\n      \"properties\": {\n        \"dtype\": \"number\",\n        \"std\": 22,\n        \"min\": 99,\n        \"max\": 254,\n        \"num_unique_values\": 141,\n        \"samples\": [\n          171,\n          176,\n          160\n        ],\n        \"semantic_type\": \"\",\n        \"description\": \"\"\n      }\n    },\n    {\n      \"column\": \"Hillshade_3pm\",\n      \"properties\": {\n        \"dtype\": \"number\",\n        \"std\": 45,\n        \"min\": 0,\n        \"max\": 248,\n        \"num_unique_values\": 247,\n        \"samples\": [\n          177,\n          104,\n          43\n        ],\n        \"semantic_type\": \"\",\n        \"description\": \"\"\n      }\n    },\n    {\n      \"column\": \"Horizontal_Distance_To_Fire_Points\",\n      \"properties\": {\n        \"dtype\": \"number\",\n        \"std\": 1099,\n        \"min\": 0,\n        \"max\": 6993,\n        \"num_unique_values\": 2710,\n        \"samples\": [\n          4734,\n          5745,\n          1339\n        ],\n        \"semantic_type\": \"\",\n        \"description\": \"\"\n      }\n    },\n    {\n      \"column\": \"Wilderness_Area\",\n      \"properties\": {\n        \"dtype\": \"category\",\n        \"num_unique_values\": 4,\n        \"samples\": [\n          \"Rawah\",\n          \"Neota\",\n          \"Cache la Poudre\"\n        ],\n        \"semantic_type\": \"\",\n        \"description\": \"\"\n      }\n    },\n    {\n      \"column\": \"Soil_Type\",\n      \"properties\": {\n        \"dtype\": \"number\",\n        \"std\": 12,\n        \"min\": 1,\n        \"max\": 40,\n        \"num_unique_values\": 38,\n        \"samples\": [\n          37,\n          8,\n          4\n        ],\n        \"semantic_type\": \"\",\n        \"description\": \"\"\n      }\n    },\n    {\n      \"column\": \"Cover_Type\",\n      \"properties\": {\n        \"dtype\": \"number\",\n        \"std\": 2,\n        \"min\": 1,\n        \"max\": 7,\n        \"num_unique_values\": 7,\n        \"samples\": [\n          6,\n          1,\n          4\n        ],\n        \"semantic_type\": \"\",\n        \"description\": \"\"\n      }\n    }\n  ]\n}"
            }
          },
          "metadata": {},
          "execution_count": 17
        }
      ],
      "source": [
        "forest = pd.read_csv('data/forest_cover.csv')\n",
        "forest = forest.sample(frac=1, random_state=1)\n",
        "forest.head()"
      ]
    },
    {
      "cell_type": "markdown",
      "source": [
        "## 3.B - Label Distribution\n",
        "\n",
        "Create a label array and use `value_counts()` to display the distribution of the label values as proportions."
      ],
      "metadata": {
        "id": "EvwE5OB7UyRP"
      },
      "id": "EvwE5OB7UyRP"
    },
    {
      "cell_type": "code",
      "execution_count": null,
      "id": "a3e99fa9-f525-4cac-adee-fa98e7ced0c5",
      "metadata": {
        "id": "a3e99fa9-f525-4cac-adee-fa98e7ced0c5",
        "colab": {
          "base_uri": "https://localhost:8080/"
        },
        "outputId": "a5516741-2367-46bf-b667-d5564a42d187"
      },
      "outputs": [
        {
          "output_type": "stream",
          "name": "stdout",
          "text": [
            "[6 1 7 ... 6 2 6]\n",
            "6    0.142857\n",
            "1    0.142857\n",
            "7    0.142857\n",
            "5    0.142857\n",
            "2    0.142857\n",
            "4    0.142857\n",
            "3    0.142857\n",
            "Name: Cover_Type, dtype: float64\n"
          ]
        }
      ],
      "source": [
        "forest_label = forest.Cover_Type.values\n",
        "print(forest_label)\n",
        "\n",
        "forest_value_counts = forest.Cover_Type.value_counts(normalize=True)\n",
        "print(forest_value_counts)"
      ]
    },
    {
      "cell_type": "markdown",
      "source": [
        "## 3.C - Grouping Features\n",
        "\n",
        "Create lists containing the names of the numerical and categorical features. Print these lists along with messages indicating which features are numerical and which are categorical."
      ],
      "metadata": {
        "id": "UBGgn232U49W"
      },
      "id": "UBGgn232U49W"
    },
    {
      "cell_type": "code",
      "execution_count": null,
      "id": "5c036901-eb0a-405c-ae1b-ca2bf4264308",
      "metadata": {
        "id": "5c036901-eb0a-405c-ae1b-ca2bf4264308",
        "colab": {
          "base_uri": "https://localhost:8080/"
        },
        "outputId": "a2a867e0-63f8-482b-b05a-abef79a7decd"
      },
      "outputs": [
        {
          "output_type": "stream",
          "name": "stdout",
          "text": [
            "Numerical Feature: ['Elevation', 'Aspect', 'Slope', 'Horizontal_Distance_To_Hydrology', 'Vertical_Distance_To_Hydrology', 'Horizontal_Distance_To_Roadways', 'Hillshade_9am', 'Hillshade_Noon', 'Hillshade_3pm', 'Horizontal_Distance_To_Fire_Points', 'Soil_Type'] \n",
            "Categorical Feature: ['Wilderness_Area']\n"
          ]
        }
      ],
      "source": [
        "forest_numerical_feature = forest.drop(columns=['Cover_Type']).select_dtypes(include=['int64', 'float64']).columns.tolist()\n",
        "forest_categorical_feature = forest.select_dtypes(include=['object']).columns.tolist()\n",
        "\n",
        "print(f\"Numerical Feature: {forest_numerical_feature} \\nCategorical Feature: {forest_categorical_feature}\")"
      ]
    },
    {
      "cell_type": "markdown",
      "source": [
        "## 3.D - Counting Levels\n",
        "\n",
        "Determine the number of levels for each categorical feature. Display the results my printing a message of the following form for each feature:\n",
        "\n",
        "    [feature] has [num_levels] levels.\n",
        "\n",
        "The bracketed expressions should be replaced with the appropriate values."
      ],
      "metadata": {
        "id": "T_gFqd7-U7_z"
      },
      "id": "T_gFqd7-U7_z"
    },
    {
      "cell_type": "code",
      "execution_count": null,
      "id": "4811de7f-18fa-48fa-b8b3-ea4d6c07a918",
      "metadata": {
        "id": "4811de7f-18fa-48fa-b8b3-ea4d6c07a918",
        "colab": {
          "base_uri": "https://localhost:8080/"
        },
        "outputId": "86b7930e-5dd5-4cfe-df32-a78028f6add9"
      },
      "outputs": [
        {
          "output_type": "stream",
          "name": "stdout",
          "text": [
            "Wilderness_Area has 4 levels.\n"
          ]
        }
      ],
      "source": [
        "for feature in forest_categorical_feature:\n",
        "    num_levels = len(forest[feature].unique())\n",
        "    print(f\"{feature} has {num_levels} levels.\")"
      ]
    },
    {
      "cell_type": "markdown",
      "source": [
        "## 3.E - Data Preprocessing\n",
        "\n",
        "Create instances of `StandardScaler` and `OneHotEncoder`, and then use them to create an instance of `ColumnTransformer`, applying each preprocessing object to the appropriate columns. Then fit and apply your `ColumnTransformer` to the DataFrame containing your training data. Store the resulting feature array in a variable."
      ],
      "metadata": {
        "id": "l6F3sr37VL_1"
      },
      "id": "l6F3sr37VL_1"
    },
    {
      "cell_type": "code",
      "execution_count": null,
      "id": "c3379436-ac71-48c3-ad1b-821d5d69a2e9",
      "metadata": {
        "id": "c3379436-ac71-48c3-ad1b-821d5d69a2e9",
        "colab": {
          "base_uri": "https://localhost:8080/"
        },
        "outputId": "03a367ff-b551-4c89-bf1b-d37be21b1b21"
      },
      "outputs": [
        {
          "output_type": "stream",
          "name": "stdout",
          "text": [
            "[[-0.62328168  1.60174314  0.17725044 ...  0.          0.\n",
            "   0.        ]\n",
            " [-0.12766842 -1.38693365 -0.41421025 ...  0.          0.\n",
            "   1.        ]\n",
            " [ 1.58902096 -0.15149279  0.0589583  ...  1.          0.\n",
            "   0.        ]\n",
            " ...\n",
            " [-1.41578403  1.48364953 -0.65079452 ...  0.          0.\n",
            "   0.        ]\n",
            " [-0.34315245  1.810678    0.17725044 ...  0.          0.\n",
            "   1.        ]\n",
            " [-0.76454343  1.49273366  1.00529541 ...  0.          0.\n",
            "   0.        ]]\n"
          ]
        }
      ],
      "source": [
        "scaler = StandardScaler()\n",
        "encoder = OneHotEncoder()\n",
        "\n",
        "preprocessor = ColumnTransformer(\n",
        "    transformers=[\n",
        "        ('numeric', scaler, forest_numerical_feature),\n",
        "        ('categorical', encoder, forest_categorical_feature)\n",
        "    ]\n",
        "    )\n",
        "forest_preprocessed_feature = preprocessor.fit_transform(forest)\n",
        "\n",
        "print(forest_preprocessed_feature)"
      ]
    },
    {
      "cell_type": "markdown",
      "id": "40e9841d-d9b5-48ac-b050-ce569e306af6",
      "metadata": {
        "id": "40e9841d-d9b5-48ac-b050-ce569e306af6"
      },
      "source": [
        "# Part 4: Selecting and Applying a Model (Forest Cover Data)"
      ]
    },
    {
      "cell_type": "markdown",
      "source": [
        "## 4.A - Cross Validation for Logistic Regression\n",
        "\n",
        "Create an instance of `LogisticRegression`. Use `cross_value_score()` to estimate the model's out-of-sample\n",
        "performance on the dataset. Use 5-fold CV with accuracy as the metric. Print the scores for each fold, as well as mean score. Round all scores to 3 decimal places."
      ],
      "metadata": {
        "id": "-sKqpV1_V80k"
      },
      "id": "-sKqpV1_V80k"
    },
    {
      "cell_type": "code",
      "execution_count": null,
      "id": "43ca6b1b-a93d-44b8-b467-25cf9c015925",
      "metadata": {
        "id": "43ca6b1b-a93d-44b8-b467-25cf9c015925",
        "colab": {
          "base_uri": "https://localhost:8080/"
        },
        "outputId": "d7309287-8de0-4b63-d3d7-9119d4ae078e"
      },
      "outputs": [
        {
          "output_type": "stream",
          "name": "stdout",
          "text": [
            "Scores: [0.687 0.68  0.683 0.687 0.676]\n",
            "Mean Score: 0.683\n"
          ]
        }
      ],
      "source": [
        "forest_lr = LogisticRegression()\n",
        "\n",
        "score = cross_val_score(forest_lr, forest_preprocessed_feature, forest_label, cv=5, n_jobs=-1)\n",
        "\n",
        "print(f\"Scores: {score.round(3)}\")\n",
        "print(f\"Mean Score: {score.mean().round(3)}\")"
      ]
    },
    {
      "cell_type": "markdown",
      "source": [
        "## 4.B - Hyperparameter Tuning for KNN\n",
        "\n",
        "Create an instance of `KNeighborsClassifier` specifying no parameter values.  Use `GridSearchCV` to perform hyperparameter tuning with 5-fold cross validation for your KNN model. Score your models according to accuracy. Tune over the `n_neighbors` parameter, considering the following hyperparameter values: **1, 2, 3, 4, 5**\n",
        "\n",
        "Print the best hyperparameter value found by grid search, as well as the best score found. Print additional text to indicate the meaning of these values in the output."
      ],
      "metadata": {
        "id": "OqpDRDAzWA7A"
      },
      "id": "OqpDRDAzWA7A"
    },
    {
      "cell_type": "code",
      "execution_count": null,
      "id": "ece786d0-14a8-4012-a4fc-bb042557cc3a",
      "metadata": {
        "id": "ece786d0-14a8-4012-a4fc-bb042557cc3a",
        "colab": {
          "base_uri": "https://localhost:8080/"
        },
        "outputId": "99ab0800-90cc-4d6f-f632-4bf6b7666031"
      },
      "outputs": [
        {
          "output_type": "stream",
          "name": "stdout",
          "text": [
            "Best Hyperparameter: {'n_neighbors': 1}\n",
            "Best Score: 0.798478835978836\n"
          ]
        }
      ],
      "source": [
        "forest_neighbor = KNeighborsClassifier()\n",
        "\n",
        "forest_knn_params = {\n",
        "    'n_neighbors': [1,2,3,4,5]\n",
        "}\n",
        "\n",
        "forest_neighbor_grid = GridSearchCV(forest_neighbor, forest_knn_params, refit=True, scoring='accuracy', cv=5, n_jobs=-1)\n",
        "\n",
        "forest_neighbor_grid.fit(forest_preprocessed_feature, forest_label)\n",
        "\n",
        "print(f\"Best Hyperparameter: {forest_neighbor_grid.best_params_}\")\n",
        "print(f\"Best Score: {forest_neighbor_grid.best_score_}\")"
      ]
    },
    {
      "cell_type": "markdown",
      "source": [
        "## 4.C - Visualizing Results\n",
        "\n",
        "Replace the blank in line 1 of this cell with the name of your parameter dictionary from 4.B. Replace the blank in line 2 with the name of your `GridSearchCV` object from 4.B. Then execute this cell to see how the CV scores varied with respect to the hyperparameter values. Use this graph to determine if you should re-run the previous cell with a different range of hyperparameter values."
      ],
      "metadata": {
        "id": "paa9mXi1Wlrx"
      },
      "id": "paa9mXi1Wlrx"
    },
    {
      "cell_type": "code",
      "execution_count": null,
      "id": "83c41d7e-d386-498c-adc4-340c9e56b1d7",
      "metadata": {
        "id": "83c41d7e-d386-498c-adc4-340c9e56b1d7",
        "colab": {
          "base_uri": "https://localhost:8080/",
          "height": 234
        },
        "outputId": "1ecde1aa-6f3b-4e1e-fa0d-276ba427bed7"
      },
      "outputs": [
        {
          "output_type": "display_data",
          "data": {
            "text/plain": [
              "<Figure size 400x200 with 1 Axes>"
            ],
            "image/png": "[encoded data removed]"
          },
          "metadata": {}
        }
      ],
      "source": [
        "# 4.C\n",
        "n_neighbors = forest_knn_params['n_neighbors']\n",
        "scores = forest_neighbor_grid.cv_results_['mean_test_score']\n",
        "\n",
        "plt.figure(figsize=[4,2])\n",
        "plt.plot(n_neighbors, scores)\n",
        "plt.xlabel('n_neighbors')\n",
        "plt.ylabel('CV Score')\n",
        "plt.grid()\n",
        "plt.show()"
      ]
    },
    {
      "cell_type": "markdown",
      "source": [
        "## 4.D - Hyperparameter Tuning for Decision Trees\n",
        "\n",
        "Create an instance of `DecisionTreeClassifer` with `random_state=1` but specifying no other parameter values.  Use `GridSearchCV` to perform hyperparameter tuning with 5-fold cross validation for your decision tree model. Score your models according to accuracy. Tune over the `max_depth` parameter, considering the following hyperparameter values: **4, 8, 12, 16, 20, 24**.\n",
        "\n",
        "Print the best hyperparameter value found by grid search, as well as the best score found. Print additional text to indicate the meaning of these values in the output."
      ],
      "metadata": {
        "id": "-6rdsXrZX__t"
      },
      "id": "-6rdsXrZX__t"
    },
    {
      "cell_type": "code",
      "execution_count": null,
      "id": "2e990e1c-9541-46f1-bfeb-cc88d580163c",
      "metadata": {
        "id": "2e990e1c-9541-46f1-bfeb-cc88d580163c",
        "colab": {
          "base_uri": "https://localhost:8080/"
        },
        "outputId": "cfb335b1-d292-42d9-8d0a-5a44740a7805"
      },
      "outputs": [
        {
          "output_type": "stream",
          "name": "stdout",
          "text": [
            "Best Hyperparameter: {'max_depth': 16}\n",
            "Best Score: 0.7875661375661376\n"
          ]
        }
      ],
      "source": [
        "forest_decision = DecisionTreeClassifier()\n",
        "\n",
        "forest_decision_params = {\n",
        "    'max_depth': [4,8,12,16,20,24]\n",
        "}\n",
        "\n",
        "forest_decision_grid = GridSearchCV(forest_decision, forest_decision_params, refit=True, scoring='accuracy', cv=5, n_jobs=-1)\n",
        "\n",
        "forest_decision_grid.fit(forest_preprocessed_feature, forest_label)\n",
        "\n",
        "print(f\"Best Hyperparameter: {forest_decision_grid.best_params_}\")\n",
        "print(f\"Best Score: {forest_decision_grid.best_score_}\")"
      ]
    },
    {
      "cell_type": "markdown",
      "source": [
        "## 4.E - Visualizing Results\n",
        "\n",
        "Replace the blank in line 1 of this cell with the name of your parameter dictionary from 4.D. Replace the blank in line 2 with the name of your `GridSearchCV` object from 4.D. Then execute this cell to see how the CV scores varied with respect to the hyperparameter values. Use this graph to determine if you should re-run the previous cell with a different range of hyperparameter values."
      ],
      "metadata": {
        "id": "HHo0368rYKuj"
      },
      "id": "HHo0368rYKuj"
    },
    {
      "cell_type": "code",
      "execution_count": null,
      "id": "a937e00c-cdd4-42f4-ada0-dfa53e1d321d",
      "metadata": {
        "id": "a937e00c-cdd4-42f4-ada0-dfa53e1d321d",
        "colab": {
          "base_uri": "https://localhost:8080/",
          "height": 234
        },
        "outputId": "06731a8d-7310-4630-bcce-05fbd341bbdb"
      },
      "outputs": [
        {
          "output_type": "display_data",
          "data": {
            "text/plain": [
              "<Figure size 400x200 with 1 Axes>"
            ],
            "image/png": "[encoded data removed]"
          },
          "metadata": {}
        }
      ],
      "source": [
        "# 4.E\n",
        "max_depth = forest_decision_params['max_depth']\n",
        "scores = forest_decision_grid.cv_results_['mean_test_score']\n",
        "\n",
        "plt.figure(figsize=[4,2])\n",
        "plt.plot(max_depth, scores)\n",
        "plt.xlabel('max_depth')\n",
        "plt.ylabel('CV Score')\n",
        "plt.grid()\n",
        "plt.show()"
      ]
    },
    {
      "cell_type": "markdown",
      "source": [
        "## 4.F - Hyperparameter Tuning for Random Forests\n",
        "\n",
        "Create an instance of `RandomForestClassifer` with `random_state=1` and `n_estimators=100` but specifying no other parameter values.  Use `GridSearchCV` to perform hyperparameter tuning with 5-fold cross validation for your random forest model. Score your models according to accuracy. Tune over the `max_depth` parameter, considering the following hyperparameter values: **24, 30, 36, 42, 48**.\n",
        "\n",
        "Print the best hyperparameter value found by grid search, as well as the best score found. Print additional text to indicate the meaning of these values in the output.\n"
      ],
      "metadata": {
        "id": "kTrBl_62YlWd"
      },
      "id": "kTrBl_62YlWd"
    },
    {
      "cell_type": "code",
      "execution_count": null,
      "id": "987414bf-7376-4212-a779-fb27d50d2c7c",
      "metadata": {
        "id": "987414bf-7376-4212-a779-fb27d50d2c7c",
        "colab": {
          "base_uri": "https://localhost:8080/"
        },
        "outputId": "e2652de4-554b-45ae-b6e0-7f05eb8cabbb"
      },
      "outputs": [
        {
          "output_type": "stream",
          "name": "stdout",
          "text": [
            "Best Hyperparameter: {'max_depth': 24}\n",
            "Best Score: 0.8596560846560848\n"
          ]
        }
      ],
      "source": [
        "forest_random = RandomForestClassifier(random_state=1, n_estimators=100)\n",
        "\n",
        "forest_random_params = {\n",
        "    'max_depth': [24,30,36,42,48]\n",
        "}\n",
        "\n",
        "forest_random_grid = GridSearchCV(forest_random, forest_random_params, refit=True, scoring='accuracy', cv=5, n_jobs=-1)\n",
        "\n",
        "forest_random_grid.fit(forest_preprocessed_feature, forest_label)\n",
        "\n",
        "print(f\"Best Hyperparameter: {forest_random_grid.best_params_}\")\n",
        "print(f\"Best Score: {forest_random_grid.best_score_}\")"
      ]
    },
    {
      "cell_type": "markdown",
      "source": [
        "## 4.G - Visualizing Results\n",
        "\n",
        "Replace the blank in line 1 of this cell with the name of your parameter dictionary from 4.F. Replace the blank in line 2 with the name of your `GridSearchCV` object from 4.F. Then execute this cell to see how the CV scores varied with respect to the hyperparameter values. Use this graph to determine if you should re-run the previous cell with a different range of hyperparameter values."
      ],
      "metadata": {
        "id": "HVCH9IA7YyeB"
      },
      "id": "HVCH9IA7YyeB"
    },
    {
      "cell_type": "code",
      "execution_count": null,
      "id": "41f31dd7-a048-4bff-a3d4-832ff0930be0",
      "metadata": {
        "id": "41f31dd7-a048-4bff-a3d4-832ff0930be0",
        "colab": {
          "base_uri": "https://localhost:8080/",
          "height": 234
        },
        "outputId": "99554f74-413c-4504-8af4-0d20e81e4c78"
      },
      "outputs": [
        {
          "output_type": "display_data",
          "data": {
            "text/plain": [
              "<Figure size 400x200 with 1 Axes>"
            ],
            "image/png": "[encoded data removed]"
          },
          "metadata": {}
        }
      ],
      "source": [
        "# 4.G\n",
        "max_depth = forest_random_params['max_depth']\n",
        "scores = forest_random_grid.cv_results_['mean_test_score']\n",
        "\n",
        "plt.figure(figsize=[4,2])\n",
        "plt.plot(max_depth, scores)\n",
        "plt.xlabel('max_depth')\n",
        "plt.ylabel('CV Score')\n",
        "plt.grid()\n",
        "plt.show()"
      ]
    },
    {
      "cell_type": "markdown",
      "source": [
        "## 4.H - Classification Report\n",
        "\n",
        "Identify which of the models from above gave you the best results. Then use that model with `cross_val_predict()` with `cv=5` to generate out-of-sample predictions for the dataset. Use these predictions with `classification_report()` to generate a classification report."
      ],
      "metadata": {
        "id": "v5Y0BArLZOvT"
      },
      "id": "v5Y0BArLZOvT"
    },
    {
      "cell_type": "code",
      "execution_count": null,
      "id": "4c7d8bfa-5e4e-4346-8c7f-2dca19711e6f",
      "metadata": {
        "id": "4c7d8bfa-5e4e-4346-8c7f-2dca19711e6f",
        "colab": {
          "base_uri": "https://localhost:8080/"
        },
        "outputId": "2847291c-2ce3-4d54-bdf5-ef542748c83d"
      },
      "outputs": [
        {
          "output_type": "stream",
          "name": "stdout",
          "text": [
            "              precision    recall  f1-score   support\n",
            "\n",
            "           1       0.78      0.77      0.78      2160\n",
            "           2       0.79      0.69      0.73      2160\n",
            "           3       0.85      0.82      0.83      2160\n",
            "           4       0.92      0.97      0.95      2160\n",
            "           5       0.89      0.95      0.92      2160\n",
            "           6       0.83      0.86      0.85      2160\n",
            "           7       0.94      0.96      0.95      2160\n",
            "\n",
            "    accuracy                           0.86     15120\n",
            "   macro avg       0.86      0.86      0.86     15120\n",
            "weighted avg       0.86      0.86      0.86     15120\n",
            "\n"
          ]
        }
      ],
      "source": [
        "final_model = forest_random_grid.best_estimator_\n",
        "\n",
        "forest_pred = cross_val_predict(final_model, forest_preprocessed_feature, forest_label, cv=5, n_jobs=-1)\n",
        "\n",
        "print(classification_report(forest_label, forest_pred))"
      ]
    },
    {
      "cell_type": "markdown",
      "source": [
        "## 4.I - Confusion Matrix\n",
        "\n",
        "Use your out-of-sample predictions with `confusion_matrix()` to generate a confusion matrix. Display the confusion matrix as a DataFrame, with the rows and columns labeled according to the actual class names."
      ],
      "metadata": {
        "id": "IOzkuprFZXuH"
      },
      "id": "IOzkuprFZXuH"
    },
    {
      "cell_type": "code",
      "execution_count": null,
      "id": "a87bb41f-cf84-492a-8480-a302a6116ff0",
      "metadata": {
        "id": "a87bb41f-cf84-492a-8480-a302a6116ff0",
        "colab": {
          "base_uri": "https://localhost:8080/",
          "height": 269
        },
        "outputId": "576df25d-840e-4073-990c-5ebd7e1fc84c"
      },
      "outputs": [
        {
          "output_type": "execute_result",
          "data": {
            "text/plain": [
              "      6     1     7     5     2     4     3\n",
              "6  1660   321     2     0    45     6   126\n",
              "1   383  1488    50     0   172    53    14\n",
              "7     0     7  1766   105    22   260     0\n",
              "5     0     0    36  2097     0    27     0\n",
              "2     2    58    33     0  2043    24     0\n",
              "4     1    10   194    72    16  1867     0\n",
              "3    76     5     0     0     2     0  2077"
            ],
            "text/html": [
              "\n",
              "  <div id=\"df-e1476a36-2007-4ded-bac4-5bc84ec20f9d\" class=\"colab-df-container\">\n",
              "    <div>\n",
              "<style scoped>\n",
              "    .dataframe tbody tr th:only-of-type {\n",
              "        vertical-align: middle;\n",
              "    }\n",
              "\n",
              "    .dataframe tbody tr th {\n",
              "        vertical-align: top;\n",
              "    }\n",
              "\n",
              "    .dataframe thead th {\n",
              "        text-align: right;\n",
              "    }\n",
              "</style>\n",
              "<table border=\"1\" class=\"dataframe\">\n",
              "  <thead>\n",
              "    <tr style=\"text-align: right;\">\n",
              "      <th></th>\n",
              "      <th>6</th>\n",
              "      <th>1</th>\n",
              "      <th>7</th>\n",
              "      <th>5</th>\n",
              "      <th>2</th>\n",
              "      <th>4</th>\n",
              "      <th>3</th>\n",
              "    </tr>\n",
              "  </thead>\n",
              "  <tbody>\n",
              "    <tr>\n",
              "      <th>6</th>\n",
              "      <td>1660</td>\n",
              "      <td>321</td>\n",
              "      <td>2</td>\n",
              "      <td>0</td>\n",
              "      <td>45</td>\n",
              "      <td>6</td>\n",
              "      <td>126</td>\n",
              "    </tr>\n",
              "    <tr>\n",
              "      <th>1</th>\n",
              "      <td>383</td>\n",
              "      <td>1488</td>\n",
              "      <td>50</td>\n",
              "      <td>0</td>\n",
              "      <td>172</td>\n",
              "      <td>53</td>\n",
              "      <td>14</td>\n",
              "    </tr>\n",
              "    <tr>\n",
              "      <th>7</th>\n",
              "      <td>0</td>\n",
              "      <td>7</td>\n",
              "      <td>1766</td>\n",
              "      <td>105</td>\n",
              "      <td>22</td>\n",
              "      <td>260</td>\n",
              "      <td>0</td>\n",
              "    </tr>\n",
              "    <tr>\n",
              "      <th>5</th>\n",
              "      <td>0</td>\n",
              "      <td>0</td>\n",
              "      <td>36</td>\n",
              "      <td>2097</td>\n",
              "      <td>0</td>\n",
              "      <td>27</td>\n",
              "      <td>0</td>\n",
              "    </tr>\n",
              "    <tr>\n",
              "      <th>2</th>\n",
              "      <td>2</td>\n",
              "      <td>58</td>\n",
              "      <td>33</td>\n",
              "      <td>0</td>\n",
              "      <td>2043</td>\n",
              "      <td>24</td>\n",
              "      <td>0</td>\n",
              "    </tr>\n",
              "    <tr>\n",
              "      <th>4</th>\n",
              "      <td>1</td>\n",
              "      <td>10</td>\n",
              "      <td>194</td>\n",
              "      <td>72</td>\n",
              "      <td>16</td>\n",
              "      <td>1867</td>\n",
              "      <td>0</td>\n",
              "    </tr>\n",
              "    <tr>\n",
              "      <th>3</th>\n",
              "      <td>76</td>\n",
              "      <td>5</td>\n",
              "      <td>0</td>\n",
              "      <td>0</td>\n",
              "      <td>2</td>\n",
              "      <td>0</td>\n",
              "      <td>2077</td>\n",
              "    </tr>\n",
              "  </tbody>\n",
              "</table>\n",
              "</div>\n",
              "    <div class=\"colab-df-buttons\">\n",
              "\n",
              "  <div class=\"colab-df-container\">\n",
              "    <button class=\"colab-df-convert\" onclick=\"convertToInteractive('df-e1476a36-2007-4ded-bac4-5bc84ec20f9d')\"\n",
              "            title=\"Convert this dataframe to an interactive table.\"\n",
              "            style=\"display:none;\">\n",
              "\n",
              "  <svg xmlns=\"http://www.w3.org/2000/svg\" height=\"24px\" viewBox=\"0 -960 960 960\">\n",
              "    <path d=\"M120-120v-720h720v720H120Zm60-500h600v-160H180v160Zm220 220h160v-160H400v160Zm0 220h160v-160H400v160ZM180-400h160v-160H180v160Zm440 0h160v-160H620v160ZM180-180h160v-160H180v160Zm440 0h160v-160H620v160Z\"/>\n",
              "  </svg>\n",
              "    </button>\n",
              "\n",
              "  <style>\n",
              "    .colab-df-container {\n",
              "      display:flex;\n",
              "      gap: 12px;\n",
              "    }\n",
              "\n",
              "    .colab-df-convert {\n",
              "      background-color: #E8F0FE;\n",
              "      border: none;\n",
              "      border-radius: 50%;\n",
              "      cursor: pointer;\n",
              "      display: none;\n",
              "      fill: #1967D2;\n",
              "      height: 32px;\n",
              "      padding: 0 0 0 0;\n",
              "      width: 32px;\n",
              "    }\n",
              "\n",
              "    .colab-df-convert:hover {\n",
              "      background-color: #E2EBFA;\n",
              "      box-shadow: 0px 1px 2px rgba(60, 64, 67, 0.3), 0px 1px 3px 1px rgba(60, 64, 67, 0.15);\n",
              "      fill: #174EA6;\n",
              "    }\n",
              "\n",
              "    .colab-df-buttons div {\n",
              "      margin-bottom: 4px;\n",
              "    }\n",
              "\n",
              "    [theme=dark] .colab-df-convert {\n",
              "      background-color: #3B4455;\n",
              "      fill: #D2E3FC;\n",
              "    }\n",
              "\n",
              "    [theme=dark] .colab-df-convert:hover {\n",
              "      background-color: #434B5C;\n",
              "      box-shadow: 0px 1px 3px 1px rgba(0, 0, 0, 0.15);\n",
              "      filter: drop-shadow(0px 1px 2px rgba(0, 0, 0, 0.3));\n",
              "      fill: #FFFFFF;\n",
              "    }\n",
              "  </style>\n",
              "\n",
              "    <script>\n",
              "      const buttonEl =\n",
              "        document.querySelector('#df-e1476a36-2007-4ded-bac4-5bc84ec20f9d button.colab-df-convert');\n",
              "      buttonEl.style.display =\n",
              "        google.colab.kernel.accessAllowed ? 'block' : 'none';\n",
              "\n",
              "      async function convertToInteractive(key) {\n",
              "        const element = document.querySelector('#df-e1476a36-2007-4ded-bac4-5bc84ec20f9d');\n",
              "        const dataTable =\n",
              "          await google.colab.kernel.invokeFunction('convertToInteractive',\n",
              "                                                    [key], {});\n",
              "        if (!dataTable) return;\n",
              "\n",
              "        const docLinkHtml = 'Like what you see? Visit the ' +\n",
              "          '<a target=\"_blank\" href=https://colab.research.google.com/notebooks/data_table.ipynb>data table notebook</a>'\n",
              "          + ' to learn more about interactive tables.';\n",
              "        element.innerHTML = '';\n",
              "        dataTable['output_type'] = 'display_data';\n",
              "        await google.colab.output.renderOutput(dataTable, element);\n",
              "        const docLink = document.createElement('div');\n",
              "        docLink.innerHTML = docLinkHtml;\n",
              "        element.appendChild(docLink);\n",
              "      }\n",
              "    </script>\n",
              "  </div>\n",
              "\n",
              "\n",
              "<div id=\"df-2ae168ca-f11e-420b-93c9-e97639b51724\">\n",
              "  <button class=\"colab-df-quickchart\" onclick=\"quickchart('df-2ae168ca-f11e-420b-93c9-e97639b51724')\"\n",
              "            title=\"Suggest charts\"\n",
              "            style=\"display:none;\">\n",
              "\n",
              "<svg xmlns=\"http://www.w3.org/2000/svg\" height=\"24px\"viewBox=\"0 0 24 24\"\n",
              "     width=\"24px\">\n",
              "    <g>\n",
              "        <path d=\"M19 3H5c-1.1 0-2 .9-2 2v14c0 1.1.9 2 2 2h14c1.1 0 2-.9 2-2V5c0-1.1-.9-2-2-2zM9 17H7v-7h2v7zm4 0h-2V7h2v10zm4 0h-2v-4h2v4z\"/>\n",
              "    </g>\n",
              "</svg>\n",
              "  </button>\n",
              "\n",
              "<style>\n",
              "  .colab-df-quickchart {\n",
              "      --bg-color: #E8F0FE;\n",
              "      --fill-color: #1967D2;\n",
              "      --hover-bg-color: #E2EBFA;\n",
              "      --hover-fill-color: #174EA6;\n",
              "      --disabled-fill-color: #AAA;\n",
              "      --disabled-bg-color: #DDD;\n",
              "  }\n",
              "\n",
              "  [theme=dark] .colab-df-quickchart {\n",
              "      --bg-color: #3B4455;\n",
              "      --fill-color: #D2E3FC;\n",
              "      --hover-bg-color: #434B5C;\n",
              "      --hover-fill-color: #FFFFFF;\n",
              "      --disabled-bg-color: #3B4455;\n",
              "      --disabled-fill-color: #666;\n",
              "  }\n",
              "\n",
              "  .colab-df-quickchart {\n",
              "    background-color: var(--bg-color);\n",
              "    border: none;\n",
              "    border-radius: 50%;\n",
              "    cursor: pointer;\n",
              "    display: none;\n",
              "    fill: var(--fill-color);\n",
              "    height: 32px;\n",
              "    padding: 0;\n",
              "    width: 32px;\n",
              "  }\n",
              "\n",
              "  .colab-df-quickchart:hover {\n",
              "    background-color: var(--hover-bg-color);\n",
              "    box-shadow: 0 1px 2px rgba(60, 64, 67, 0.3), 0 1px 3px 1px rgba(60, 64, 67, 0.15);\n",
              "    fill: var(--button-hover-fill-color);\n",
              "  }\n",
              "\n",
              "  .colab-df-quickchart-complete:disabled,\n",
              "  .colab-df-quickchart-complete:disabled:hover {\n",
              "    background-color: var(--disabled-bg-color);\n",
              "    fill: var(--disabled-fill-color);\n",
              "    box-shadow: none;\n",
              "  }\n",
              "\n",
              "  .colab-df-spinner {\n",
              "    border: 2px solid var(--fill-color);\n",
              "    border-color: transparent;\n",
              "    border-bottom-color: var(--fill-color);\n",
              "    animation:\n",
              "      spin 1s steps(1) infinite;\n",
              "  }\n",
              "\n",
              "  @keyframes spin {\n",
              "    0% {\n",
              "      border-color: transparent;\n",
              "      border-bottom-color: var(--fill-color);\n",
              "      border-left-color: var(--fill-color);\n",
              "    }\n",
              "    20% {\n",
              "      border-color: transparent;\n",
              "      border-left-color: var(--fill-color);\n",
              "      border-top-color: var(--fill-color);\n",
              "    }\n",
              "    30% {\n",
              "      border-color: transparent;\n",
              "      border-left-color: var(--fill-color);\n",
              "      border-top-color: var(--fill-color);\n",
              "      border-right-color: var(--fill-color);\n",
              "    }\n",
              "    40% {\n",
              "      border-color: transparent;\n",
              "      border-right-color: var(--fill-color);\n",
              "      border-top-color: var(--fill-color);\n",
              "    }\n",
              "    60% {\n",
              "      border-color: transparent;\n",
              "      border-right-color: var(--fill-color);\n",
              "    }\n",
              "    80% {\n",
              "      border-color: transparent;\n",
              "      border-right-color: var(--fill-color);\n",
              "      border-bottom-color: var(--fill-color);\n",
              "    }\n",
              "    90% {\n",
              "      border-color: transparent;\n",
              "      border-bottom-color: var(--fill-color);\n",
              "    }\n",
              "  }\n",
              "</style>\n",
              "\n",
              "  <script>\n",
              "    async function quickchart(key) {\n",
              "      const quickchartButtonEl =\n",
              "        document.querySelector('#' + key + ' button');\n",
              "      quickchartButtonEl.disabled = true;  // To prevent multiple clicks.\n",
              "      quickchartButtonEl.classList.add('colab-df-spinner');\n",
              "      try {\n",
              "        const charts = await google.colab.kernel.invokeFunction(\n",
              "            'suggestCharts', [key], {});\n",
              "      } catch (error) {\n",
              "        console.error('Error during call to suggestCharts:', error);\n",
              "      }\n",
              "      quickchartButtonEl.classList.remove('colab-df-spinner');\n",
              "      quickchartButtonEl.classList.add('colab-df-quickchart-complete');\n",
              "    }\n",
              "    (() => {\n",
              "      let quickchartButtonEl =\n",
              "        document.querySelector('#df-2ae168ca-f11e-420b-93c9-e97639b51724 button');\n",
              "      quickchartButtonEl.style.display =\n",
              "        google.colab.kernel.accessAllowed ? 'block' : 'none';\n",
              "    })();\n",
              "  </script>\n",
              "</div>\n",
              "\n",
              "  <div id=\"id_5e0f11d7-6f13-4761-b3a1-7d86e6a068a6\">\n",
              "    <style>\n",
              "      .colab-df-generate {\n",
              "        background-color: #E8F0FE;\n",
              "        border: none;\n",
              "        border-radius: 50%;\n",
              "        cursor: pointer;\n",
              "        display: none;\n",
              "        fill: #1967D2;\n",
              "        height: 32px;\n",
              "        padding: 0 0 0 0;\n",
              "        width: 32px;\n",
              "      }\n",
              "\n",
              "      .colab-df-generate:hover {\n",
              "        background-color: #E2EBFA;\n",
              "        box-shadow: 0px 1px 2px rgba(60, 64, 67, 0.3), 0px 1px 3px 1px rgba(60, 64, 67, 0.15);\n",
              "        fill: #174EA6;\n",
              "      }\n",
              "\n",
              "      [theme=dark] .colab-df-generate {\n",
              "        background-color: #3B4455;\n",
              "        fill: #D2E3FC;\n",
              "      }\n",
              "\n",
              "      [theme=dark] .colab-df-generate:hover {\n",
              "        background-color: #434B5C;\n",
              "        box-shadow: 0px 1px 3px 1px rgba(0, 0, 0, 0.15);\n",
              "        filter: drop-shadow(0px 1px 2px rgba(0, 0, 0, 0.3));\n",
              "        fill: #FFFFFF;\n",
              "      }\n",
              "    </style>\n",
              "    <button class=\"colab-df-generate\" onclick=\"generateWithVariable('forest_cm_df')\"\n",
              "            title=\"Generate code using this dataframe.\"\n",
              "            style=\"display:none;\">\n",
              "\n",
              "  <svg xmlns=\"http://www.w3.org/2000/svg\" height=\"24px\"viewBox=\"0 0 24 24\"\n",
              "       width=\"24px\">\n",
              "    <path d=\"M7,19H8.4L18.45,9,17,7.55,7,17.6ZM5,21V16.75L18.45,3.32a2,2,0,0,1,2.83,0l1.4,1.43a1.91,1.91,0,0,1,.58,1.4,1.91,1.91,0,0,1-.58,1.4L9.25,21ZM18.45,9,17,7.55Zm-12,3A5.31,5.31,0,0,0,4.9,8.1,5.31,5.31,0,0,0,1,6.5,5.31,5.31,0,0,0,4.9,4.9,5.31,5.31,0,0,0,6.5,1,5.31,5.31,0,0,0,8.1,4.9,5.31,5.31,0,0,0,12,6.5,5.46,5.46,0,0,0,6.5,12Z\"/>\n",
              "  </svg>\n",
              "    </button>\n",
              "    <script>\n",
              "      (() => {\n",
              "      const buttonEl =\n",
              "        document.querySelector('#id_5e0f11d7-6f13-4761-b3a1-7d86e6a068a6 button.colab-df-generate');\n",
              "      buttonEl.style.display =\n",
              "        google.colab.kernel.accessAllowed ? 'block' : 'none';\n",
              "\n",
              "      buttonEl.onclick = () => {\n",
              "        google.colab.notebook.generateWithVariable('forest_cm_df');\n",
              "      }\n",
              "      })();\n",
              "    </script>\n",
              "  </div>\n",
              "\n",
              "    </div>\n",
              "  </div>\n"
            ],
            "application/vnd.google.colaboratory.intrinsic+json": {
              "type": "dataframe",
              "variable_name": "forest_cm_df",
              "summary": "{\n  \"name\": \"forest_cm_df\",\n  \"rows\": 7,\n  \"fields\": [\n    {\n      \"column\": 6,\n      \"properties\": {\n        \"dtype\": \"number\",\n        \"std\": 614,\n        \"min\": 0,\n        \"max\": 1660,\n        \"num_unique_values\": 6,\n        \"samples\": [\n          1660,\n          383,\n          76\n        ],\n        \"semantic_type\": \"\",\n        \"description\": \"\"\n      }\n    },\n    {\n      \"column\": 1,\n      \"properties\": {\n        \"dtype\": \"number\",\n        \"std\": 549,\n        \"min\": 0,\n        \"max\": 1488,\n        \"num_unique_values\": 7,\n        \"samples\": [\n          321,\n          1488,\n          10\n        ],\n        \"semantic_type\": \"\",\n        \"description\": \"\"\n      }\n    },\n    {\n      \"column\": 7,\n      \"properties\": {\n        \"dtype\": \"number\",\n        \"std\": 650,\n        \"min\": 0,\n        \"max\": 1766,\n        \"num_unique_values\": 7,\n        \"samples\": [\n          2,\n          50,\n          194\n        ],\n        \"semantic_type\": \"\",\n        \"description\": \"\"\n      }\n    },\n    {\n      \"column\": 5,\n      \"properties\": {\n        \"dtype\": \"number\",\n        \"std\": 782,\n        \"min\": 0,\n        \"max\": 2097,\n        \"num_unique_values\": 4,\n        \"samples\": [\n          105,\n          72,\n          0\n        ],\n        \"semantic_type\": \"\",\n        \"description\": \"\"\n      }\n    },\n    {\n      \"column\": 2,\n      \"properties\": {\n        \"dtype\": \"number\",\n        \"std\": 758,\n        \"min\": 0,\n        \"max\": 2043,\n        \"num_unique_values\": 7,\n        \"samples\": [\n          45,\n          172,\n          16\n        ],\n        \"semantic_type\": \"\",\n        \"description\": \"\"\n      }\n    },\n    {\n      \"column\": 4,\n      \"properties\": {\n        \"dtype\": \"number\",\n        \"std\": 688,\n        \"min\": 0,\n        \"max\": 1867,\n        \"num_unique_values\": 7,\n        \"samples\": [\n          6,\n          53,\n          1867\n        ],\n        \"semantic_type\": \"\",\n        \"description\": \"\"\n      }\n    },\n    {\n      \"column\": 3,\n      \"properties\": {\n        \"dtype\": \"number\",\n        \"std\": 777,\n        \"min\": 0,\n        \"max\": 2077,\n        \"num_unique_values\": 4,\n        \"samples\": [\n          14,\n          2077,\n          126\n        ],\n        \"semantic_type\": \"\",\n        \"description\": \"\"\n      }\n    }\n  ]\n}"
            }
          },
          "metadata": {},
          "execution_count": 30
        }
      ],
      "source": [
        "class_names = forest['Cover_Type'].unique()\n",
        "\n",
        "forest_cm = confusion_matrix(forest_label, forest_pred)\n",
        "forest_cm_df = pd.DataFrame(forest_cm, index=class_names, columns=class_names)\n",
        "\n",
        "forest_cm_df"
      ]
    },
    {
      "cell_type": "markdown",
      "source": [
        "# Submission Instructions\n",
        "\n",
        "1. Perform a Restart and Run All by clicking **Tools > Restart session and run all**.\n",
        "2. Copy the link to your notebook by clicking **Share > Copy Link**.\n",
        "3. Paste the copied link into the `notebook_url` field in the [Notebook Renderer](https://colab.research.google.com/drive/1CJTipys46ldZxJFwnt7XbdjQUfkmoXeU?usp=sharing) tool and then execute the cell to render the notebook.\n",
        "4. The Notebook Renderer will open up a save file dialog. Save the resulting HTML file yo your local machine.\n",
        "5. Submit the HTML file to Canvas."
      ],
      "metadata": {
        "id": "555TmqJd9QFz"
      },
      "id": "555TmqJd9QFz"
    }
  ],
  "metadata": {
    "kernelspec": {
      "display_name": "Python 3 (ipykernel)",
      "language": "python",
      "name": "python3"
    },
    "language_info": {
      "codemirror_mode": {
        "name": "ipython",
        "version": 3
      },
      "file_extension": ".py",
      "mimetype": "text/x-python",
      "name": "python",
      "nbconvert_exporter": "python",
      "pygments_lexer": "ipython3",
      "version": "3.9.12"
    },
    "colab": {
      "provenance": [],
      "include_colab_link": true
    }
  },
  "nbformat": 4,
  "nbformat_minor": 5
}