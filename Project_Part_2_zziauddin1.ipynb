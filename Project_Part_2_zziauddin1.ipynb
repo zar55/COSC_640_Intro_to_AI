{
  "cells": [
    {
      "cell_type": "markdown",
      "metadata": {
        "id": "view-in-github",
        "colab_type": "text"
      },
      "source": [
        "<a href=\"https://colab.research.google.com/github/zar55/COSC_640_Intro_to_AI/blob/Nim-Final-Projct/Project_Part_2_zziauddin1.ipynb\" target=\"_parent\"><img src=\"https://colab.research.google.com/assets/colab-badge.svg\" alt=\"Open In Colab\"/></a>"
      ]
    },
    {
      "cell_type": "markdown",
      "id": "bfa3c214-7c6b-475a-8091-9ac00806f96c",
      "metadata": {
        "id": "bfa3c214-7c6b-475a-8091-9ac00806f96c"
      },
      "source": [
        "# COSC-640: Project (Part 2)\n",
        "\n",
        "**Zargham Ziauddin**\n",
        "\n",
        "[PLACEHOLDER_FOR_NOTEBOOK_LINK]\n"
      ]
    },
    {
      "cell_type": "markdown",
      "source": [
        "## Getting Started\n",
        "\n",
        "Follow the instructions below to copy this notebook and to perform some initial setup.\n",
        "\n",
        "1. Copy this notebook by selecting `File > Save a copy in Drive`.\n",
        "2. A new window should open for the copied notebook. Move the new notebook to your course folder in Google Drive by selecting `File > Move` and then selecting the desired folder.\n",
        "3. Update the name of the notebook by removing \"Copy of\" and replacing \"Username\" with your actual username.\n",
        "4. Update the first cell in the notebook by replacing \"**Student Name**\" with your actual name.\n",
        "5. Do not edit the line that says `PLACEHOLDER_FOR_NOTEBOOK_LINK`. This will be used by the [Notebook Renderer](https://colab.research.google.com/drive/1CJTipys46ldZxJFwnt7XbdjQUfkmoXeU?usp=sharing) tool to insert a link to your Colab notebook.\n",
        "6. Enable link sharing for your notebook."
      ],
      "metadata": {
        "id": "WFZxEvnef2wV"
      },
      "id": "WFZxEvnef2wV"
    },
    {
      "cell_type": "markdown",
      "source": [
        "## Preparing the Colab Environment\n",
        "\n",
        "Run the cell below to download the `aitools` course package."
      ],
      "metadata": {
        "id": "7vA0WRCygJMX"
      },
      "id": "7vA0WRCygJMX"
    },
    {
      "cell_type": "code",
      "source": [
        "%%capture\n",
        "!rm aitools -r\n",
        "!git clone https://github.com/drbeane/aitools.git"
      ],
      "metadata": {
        "id": "xFiiaJPAgXdv"
      },
      "id": "xFiiaJPAgXdv",
      "execution_count": null,
      "outputs": []
    },
    {
      "cell_type": "markdown",
      "source": [
        "Run the cell below to import the necessary tools for this assignment. No other import statements are required for this lab, and no other import statements should be included in this assignment."
      ],
      "metadata": {
        "id": "X_l4XzmzgXwv"
      },
      "id": "X_l4XzmzgXwv"
    },
    {
      "cell_type": "code",
      "source": [
        "from aitools.algs import RandomPlayer, GreedyPlayer, MinimaxPlayer, HumanPlayer\n",
        "from aitools.algs import play_game, tournament"
      ],
      "metadata": {
        "id": "a5JitfK6hFMI"
      },
      "id": "a5JitfK6hFMI",
      "execution_count": null,
      "outputs": []
    },
    {
      "cell_type": "markdown",
      "source": [
        "# Description of Part 2\n",
        "\n",
        "In Part 2 of the project, you will apply adversarial search techniques to the Nim game environment."
      ],
      "metadata": {
        "id": "HlU9MgRGf_zk"
      },
      "id": "HlU9MgRGf_zk"
    },
    {
      "cell_type": "markdown",
      "source": [
        "# Define `Nim` Class\n",
        "\n",
        "Copy the definition for the `Nim` class from Part 1 of the project into the cell below."
      ],
      "metadata": {
        "id": "4eqL4ltIhIRd"
      },
      "id": "4eqL4ltIhIRd"
    },
    {
      "cell_type": "code",
      "source": [
        "class Nim:\n",
        "\n",
        "    def __init__(self, piles, stones, limit):\n",
        "      self.piles = piles\n",
        "      self.stones = stones\n",
        "      self.limit = limit\n",
        "      self.winner = None\n",
        "      self.turns = 0\n",
        "      self.cur_player = 1\n",
        "      self.board = [self.stones]*self.piles\n",
        "\n",
        "      pass\n",
        "\n",
        "\n",
        "    def display(self):\n",
        "      print(f\"Current Turn: {self.turns}, Current Player: {self.cur_player}, Piles: {self.board}\")\n",
        "\n",
        "      pass\n",
        "\n",
        "\n",
        "    def copy(self):\n",
        "      new_node = Nim(piles=self.piles, stones=self.stones, limit=self.limit)\n",
        "\n",
        "      new_node.winner = self.winner\n",
        "      new_node.turns = self.turns\n",
        "      new_node.cur_player = self.cur_player\n",
        "\n",
        "      new_node.board = self.board.copy()\n",
        "\n",
        "      return new_node\n",
        "\n",
        "      pass\n",
        "\n",
        "\n",
        "    def check_for_win(self):\n",
        "      if all(stones == 0 for stones in self.board):\n",
        "        self.winner = self.cur_player\n",
        "\n",
        "      pass\n",
        "\n",
        "\n",
        "    def get_actions(self):\n",
        "      actions = []\n",
        "\n",
        "      for pile_index, stones_in_pile in enumerate(self.board):\n",
        "        max_stones = min(self.limit, stones_in_pile)\n",
        "\n",
        "        for num_stones in range(1, max_stones + 1):\n",
        "                actions.append((pile_index, num_stones))\n",
        "\n",
        "      return actions\n",
        "\n",
        "      pass\n",
        "\n",
        "    def take_action(self, a):\n",
        "      new_node = self.copy()\n",
        "\n",
        "      pile_index, stones_removed = a\n",
        "      new_node.board[pile_index] -= stones_removed\n",
        "\n",
        "      new_node.turns += 1\n",
        "\n",
        "      new_node.cur_player = 3 - new_node.cur_player\n",
        "\n",
        "      new_node.check_for_win()\n",
        "\n",
        "      return new_node\n",
        "\n",
        "      pass\n",
        "\n",
        "\n",
        "    def get_state(self):\n",
        "        s = 0\n",
        "        for i in range(self.piles):\n",
        "            s += self.board[i] * (self.stones + 1) ** i\n",
        "        return s\n",
        "\n",
        "    def heuristic(self, agent, mode=None):\n",
        "        return 0"
      ],
      "metadata": {
        "id": "geVSCByLhSR4"
      },
      "id": "geVSCByLhSR4",
      "execution_count": null,
      "outputs": []
    },
    {
      "cell_type": "markdown",
      "id": "e565b96c-7757-493e-8981-7ad1af2e750b",
      "metadata": {
        "id": "e565b96c-7757-493e-8981-7ad1af2e750b"
      },
      "source": [
        "# Part 1: Playing a Single Game\n",
        "\n",
        "We will test the `Nim` class by playing a single game between two `RandomPlayer` agents. Create an instance of `Nim` with 3 piles, 9 stones per pile, and with a limit of 5 stones per action. Then create two instances of `RandomPlayer` and use `play_game()` to simulate a game between the agents. Set `display_flags='aws'` and `random_state=1`. If everything was implemented correctly, then Player 2 should take action `(0, 5)` on turn 12, resulting in a Player 1 win."
      ]
    },
    {
      "cell_type": "code",
      "execution_count": null,
      "id": "f913d4e2-d133-42f8-9571-14ac5b5cc9d1",
      "metadata": {
        "id": "f913d4e2-d133-42f8-9571-14ac5b5cc9d1",
        "colab": {
          "base_uri": "https://localhost:8080/"
        },
        "outputId": "8686ba8e-9dc1-420f-f113-177149886723"
      },
      "outputs": [
        {
          "output_type": "stream",
          "name": "stdout",
          "text": [
            "Turn 1: Player 1 takes Action (1, 1)\n",
            "Current Turn: 1, Current Player: 2, Piles: [9, 8, 9]\n",
            "Turn 2: Player 2 takes Action (2, 2)\n",
            "Current Turn: 2, Current Player: 1, Piles: [9, 8, 7]\n",
            "Turn 3: Player 1 takes Action (2, 3)\n",
            "Current Turn: 3, Current Player: 2, Piles: [9, 8, 4]\n",
            "Turn 4: Player 2 takes Action (1, 4)\n",
            "Current Turn: 4, Current Player: 1, Piles: [9, 4, 4]\n",
            "Turn 5: Player 1 takes Action (2, 1)\n",
            "Current Turn: 5, Current Player: 2, Piles: [9, 4, 3]\n",
            "Turn 6: Player 2 takes Action (2, 3)\n",
            "Current Turn: 6, Current Player: 1, Piles: [9, 4, 0]\n",
            "Turn 7: Player 1 takes Action (1, 1)\n",
            "Current Turn: 7, Current Player: 2, Piles: [9, 3, 0]\n",
            "Turn 8: Player 2 takes Action (1, 3)\n",
            "Current Turn: 8, Current Player: 1, Piles: [9, 0, 0]\n",
            "Turn 9: Player 1 takes Action (0, 1)\n",
            "Current Turn: 9, Current Player: 2, Piles: [8, 0, 0]\n",
            "Turn 10: Player 2 takes Action (0, 1)\n",
            "Current Turn: 10, Current Player: 1, Piles: [7, 0, 0]\n",
            "Turn 11: Player 1 takes Action (0, 2)\n",
            "Current Turn: 11, Current Player: 2, Piles: [5, 0, 0]\n",
            "Turn 12: Player 2 takes Action (0, 5)\n",
            "Current Turn: 12, Current Player: 1, Piles: [0, 0, 0]\n",
            "Random Player 01 wins!\n"
          ]
        },
        {
          "output_type": "execute_result",
          "data": {
            "text/plain": [
              "<__main__.Nim at 0x7efb8fd82890>"
            ]
          },
          "metadata": {},
          "execution_count": 4
        }
      ],
      "source": [
        "nim = Nim(piles=3, stones=9, limit=5)\n",
        "\n",
        "random01 = RandomPlayer('Random Player 01')\n",
        "\n",
        "random02 = RandomPlayer('Random Player 02')\n",
        "\n",
        "game = play_game(root=nim, agents=[random01,random02], display_flags='aws', random_state=1)\n",
        "\n",
        "game"
      ]
    },
    {
      "cell_type": "markdown",
      "id": "66b3d45f-a504-4ad1-9d37-989e0b995859",
      "metadata": {
        "id": "66b3d45f-a504-4ad1-9d37-989e0b995859"
      },
      "source": [
        "# Part 2: Tournaments\n",
        "\n",
        "Run five tournaments between the pairs of agents as described below. In each case, use an instance of `Nim` with 3 piles, 9 stones per pile, and with a limit of 5 stones per action. Your tournaments should all consist of 1000 rounds with agents alternating who plays first. Set `random_state=1` for each of your tournaments."
      ]
    },
    {
      "cell_type": "markdown",
      "source": [
        "## 2.A - Random vs Random\n",
        "\n",
        "Run a tournament between two `RandomPlayer` Agents"
      ],
      "metadata": {
        "id": "INgcGDMZidSX"
      },
      "id": "INgcGDMZidSX"
    },
    {
      "cell_type": "code",
      "execution_count": null,
      "id": "035590be-b67a-4815-88b0-c30deb81640d",
      "metadata": {
        "id": "035590be-b67a-4815-88b0-c30deb81640d",
        "colab": {
          "base_uri": "https://localhost:8080/"
        },
        "outputId": "f21fe5ef-bf11-40c8-9c7a-56e8bd8403e2"
      },
      "outputs": [
        {
          "output_type": "stream",
          "name": "stderr",
          "text": [
            "100%|██████████| 1000/1000 [00:00<00:00, 1411.06it/s]"
          ]
        },
        {
          "output_type": "stream",
          "name": "stdout",
          "text": [
            "Random Player 01 vs. Random Player 02\n",
            "-------------------------------------\n",
            "Ties:          0\n",
            "Player 1 Wins: 474\n",
            "Player 2 Wins: 526\n",
            "Player 1 took: 0.33 seconds\n",
            "Player 2 took: 0.23 seconds\n",
            "Average number of turns: 11.2\n"
          ]
        },
        {
          "output_type": "stream",
          "name": "stderr",
          "text": [
            "\n"
          ]
        }
      ],
      "source": [
        "nim = Nim(piles=3, stones=9, limit=5)\n",
        "\n",
        "random01 = RandomPlayer('Random Player 01')\n",
        "\n",
        "random02 = RandomPlayer('Random Player 02')\n",
        "\n",
        "tournament(root=nim, agents=[random01,random02], rounds=1000, random_state=1)"
      ]
    },
    {
      "cell_type": "markdown",
      "source": [
        "## 2.B - Random vs Minimax(2)\n",
        "\n",
        "Run a tournament between a `RandomPlayer` agent and a `MininmaxPlayer` agent with `depth=2`.\n",
        "\n",
        "Please list the `RandomPlayer` agent first in the player list.\n"
      ],
      "metadata": {
        "id": "mO6O9E0eiq6Z"
      },
      "id": "mO6O9E0eiq6Z"
    },
    {
      "cell_type": "code",
      "execution_count": null,
      "id": "b1ba6271-2d35-4d8b-af46-4dbd8d863d65",
      "metadata": {
        "id": "b1ba6271-2d35-4d8b-af46-4dbd8d863d65",
        "colab": {
          "base_uri": "https://localhost:8080/"
        },
        "outputId": "c9425dca-489c-48c9-abea-d486e6e69abc"
      },
      "outputs": [
        {
          "output_type": "stream",
          "name": "stderr",
          "text": [
            "100%|██████████| 1000/1000 [00:04<00:00, 219.35it/s]"
          ]
        },
        {
          "output_type": "stream",
          "name": "stdout",
          "text": [
            "Random Player vs. Minimax(2)\n",
            "----------------------------\n",
            "Ties:          0\n",
            "Player 1 Wins: 154\n",
            "Player 2 Wins: 846\n",
            "Player 1 took: 0.24 seconds\n",
            "Player 2 took: 4.05 seconds\n",
            "Average number of turns: 10.9\n"
          ]
        },
        {
          "output_type": "stream",
          "name": "stderr",
          "text": [
            "\n"
          ]
        }
      ],
      "source": [
        "random = RandomPlayer('Random Player')\n",
        "\n",
        "minimax = MinimaxPlayer('Minimax(2)', depth=2)\n",
        "\n",
        "tournament(root=nim, agents=[random,minimax], rounds=1000, random_state=1)"
      ]
    },
    {
      "cell_type": "markdown",
      "source": [
        "## 2.C - Random vs Minimax(3)\n",
        "\n",
        "Run a tournament between a `RandomPlayer` agent and a `MininmaxPlayer` agent with `depth=3`.\n",
        "\n",
        "Please list the `RandomPlayer` agent first in the player list.\n"
      ],
      "metadata": {
        "id": "rS2lb999iv_P"
      },
      "id": "rS2lb999iv_P"
    },
    {
      "cell_type": "code",
      "execution_count": null,
      "id": "ddc31553-ff96-4a28-8a1a-65e67b5060bc",
      "metadata": {
        "id": "ddc31553-ff96-4a28-8a1a-65e67b5060bc",
        "colab": {
          "base_uri": "https://localhost:8080/"
        },
        "outputId": "05a0769d-3ca0-4377-c42b-a2d2014c62d0"
      },
      "outputs": [
        {
          "output_type": "stream",
          "name": "stderr",
          "text": [
            "100%|██████████| 1000/1000 [00:28<00:00, 35.25it/s]"
          ]
        },
        {
          "output_type": "stream",
          "name": "stdout",
          "text": [
            "Random Player vs. Minimax(3)\n",
            "----------------------------\n",
            "Ties:          0\n",
            "Player 1 Wins: 88\n",
            "Player 2 Wins: 912\n",
            "Player 1 took: 0.19 seconds\n",
            "Player 2 took: 27.56 seconds\n",
            "Average number of turns: 11.3\n"
          ]
        },
        {
          "output_type": "stream",
          "name": "stderr",
          "text": [
            "\n"
          ]
        }
      ],
      "source": [
        "random = RandomPlayer('Random Player')\n",
        "\n",
        "minimax = MinimaxPlayer('Minimax(3)', depth=3)\n",
        "\n",
        "tournament(root=nim, agents=[random,minimax], rounds=1000, random_state=1)"
      ]
    },
    {
      "cell_type": "markdown",
      "source": [
        "## 2.B - Random vs Minimax(4)\n",
        "\n",
        "Run a tournament between a `RandomPlayer` agent and a `MininmaxPlayer` agent with `depth=4`.\n",
        "\n",
        "Please list the `RandomPlayer` agent first in the player list.\n"
      ],
      "metadata": {
        "id": "SuQEY2ydiwdS"
      },
      "id": "SuQEY2ydiwdS"
    },
    {
      "cell_type": "code",
      "execution_count": null,
      "id": "d2b2c1b4-79f7-44a5-b082-8a3c3c804b25",
      "metadata": {
        "id": "d2b2c1b4-79f7-44a5-b082-8a3c3c804b25",
        "colab": {
          "base_uri": "https://localhost:8080/"
        },
        "outputId": "7a36b6f0-78a9-494c-b4a9-a886807fca96"
      },
      "outputs": [
        {
          "output_type": "stream",
          "name": "stderr",
          "text": [
            "100%|██████████| 1000/1000 [04:41<00:00,  3.55it/s]"
          ]
        },
        {
          "output_type": "stream",
          "name": "stdout",
          "text": [
            "Random Player vs. Minimax(4)\n",
            "----------------------------\n",
            "Ties:          0\n",
            "Player 1 Wins: 34\n",
            "Player 2 Wins: 966\n",
            "Player 1 took: 0.25 seconds\n",
            "Player 2 took: 278.83 seconds\n",
            "Average number of turns: 10.9\n"
          ]
        },
        {
          "output_type": "stream",
          "name": "stderr",
          "text": [
            "\n"
          ]
        }
      ],
      "source": [
        "random = RandomPlayer('Random Player')\n",
        "\n",
        "minimax = MinimaxPlayer('Minimax(4)', depth=4)\n",
        "\n",
        "tournament(root=nim, agents=[random,minimax], rounds=1000, random_state=1)"
      ]
    },
    {
      "cell_type": "markdown",
      "source": [
        "## 2.B - Minimax(2) vs Minimax(3)\n",
        "\n",
        "Run a tournament between a `MininmaxPlayer` agent with `depth=2` and a `MininmaxPlayer` agent with `depth=3`.\n",
        "\n",
        "Please list the `depth=2` agent first in the player list.\n"
      ],
      "metadata": {
        "id": "sTuyPZS_iw3i"
      },
      "id": "sTuyPZS_iw3i"
    },
    {
      "cell_type": "code",
      "execution_count": null,
      "id": "68fce886-f2d7-408e-b828-31109d49b839",
      "metadata": {
        "id": "68fce886-f2d7-408e-b828-31109d49b839",
        "colab": {
          "base_uri": "https://localhost:8080/"
        },
        "outputId": "2d4fb63c-d188-4d24-c20f-f63b8705e153"
      },
      "outputs": [
        {
          "output_type": "stream",
          "name": "stderr",
          "text": [
            "100%|██████████| 1000/1000 [00:30<00:00, 32.84it/s]"
          ]
        },
        {
          "output_type": "stream",
          "name": "stdout",
          "text": [
            "Minimax(2) vs. Minimax(3)\n",
            "-------------------------\n",
            "Ties:          0\n",
            "Player 1 Wins: 159\n",
            "Player 2 Wins: 841\n",
            "Player 1 took: 2.76 seconds\n",
            "Player 2 took: 27.06 seconds\n",
            "Average number of turns: 11.3\n"
          ]
        },
        {
          "output_type": "stream",
          "name": "stderr",
          "text": [
            "\n"
          ]
        }
      ],
      "source": [
        "minimax_2 = MinimaxPlayer('Minimax(2)', depth=2)\n",
        "\n",
        "minimax_3 = MinimaxPlayer('Minimax(3)', depth=3)\n",
        "\n",
        "tournament(root=nim, agents=[minimax_2,minimax_3], rounds=1000, random_state=1)"
      ]
    },
    {
      "cell_type": "markdown",
      "id": "c3da61cc-728a-4b07-9037-110fc4f31e0a",
      "metadata": {
        "id": "c3da61cc-728a-4b07-9037-110fc4f31e0a"
      },
      "source": [
        "# Part 3: Human vs AI Agents\n",
        "\n",
        "In Part 3, you will actually play games against the `RandomPlayer` and `MininmaxPlayer` agents."
      ]
    },
    {
      "cell_type": "markdown",
      "source": [
        "## 3.A - Human vs Random\n",
        "\n",
        "Create an instance of `Nim` with 3 piles, 9 stones per pile, and with a limit of 5 stones per action. Then create an instance of `RandomPlayer` and an instance of `HumanPlayer`. When creating the `HumanPlayer`, set `clear=False`.\n",
        "\n",
        "Then use `play_game()` to play a game against the `RandomPlayer` agent. Set `display_flags='aws'` when calling `play_game()`. You can select which player plays first. When selecting actions, you can enter your actions as a tuple of the form `(pile_index, number_of_stones)`. You can also ommit the parentheses and the action will still be accepted.\n",
        "\n",
        "You are welcome to play a few games against this agent, but your final submission should demonstrate a game in which you defeat the `RandomPlayer` agent. This should not require you to learn any deep strategy about playing Nim, and should not be that difficult to do. If you are having difficulties defeating the random player, then I would suggest playing defensively, removing only a few stones at a time and waiting until you have an opportunity to force the random player to take the last stone."
      ],
      "metadata": {
        "id": "sxyPmgBUj6n2"
      },
      "id": "sxyPmgBUj6n2"
    },
    {
      "cell_type": "code",
      "execution_count": null,
      "id": "1cd27adb-7101-4867-a9c5-505304b30244",
      "metadata": {
        "id": "1cd27adb-7101-4867-a9c5-505304b30244",
        "colab": {
          "base_uri": "https://localhost:8080/"
        },
        "outputId": "4d9abed3-6b79-49c3-bd4b-f5e12a5a55cb"
      },
      "outputs": [
        {
          "output_type": "stream",
          "name": "stdout",
          "text": [
            "Please select an action:0,3\n",
            "Turn 1: Player 1 takes Action (0, 3)\n",
            "Current Turn: 1, Current Player: 2, Piles: [6, 9, 9]\n",
            "Turn 2: Player 2 takes Action (1, 1)\n",
            "Current Turn: 2, Current Player: 1, Piles: [6, 8, 9]\n",
            "Please select an action:2,4\n",
            "Turn 3: Player 1 takes Action (2, 4)\n",
            "Current Turn: 3, Current Player: 2, Piles: [6, 8, 5]\n",
            "Turn 4: Player 2 takes Action (2, 2)\n",
            "Current Turn: 4, Current Player: 1, Piles: [6, 8, 3]\n",
            "Please select an action:0,3\n",
            "Turn 5: Player 1 takes Action (0, 3)\n",
            "Current Turn: 5, Current Player: 2, Piles: [3, 8, 3]\n",
            "Turn 6: Player 2 takes Action (2, 1)\n",
            "Current Turn: 6, Current Player: 1, Piles: [3, 8, 2]\n",
            "Please select an action:1,5\n",
            "Turn 7: Player 1 takes Action (1, 5)\n",
            "Current Turn: 7, Current Player: 2, Piles: [3, 3, 2]\n",
            "Turn 8: Player 2 takes Action (2, 2)\n",
            "Current Turn: 8, Current Player: 1, Piles: [3, 3, 0]\n",
            "Please select an action:0,1\n",
            "Turn 9: Player 1 takes Action (0, 1)\n",
            "Current Turn: 9, Current Player: 2, Piles: [2, 3, 0]\n",
            "Turn 10: Player 2 takes Action (0, 2)\n",
            "Current Turn: 10, Current Player: 1, Piles: [0, 3, 0]\n",
            "Please select an action:1,2\n",
            "Turn 11: Player 1 takes Action (1, 2)\n",
            "Current Turn: 11, Current Player: 2, Piles: [0, 1, 0]\n",
            "Turn 12: Player 2 takes Action (1, 1)\n",
            "Current Turn: 12, Current Player: 1, Piles: [0, 0, 0]\n",
            "Human Player wins!\n"
          ]
        },
        {
          "output_type": "execute_result",
          "data": {
            "text/plain": [
              "<__main__.Nim at 0x7efb8fdc95d0>"
            ]
          },
          "metadata": {},
          "execution_count": 10
        }
      ],
      "source": [
        "nim = Nim(piles=3, stones=9, limit=5)\n",
        "\n",
        "human = HumanPlayer('Human Player', clear=False)\n",
        "\n",
        "random = RandomPlayer('Random Player')\n",
        "\n",
        "game = play_game(root=nim, agents=[human,random], display_flags='aws', random_state=1)\n",
        "\n",
        "game"
      ]
    },
    {
      "cell_type": "markdown",
      "source": [
        "## 3.B - Human vs Minimax\n",
        "\n",
        "Create an instance of `Nim` with 3 piles, 9 stones per pile, and with a limit of 5 stones per action. Then create an instance of `MinimaxPlayer` with depth=5 and an instance of `HumanPlayer`. When creating the `HumanPlayer`, set `clear=False`.\n",
        "\n",
        "Then use `play_game()` to play a game against the `MinimaxPlayer` agent. Set `display_flags='aws'` when calling `play_game()`. You can select which player plays first.\n",
        "\n",
        "**You do not need to win this game (but you are encouraged to try).**"
      ],
      "metadata": {
        "id": "9v-Uo32mkSU4"
      },
      "id": "9v-Uo32mkSU4"
    },
    {
      "cell_type": "code",
      "execution_count": null,
      "id": "4e7695e9-cc0b-43c7-b403-506e73abaab6",
      "metadata": {
        "id": "4e7695e9-cc0b-43c7-b403-506e73abaab6",
        "colab": {
          "base_uri": "https://localhost:8080/"
        },
        "outputId": "3d6aceb1-8f56-4b62-917c-dae866f95936"
      },
      "outputs": [
        {
          "output_type": "stream",
          "name": "stdout",
          "text": [
            "Please select an action:0,4\n",
            "Turn 1: Player 1 takes Action (0, 4)\n",
            "Current Turn: 1, Current Player: 2, Piles: [5, 9, 9]\n",
            "Turn 2: Player 2 takes Action (1, 1)\n",
            "Current Turn: 2, Current Player: 1, Piles: [5, 8, 9]\n",
            "Please select an action:2,4\n",
            "Turn 3: Player 1 takes Action (2, 4)\n",
            "Current Turn: 3, Current Player: 2, Piles: [5, 8, 5]\n",
            "Turn 4: Player 2 takes Action (2, 2)\n",
            "Current Turn: 4, Current Player: 1, Piles: [5, 8, 3]\n",
            "Please select an action:0,5\n",
            "Turn 5: Player 1 takes Action (0, 5)\n",
            "Current Turn: 5, Current Player: 2, Piles: [0, 8, 3]\n",
            "Turn 6: Player 2 takes Action (1, 3)\n",
            "Current Turn: 6, Current Player: 1, Piles: [0, 5, 3]\n",
            "Please select an action:1,5\n",
            "Turn 7: Player 1 takes Action (1, 5)\n",
            "Current Turn: 7, Current Player: 2, Piles: [0, 0, 3]\n",
            "Turn 8: Player 2 takes Action (2, 2)\n",
            "Current Turn: 8, Current Player: 1, Piles: [0, 0, 1]\n",
            "Please select an action:2,1\n",
            "Turn 9: Player 1 takes Action (2, 1)\n",
            "Current Turn: 9, Current Player: 2, Piles: [0, 0, 0]\n",
            "Minimax(5) wins!\n"
          ]
        },
        {
          "output_type": "execute_result",
          "data": {
            "text/plain": [
              "<__main__.Nim at 0x7efb9cc4d180>"
            ]
          },
          "metadata": {},
          "execution_count": 15
        }
      ],
      "source": [
        "nim = Nim(piles=3, stones=9, limit=5)\n",
        "\n",
        "human = HumanPlayer('Human Player', clear=False)\n",
        "\n",
        "minimax = MinimaxPlayer('Minimax(5)', depth=5)\n",
        "\n",
        "game = play_game(root=nim, agents=[human,minimax], display_flags='aws', random_state=1)\n",
        "\n",
        "game"
      ]
    },
    {
      "cell_type": "markdown",
      "source": [
        "# Submission Instructions\n",
        "\n",
        "1. Perform a Restart and Run All by clicking **Tools > Restart session and run all**.\n",
        "2. **Make sure to complete the games in Part 3!**\n",
        "3. Copy the link to your notebook by clicking **Share > Copy Link**.\n",
        "4. Paste the copied link into the `notebook_url` field in the [Notebook Renderer](https://colab.research.google.com/drive/1CJTipys46ldZxJFwnt7XbdjQUfkmoXeU?usp=sharing) tool and then execute the cell to render the notebook.\n",
        "5. The Notebook Renderer will open up a save file dialog. Save the resulting HTML file yo your local machine.\n",
        "6. Submit the HTML file to Canvas.\n"
      ],
      "metadata": {
        "id": "eXC1dPqEkpeP"
      },
      "id": "eXC1dPqEkpeP"
    }
  ],
  "metadata": {
    "kernelspec": {
      "display_name": "Python 3 (ipykernel)",
      "language": "python",
      "name": "python3"
    },
    "language_info": {
      "codemirror_mode": {
        "name": "ipython",
        "version": 3
      },
      "file_extension": ".py",
      "mimetype": "text/x-python",
      "name": "python",
      "nbconvert_exporter": "python",
      "pygments_lexer": "ipython3",
      "version": "3.9.18"
    },
    "colab": {
      "provenance": [],
      "include_colab_link": true
    }
  },
  "nbformat": 4,
  "nbformat_minor": 5
}