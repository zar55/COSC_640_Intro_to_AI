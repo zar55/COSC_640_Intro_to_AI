{
  "cells": [
    {
      "cell_type": "markdown",
      "metadata": {
        "id": "view-in-github",
        "colab_type": "text"
      },
      "source": [
        "<a href=\"https://colab.research.google.com/github/zar55/COSC_640_Intro_to_AI/blob/Nim-Final-Projct/Project_Part_III_zziauddin1.ipynb\" target=\"_parent\"><img src=\"https://colab.research.google.com/assets/colab-badge.svg\" alt=\"Open In Colab\"/></a>"
      ]
    },
    {
      "cell_type": "markdown",
      "source": [
        "# COSC-640: Project (Part III)\n",
        "\n",
        "**Zargham Ziauddin**\n",
        "\n",
        "[PLACEHOLDER_FOR_NOTEBOOK_LINK]\n"
      ],
      "metadata": {
        "id": "V1mEMoEjs7-k"
      },
      "id": "V1mEMoEjs7-k"
    },
    {
      "cell_type": "markdown",
      "source": [
        "## Getting Started\n",
        "\n",
        "Follow the instructions below to copy this notebook and to perform some initial setup.\n",
        "\n",
        "1. Copy this notebook by selecting `File > Save a copy in Drive`.\n",
        "2. A new window should open for the copied notebook. Move the new notebook to your course folder in Google Drive by selecting `File > Move` and then selecting the desired folder.\n",
        "3. Update the name of the notebook by removing \"Copy of\" and replacing \"Username\" with your actual username.\n",
        "4. Update the first cell in the notebook by replacing \"**Student Name**\" with your actual name.\n",
        "5. Do not edit the line that says `PLACEHOLDER_FOR_NOTEBOOK_LINK`. This will be used by the [Notebook Renderer](https://colab.research.google.com/drive/1CJTipys46ldZxJFwnt7XbdjQUfkmoXeU?usp=sharing) tool to insert a link to your Colab notebook.\n",
        "6. Enable link sharing for your notebook."
      ],
      "metadata": {
        "id": "yqW7TPzztA7-"
      },
      "id": "yqW7TPzztA7-"
    },
    {
      "cell_type": "markdown",
      "source": [
        "## Preparing the Colab Environment\n",
        "\n",
        "Run the cell below to download the `aitools` course package."
      ],
      "metadata": {
        "id": "9zVmA1ybtDK7"
      },
      "id": "9zVmA1ybtDK7"
    },
    {
      "cell_type": "code",
      "source": [
        "%%capture\n",
        "!rm aitools -r\n",
        "!git clone https://github.com/drbeane/aitools.git"
      ],
      "metadata": {
        "id": "Yl3P8M3ItHtc"
      },
      "id": "Yl3P8M3ItHtc",
      "execution_count": null,
      "outputs": []
    },
    {
      "cell_type": "markdown",
      "id": "844aa959-1da9-4f19-8411-84df07000dc5",
      "metadata": {
        "id": "844aa959-1da9-4f19-8411-84df07000dc5"
      },
      "source": [
        "Run the cell below to import the necessary tools for this assignment. No other import statements are required for this lab, and no other import statements should be included in this assignment."
      ]
    },
    {
      "cell_type": "code",
      "execution_count": null,
      "id": "550c7469-eb57-4dca-8e1a-fc0d260e510e",
      "metadata": {
        "id": "550c7469-eb57-4dca-8e1a-fc0d260e510e"
      },
      "outputs": [],
      "source": [
        "from aitools.envs import BotPlayerEnv\n",
        "from aitools.algs import PolicyPlayer, RandomPlayer, MinimaxPlayer\n",
        "from aitools.algs import TDAgent\n",
        "from aitools.algs import play_game, tournament"
      ]
    },
    {
      "cell_type": "markdown",
      "source": [
        "# Description of Part III of Project\n",
        "\n",
        "In Part III of the project, you will train Q-learning agent to play Nim. The agent will be trained by playing thousands of games against a `RandomPlayer` agent, but will eventually be able to consistently defeat the better playing `MininmaxPlayer` agents."
      ],
      "metadata": {
        "id": "8rka4DqBvCOF"
      },
      "id": "8rka4DqBvCOF"
    },
    {
      "cell_type": "markdown",
      "source": [
        "# Define `Nim` Class\n",
        "\n",
        "Copy the definition for the `Nim` class from Part I  of the project into the cell below."
      ],
      "metadata": {
        "id": "4eqL4ltIhIRd"
      },
      "id": "4eqL4ltIhIRd"
    },
    {
      "cell_type": "code",
      "source": [
        "import numpy as np\n",
        "\n",
        "class Nim:\n",
        "\n",
        "    def __init__(self, piles, stones, limit):\n",
        "      self.piles = piles\n",
        "      self.stones = stones\n",
        "      self.limit = limit\n",
        "      self.winner = None\n",
        "      self.turns = 0\n",
        "      self.cur_player = 1\n",
        "      self.board = [self.stones]*self.piles\n",
        "\n",
        "      pass\n",
        "\n",
        "\n",
        "    def display(self):\n",
        "      print(f\"Current Turn: {self.turns}, Current Player: {self.cur_player}, Piles: {self.board}\")\n",
        "\n",
        "      pass\n",
        "\n",
        "\n",
        "    def copy(self):\n",
        "      new_node = Nim(piles=self.piles, stones=self.stones, limit=self.limit)\n",
        "\n",
        "      new_node.winner = self.winner\n",
        "      new_node.turns = self.turns\n",
        "      new_node.cur_player = self.cur_player\n",
        "\n",
        "      new_node.board = self.board.copy()\n",
        "\n",
        "      return new_node\n",
        "\n",
        "      pass\n",
        "\n",
        "\n",
        "    def check_for_win(self):\n",
        "      if all(stones == 0 for stones in self.board):\n",
        "        self.winner = self.cur_player\n",
        "\n",
        "      pass\n",
        "\n",
        "\n",
        "    def get_actions(self):\n",
        "      actions = []\n",
        "\n",
        "      for pile_index, stones_in_pile in enumerate(self.board):\n",
        "        max_stones = min(self.limit, stones_in_pile)\n",
        "\n",
        "        for num_stones in range(1, max_stones + 1):\n",
        "                actions.append((pile_index, num_stones))\n",
        "\n",
        "      return actions\n",
        "\n",
        "      pass\n",
        "\n",
        "    def take_action(self, a):\n",
        "      new_node = self.copy()\n",
        "\n",
        "      pile_index, stones_removed = a\n",
        "      new_node.board[pile_index] -= stones_removed\n",
        "\n",
        "      new_node.turns += 1\n",
        "\n",
        "      new_node.cur_player = 3 - new_node.cur_player\n",
        "\n",
        "      new_node.check_for_win()\n",
        "\n",
        "      return new_node\n",
        "\n",
        "      pass\n",
        "\n",
        "\n",
        "    def get_state(self):\n",
        "        s = 0\n",
        "        for i in range(self.piles):\n",
        "            s += self.board[i] * (self.stones + 1) ** i\n",
        "        return s\n",
        "\n",
        "    def heuristic(self, agent, mode=None):\n",
        "        return 0"
      ],
      "metadata": {
        "id": "geVSCByLhSR4"
      },
      "execution_count": null,
      "outputs": [],
      "id": "geVSCByLhSR4"
    },
    {
      "cell_type": "markdown",
      "source": [
        "# New Classes\n",
        "\n",
        "You will work with two new classes in this notebook. These are named `BotPlayerEnv` and `PolicyPlayer`. These classes are described below.\n",
        "\n",
        "The `BotPlayerEnv` class provides an interface that can be used with reinforcement learning algorithms to train agents to play games by having them complete against a \"bot player\" controlled by an adversarial search agent (such as `RandomPlayer`). Instances of `BotPlayerEnv` combine an instance of a game environment with an instance of an adversarial agent to create an environment that can be use with our RL algorithms. When an action is taken in this environment, the `BotPlayerEnv` class will apply that action, and then generate and apply an action for the bot player. The code block below demonstrates how to create an instance of `BotPlayerEnv` and how to use it with an instance of `TDAgent`.\n",
        "\n",
        "    nim = Nim(piles=3, stones=9, limit=5)\n",
        "    bot = RandomPlayer('Bot')\n",
        "    bot_env = BotPlayerEnv(game_env=nim, agent=bot)\n",
        "    td = TDAgent(bot_env, gamma=1, random_state=1)\n",
        "\n",
        "\n",
        "\n",
        "An instance of the `PolicyPlayer` class represents an adversarial search agent that follows a policy that maps game states to actions. We will use this class to create agents that follow the policies learned by applying the Q-learning algorithm. It is interesting to note that since `PolicyPlayer` agents don't have to perform a search when selecting actions, they will always select their actions very quickly. It might take a significant amount of time to run the Q-learning algorithm that learns the policy to use in conjunction with `PolicyPlayer`, but once the policy is learned, the agent will play very quickly.\n",
        "\n",
        "The code block below demonstrates how to create an instance of `PolicyPlayer`.\n",
        "\n",
        "    p1 = PolicyPlayer('Policy Player', policy=some_policy)\n",
        "\n"
      ],
      "metadata": {
        "id": "tHzbUBngvyIh"
      },
      "id": "tHzbUBngvyIh"
    },
    {
      "cell_type": "markdown",
      "id": "232d63b0-e508-4d0d-84db-b79508b2a568",
      "metadata": {
        "tags": [],
        "id": "232d63b0-e508-4d0d-84db-b79508b2a568"
      },
      "source": [
        "## Part 1: Basic Q-Learning Agent\n",
        "\n",
        "In Part 1, we will use Q-learning to learn a policy for playing Nim. The policy will be learned by having the Q-learning algorithm play many games against a `RandomPlayer` agent, and will be tested by having it play against `RandomPlayer` and `MinimaxPlayer` agents. Our eventual goal is to find a policy that can be used to consistently defeat a Minimax agent with a depth of 4.\n"
      ]
    },
    {
      "cell_type": "markdown",
      "source": [
        "## 1.A - Training the Agent\n",
        "\n",
        "Create the following objects:\n",
        "\n",
        "- An instance of `Nim` with 3 piles, 9 stones per pile, and with a limit of 5 stones per action.\n",
        "- An instance of `RandomPlayer`.\n",
        "- An instance of `BotPlayerEnv` using the `Nim` and `RandomPlayer` instances you created above.\n",
        "- An instance of `TDAgent` that uses your instance of `BotPlayerEnv`. Set `gamma=1` and `random_state=1`.\n",
        "\n",
        "After creating the objects above, use your `TDAgent` instance to apply Q-learning to learn a policy for `Nim`. Run 10,000 episodes of Q-learning with an exploration rate of 0.1 and a learning rate of 0.1. Also set `track_history=False` when calling calling the `q_learning()` method. This will significantly reduce the memory requirements of the algorithm."
      ],
      "metadata": {
        "id": "xaQ9nmX2wivb"
      },
      "id": "xaQ9nmX2wivb"
    },
    {
      "cell_type": "code",
      "execution_count": null,
      "id": "7ba9a53c-47db-4bf3-981f-666cf4a9c103",
      "metadata": {
        "id": "7ba9a53c-47db-4bf3-981f-666cf4a9c103"
      },
      "outputs": [],
      "source": [
        "nim = Nim(piles=3, stones=9, limit=5)\n",
        "\n",
        "random = RandomPlayer('Random Player')\n",
        "\n",
        "bot = BotPlayerEnv(nim, agent=random)\n",
        "\n",
        "td = TDAgent(bot, gamma=1, random_state=1)\n",
        "\n",
        "td.q_learning(episodes=10_000, epsilon=.1, alpha=.1, track_history=False)"
      ]
    },
    {
      "cell_type": "markdown",
      "source": [
        "## 1.B - Create Agents\n",
        "\n",
        "Create the following agents:\n",
        "- A `PolicyPlayer` instance using the policy found by Q-learning.\n",
        "- A `RandomPlayer` instance.\n",
        "- A `MinimaxPlayer` instance with `depth=2`.\n",
        "- A `MinimaxPlayer` instance with `depth=3`.\n",
        "- A `MinimaxPlayer` instance with `depth=4`."
      ],
      "metadata": {
        "id": "2LDS0D4Oxmfu"
      },
      "id": "2LDS0D4Oxmfu"
    },
    {
      "cell_type": "code",
      "execution_count": null,
      "id": "4da2f49b-d89b-4d81-bbb6-c98451869562",
      "metadata": {
        "id": "4da2f49b-d89b-4d81-bbb6-c98451869562"
      },
      "outputs": [],
      "source": [
        "p1 = PolicyPlayer('Policy Player', td.policy)\n",
        "\n",
        "random = RandomPlayer('Random Player')\n",
        "\n",
        "minimax_2 = MinimaxPlayer('Minimax(2)', depth=2)\n",
        "\n",
        "minimax_3 = MinimaxPlayer('Minimax(3)', depth=3)\n",
        "\n",
        "minimax_4 = MinimaxPlayer('Minimax(4)', depth=4)"
      ]
    },
    {
      "cell_type": "markdown",
      "source": [
        "## 1.C - Versus RandomPlayer\n",
        "\n",
        "Run a 1000 round tournament between the `PolicyPlayer` agent and the `RandomPlayer` agent. Set `random_state=1`. When creating the agent list, please list the `PolicyPlayer` agent first."
      ],
      "metadata": {
        "id": "C7aDi23axyA3"
      },
      "id": "C7aDi23axyA3"
    },
    {
      "cell_type": "code",
      "execution_count": null,
      "id": "19483d90-ab77-4b77-bf55-be1488b847a0",
      "metadata": {
        "id": "19483d90-ab77-4b77-bf55-be1488b847a0",
        "colab": {
          "base_uri": "https://localhost:8080/"
        },
        "outputId": "5c94ca2f-f989-4bfa-a61f-3b60b8dc7142"
      },
      "outputs": [
        {
          "output_type": "stream",
          "name": "stderr",
          "text": [
            "100%|██████████| 1000/1000 [00:00<00:00, 3666.58it/s]"
          ]
        },
        {
          "output_type": "stream",
          "name": "stdout",
          "text": [
            "Policy Player vs. Random Player\n",
            "-------------------------------\n",
            "Ties:          0\n",
            "Player 1 Wins: 920\n",
            "Player 2 Wins: 80\n",
            "Player 1 took: 0.05 seconds\n",
            "Player 2 took: 0.15 seconds\n",
            "Average number of turns: 11.4\n"
          ]
        },
        {
          "output_type": "stream",
          "name": "stderr",
          "text": [
            "\n"
          ]
        }
      ],
      "source": [
        "p1 = PolicyPlayer('Policy Player', td.policy)\n",
        "\n",
        "random = RandomPlayer('Random Player')\n",
        "\n",
        "tournament(nim, agents=[p1, random], rounds=1000, random_state=1)"
      ]
    },
    {
      "cell_type": "markdown",
      "source": [
        "## 1.D - Versus Minimax(2)\n",
        "\n",
        "Run a 1000 round tournament between the `PolicyPlayer` agent and the `MinimaxPlayer` agent with `depth=2`. Set `random_state=1`. When creating the agent list, please list the `PolicyPlayer` agent first."
      ],
      "metadata": {
        "id": "eX9Z39LIyCp7"
      },
      "id": "eX9Z39LIyCp7"
    },
    {
      "cell_type": "code",
      "execution_count": null,
      "id": "9d29500a-5a15-4dad-b4ed-b8a3915e93b8",
      "metadata": {
        "id": "9d29500a-5a15-4dad-b4ed-b8a3915e93b8",
        "colab": {
          "base_uri": "https://localhost:8080/"
        },
        "outputId": "be779387-4793-4a07-9374-e5b0bce24ddf"
      },
      "outputs": [
        {
          "output_type": "stream",
          "name": "stderr",
          "text": [
            "100%|██████████| 1000/1000 [00:03<00:00, 260.25it/s]"
          ]
        },
        {
          "output_type": "stream",
          "name": "stdout",
          "text": [
            "Policy Player vs. Minimax(2)\n",
            "----------------------------\n",
            "Ties:          0\n",
            "Player 1 Wins: 726\n",
            "Player 2 Wins: 274\n",
            "Player 1 took: 0.08 seconds\n",
            "Player 2 took: 3.59 seconds\n",
            "Average number of turns: 11.2\n"
          ]
        },
        {
          "output_type": "stream",
          "name": "stderr",
          "text": [
            "\n"
          ]
        }
      ],
      "source": [
        "p1 = PolicyPlayer('Policy Player', td.policy)\n",
        "\n",
        "minimax_2 = MinimaxPlayer('Minimax(2)', depth=2)\n",
        "\n",
        "tournament(nim, agents=[p1, minimax_2], rounds=1000, random_state=1)"
      ]
    },
    {
      "cell_type": "markdown",
      "source": [
        "## 1.E - Versus Minimax(3)\n",
        "\n",
        "Run a 1000 round tournament between the `PolicyPlayer` agent and the `MinimaxPlayer` agent with `depth=3`. Set `random_state=1`. When creating the agent list, please list the `PolicyPlayer` agent first.\n",
        "\n"
      ],
      "metadata": {
        "id": "ily3krHeyMXB"
      },
      "id": "ily3krHeyMXB"
    },
    {
      "cell_type": "code",
      "execution_count": null,
      "id": "2c57edd7-fa05-4de4-80ae-20b8f3cb8897",
      "metadata": {
        "id": "2c57edd7-fa05-4de4-80ae-20b8f3cb8897",
        "colab": {
          "base_uri": "https://localhost:8080/"
        },
        "outputId": "9057b36d-eda6-4a0a-8766-3f80e5a3824f"
      },
      "outputs": [
        {
          "output_type": "stream",
          "name": "stderr",
          "text": [
            "100%|██████████| 1000/1000 [00:27<00:00, 36.13it/s]"
          ]
        },
        {
          "output_type": "stream",
          "name": "stdout",
          "text": [
            "Policy Player vs. Minimax(3)\n",
            "----------------------------\n",
            "Ties:          0\n",
            "Player 1 Wins: 402\n",
            "Player 2 Wins: 598\n",
            "Player 1 took: 0.09 seconds\n",
            "Player 2 took: 27.01 seconds\n",
            "Average number of turns: 12.2\n"
          ]
        },
        {
          "output_type": "stream",
          "name": "stderr",
          "text": [
            "\n"
          ]
        }
      ],
      "source": [
        "p1 = PolicyPlayer('Policy Player', td.policy)\n",
        "\n",
        "minimax_3 = MinimaxPlayer('Minimax(3)', depth=3)\n",
        "\n",
        "tournament(nim, agents=[p1, minimax_3], rounds=1000, random_state=1)"
      ]
    },
    {
      "cell_type": "markdown",
      "source": [
        "## 1.F - Versus Minimax(4)\n",
        "\n",
        "Run a 1000 round tournament between the `PolicyPlayer` agent and the `MinimaxPlayer` agent with `depth=4`. Set `random_state=1`. When creating the agent list, please list the `PolicyPlayer` agent first."
      ],
      "metadata": {
        "id": "7BLjHkZEyQ0L"
      },
      "id": "7BLjHkZEyQ0L"
    },
    {
      "cell_type": "code",
      "execution_count": null,
      "id": "6c89c760-4c14-4fe3-b800-14f7f9249f04",
      "metadata": {
        "id": "6c89c760-4c14-4fe3-b800-14f7f9249f04",
        "colab": {
          "base_uri": "https://localhost:8080/"
        },
        "outputId": "52a096b8-2a71-4da3-e6f5-d9d963d6565d"
      },
      "outputs": [
        {
          "output_type": "stream",
          "name": "stderr",
          "text": [
            "100%|██████████| 1000/1000 [04:33<00:00,  3.66it/s]"
          ]
        },
        {
          "output_type": "stream",
          "name": "stdout",
          "text": [
            "Policy Player vs. Minimax(4)\n",
            "----------------------------\n",
            "Ties:          0\n",
            "Player 1 Wins: 188\n",
            "Player 2 Wins: 812\n",
            "Player 1 took: 0.15 seconds\n",
            "Player 2 took: 270.75 seconds\n",
            "Average number of turns: 11.6\n"
          ]
        },
        {
          "output_type": "stream",
          "name": "stderr",
          "text": [
            "\n"
          ]
        }
      ],
      "source": [
        "p1 = PolicyPlayer('Policy Player', td.policy)\n",
        "\n",
        "minimax_4 = MinimaxPlayer('Minimax(4)', depth=4)\n",
        "\n",
        "tournament(nim, agents=[p1, minimax_4], rounds=1000, random_state=1)"
      ]
    },
    {
      "cell_type": "markdown",
      "source": [
        "## 1.G - Summarizing Results\n",
        "\n",
        "Indicate the win rates for the `PolicyPlayer` agent by filling in each of the blanks below. Proivde your answer as percentages rounded to 1 decimal place."
      ],
      "metadata": {
        "id": "83IIyPnYyXRn"
      },
      "id": "83IIyPnYyXRn"
    },
    {
      "cell_type": "markdown",
      "id": "59a67a38-f5c1-49dc-ba3d-61ea46fe625b",
      "metadata": {
        "id": "59a67a38-f5c1-49dc-ba3d-61ea46fe625b"
      },
      "source": [
        "The policy player won:\n",
        "- 92.0% of games played against the `RandomPlayer` agent.\n",
        "- 72.6% of games played against the `MinimaxPlayer` agent with depth 2.\n",
        "- 40.2% of games played against the `MinimaxPlayer` agent with depth 3.\n",
        "- 18.8% of games played against the `MinimaxPlayer` agent with depth 4."
      ]
    },
    {
      "cell_type": "markdown",
      "id": "ce5e992d-7005-4957-8733-23c5e33244f4",
      "metadata": {
        "tags": [],
        "id": "ce5e992d-7005-4957-8733-23c5e33244f4"
      },
      "source": [
        "# Part 2: Improved Q-Learning Agent\n",
        "\n",
        "We will now attempt to improve the `PolicyPlayer` agent by using Q-learning to find a better policy.\n",
        "\n",
        "Please repeat steps A-G from Part 1, with one change. You should experiment with the parameters used in Part A when applying Q-learning. You can experiment with any or all of the following:\n",
        "\n",
        "* You can increase the number of episodes.\n",
        "* You can experiment with the exploration rate.\n",
        "* You can experiment with the learning rate.\n",
        "* You can experiment with exploring starts.\n",
        "* You can consider applying multiple rounds of Q-learning, changing the parameters between the two rounds.\n",
        "\n",
        "Your goal is to find a policy that results in the `PolicyPlayer` agent winning at least 85% of the games in the tournament against the `MinimaxPlayer` with `depth=4`. If you find a policy that gets close to this, you will get partial credit, but you will not receive full credit unless the `PolicyPlayer` agent reaches the 85% win rate.\n",
        "\n",
        "**Hint:** You should be able to attain this goal by simply increasing the number of episodes. However, you might be able to achieve the desired results in fewer episodes by experimenting with the other parameters. You also might be able to get an agent that gets a win rate higher than 85% by experimenting with the other parameters. It is possible (but not required) to find a policy with a win rate of at least 95%."
      ]
    },
    {
      "cell_type": "markdown",
      "source": [
        "## 2.A - Training the Agent\n",
        "\n",
        "Create the following objects:\n",
        "\n",
        "- An instance of `Nim` with 3 piles, 9 stones per pile, and with a limit of 5 stones per action.\n",
        "- An instance of `RandomPlayer`.\n",
        "- An instance of `BotPlayerEnv` using the `Nim` and `RandomPlayer` instances you created above.\n",
        "- An instance of `TDAgent` that uses your instance of `BotPlayerEnv`. Set `gamma=1` and `random_state=1`.\n",
        "\n",
        "After creating the objects above, use your `TDAgent` instance to apply Q-learning to learn a policy for `Nim`. As before, you should set `track_history=False` when calling the `q_learning()` method."
      ],
      "metadata": {
        "id": "8UqAsJo4zsL8"
      },
      "id": "8UqAsJo4zsL8"
    },
    {
      "cell_type": "code",
      "execution_count": null,
      "id": "fe2cdeac-5596-4372-b2fe-8ebd8645cb1b",
      "metadata": {
        "id": "fe2cdeac-5596-4372-b2fe-8ebd8645cb1b"
      },
      "outputs": [],
      "source": [
        "nim = Nim(piles=3, stones=9, limit=5)\n",
        "\n",
        "random = RandomPlayer('Random Player')\n",
        "\n",
        "bot = BotPlayerEnv(nim, agent=random)\n",
        "\n",
        "td = TDAgent(bot, gamma=1, random_state=1)\n",
        "\n",
        "td.q_learning(episodes=100000, epsilon=.1, alpha=.5, track_history=False, exploring_starts=True)"
      ]
    },
    {
      "cell_type": "markdown",
      "source": [
        "## 2.B - Create Agents\n",
        "\n",
        "Create the following agents:\n",
        "- A `PolicyPlayer` instance using the policy found by Q-learning.\n",
        "- A `RandomPlayer` instance.\n",
        "- A `MinimaxPlayer` instance with `depth=2`.\n",
        "- A `MinimaxPlayer` instance with `depth=3`.\n",
        "- A `MinimaxPlayer` instance with `depth=4`."
      ],
      "metadata": {
        "id": "dalb8tqJ0AaP"
      },
      "id": "dalb8tqJ0AaP"
    },
    {
      "cell_type": "code",
      "execution_count": null,
      "id": "aa144d9a-9669-41aa-8874-752880c4b097",
      "metadata": {
        "id": "aa144d9a-9669-41aa-8874-752880c4b097"
      },
      "outputs": [],
      "source": [
        "p1 = PolicyPlayer('Policy Player', td.policy)\n",
        "\n",
        "random = RandomPlayer('Random Player')\n",
        "\n",
        "minimax_2 = MinimaxPlayer('Minimax(2)', depth=2)\n",
        "\n",
        "minimax_3 = MinimaxPlayer('Minimax(3)', depth=3)\n",
        "\n",
        "minimax_4 = MinimaxPlayer('Minimax(4)', depth=4)"
      ]
    },
    {
      "cell_type": "markdown",
      "source": [
        "## 2.C - Versus RandomPlayer\n",
        "\n",
        "Run a 1000 round tournament between the `PolicyPlayer` agent and the `RandomPlayer` agent. Set `random_state=1`. When creating the agent list, please list the `PolicyPlayer` agent first."
      ],
      "metadata": {
        "id": "kM6IwYZQ0Fwu"
      },
      "id": "kM6IwYZQ0Fwu"
    },
    {
      "cell_type": "code",
      "execution_count": null,
      "id": "34cc53bb-981a-48b2-af5e-8aa6d5946e55",
      "metadata": {
        "id": "34cc53bb-981a-48b2-af5e-8aa6d5946e55",
        "colab": {
          "base_uri": "https://localhost:8080/"
        },
        "outputId": "3ab76b80-3cb3-4555-a646-705e7ab8eec4"
      },
      "outputs": [
        {
          "output_type": "stream",
          "name": "stderr",
          "text": [
            "100%|██████████| 1000/1000 [00:00<00:00, 3178.39it/s]"
          ]
        },
        {
          "output_type": "stream",
          "name": "stdout",
          "text": [
            "Policy Player vs. Random Player\n",
            "-------------------------------\n",
            "Ties:          0\n",
            "Player 1 Wins: 995\n",
            "Player 2 Wins: 5\n",
            "Player 1 took: 0.06 seconds\n",
            "Player 2 took: 0.17 seconds\n",
            "Average number of turns: 10.7\n"
          ]
        },
        {
          "output_type": "stream",
          "name": "stderr",
          "text": [
            "\n"
          ]
        }
      ],
      "source": [
        "tournament(root=nim, agents=[p1, random], rounds=1000, random_state=1)"
      ]
    },
    {
      "cell_type": "markdown",
      "source": [
        "## 2.D - Versus Minimax(2)\n",
        "\n",
        "Run a 1000 round tournament between the `PolicyPlayer` agent and the `MinimaxPlayer` agent with `depth=2`. Set `random_state=1`. When creating the agent list, please list the `PolicyPlayer` agent first."
      ],
      "metadata": {
        "id": "R-4PjeKA0IXo"
      },
      "id": "R-4PjeKA0IXo"
    },
    {
      "cell_type": "code",
      "execution_count": null,
      "id": "b9c43e43-ad3e-4fbf-977c-3b7af7e01a8f",
      "metadata": {
        "id": "b9c43e43-ad3e-4fbf-977c-3b7af7e01a8f",
        "colab": {
          "base_uri": "https://localhost:8080/"
        },
        "outputId": "d8a2f23e-02d7-4013-dec3-6cf1f7f87359"
      },
      "outputs": [
        {
          "output_type": "stream",
          "name": "stderr",
          "text": [
            "100%|██████████| 1000/1000 [00:02<00:00, 337.68it/s]"
          ]
        },
        {
          "output_type": "stream",
          "name": "stdout",
          "text": [
            "Policy Player vs. Minimax(2)\n",
            "----------------------------\n",
            "Ties:          0\n",
            "Player 1 Wins: 976\n",
            "Player 2 Wins: 24\n",
            "Player 1 took: 0.07 seconds\n",
            "Player 2 took: 2.75 seconds\n",
            "Average number of turns: 10.7\n"
          ]
        },
        {
          "output_type": "stream",
          "name": "stderr",
          "text": [
            "\n"
          ]
        }
      ],
      "source": [
        "tournament(root=nim, agents=[p1, minimax_2], rounds=1000, random_state=1)"
      ]
    },
    {
      "cell_type": "markdown",
      "source": [
        "## 2.E - Versus Minimax(3)\n",
        "\n",
        "Run a 1000 round tournament between the `PolicyPlayer` agent and the `MinimaxPlayer` agent with `depth=3`. Set `random_state=1`. When creating the agent list, please list the `PolicyPlayer` agent first.\n",
        "\n"
      ],
      "metadata": {
        "id": "_ck3axAb0Kad"
      },
      "id": "_ck3axAb0Kad"
    },
    {
      "cell_type": "code",
      "execution_count": null,
      "id": "15ac05d8-3933-4dd1-a62d-9d232957844e",
      "metadata": {
        "id": "15ac05d8-3933-4dd1-a62d-9d232957844e",
        "colab": {
          "base_uri": "https://localhost:8080/"
        },
        "outputId": "9530d19e-46ac-4755-d65c-d140be44da86"
      },
      "outputs": [
        {
          "output_type": "stream",
          "name": "stderr",
          "text": [
            "100%|██████████| 1000/1000 [00:25<00:00, 39.89it/s]"
          ]
        },
        {
          "output_type": "stream",
          "name": "stdout",
          "text": [
            "Policy Player vs. Minimax(3)\n",
            "----------------------------\n",
            "Ties:          0\n",
            "Player 1 Wins: 949\n",
            "Player 2 Wins: 51\n",
            "Player 1 took: 0.09 seconds\n",
            "Player 2 took: 24.42 seconds\n",
            "Average number of turns: 11.7\n"
          ]
        },
        {
          "output_type": "stream",
          "name": "stderr",
          "text": [
            "\n"
          ]
        }
      ],
      "source": [
        "tournament(root=nim, agents=[p1, minimax_3], rounds=1000, random_state=1)"
      ]
    },
    {
      "cell_type": "markdown",
      "source": [
        "## 2.F - Versus Minimax(4)\n",
        "\n",
        "Run a 1000 round tournament between the `PolicyPlayer` agent and the `MinimaxPlayer` agent with `depth=4`. Set `random_state=1`. When creating the agent list, please list the `PolicyPlayer` agent first."
      ],
      "metadata": {
        "id": "4ExhhW1y0Msu"
      },
      "id": "4ExhhW1y0Msu"
    },
    {
      "cell_type": "code",
      "execution_count": null,
      "id": "7ea2764d-15d3-4f82-bbc0-f1a1a7f63f95",
      "metadata": {
        "id": "7ea2764d-15d3-4f82-bbc0-f1a1a7f63f95",
        "colab": {
          "base_uri": "https://localhost:8080/"
        },
        "outputId": "ef796a74-00a5-4656-b22e-5a2d9d37e471"
      },
      "outputs": [
        {
          "output_type": "stream",
          "name": "stderr",
          "text": [
            "100%|██████████| 1000/1000 [04:12<00:00,  3.95it/s]"
          ]
        },
        {
          "output_type": "stream",
          "name": "stdout",
          "text": [
            "Policy Player vs. Minimax(4)\n",
            "----------------------------\n",
            "Ties:          0\n",
            "Player 1 Wins: 875\n",
            "Player 2 Wins: 125\n",
            "Player 1 took: 0.15 seconds\n",
            "Player 2 took: 250.59 seconds\n",
            "Average number of turns: 11.6\n"
          ]
        },
        {
          "output_type": "stream",
          "name": "stderr",
          "text": [
            "\n"
          ]
        }
      ],
      "source": [
        "tournament(root=nim, agents=[p1, minimax_4], rounds=1000, random_state=1)"
      ]
    },
    {
      "cell_type": "markdown",
      "source": [
        "## 2.G - Summarizing Results\n",
        "\n",
        "Indicate the win rates for the `PolicyPlayer` agent by filling in each of the blanks below. Proivde your answer as percentages rounded to 1 decimal place."
      ],
      "metadata": {
        "id": "SvmqVM200RG3"
      },
      "id": "SvmqVM200RG3"
    },
    {
      "cell_type": "markdown",
      "id": "8f212fa7-2d46-421e-88c8-1d7c7e64ffec",
      "metadata": {
        "id": "8f212fa7-2d46-421e-88c8-1d7c7e64ffec"
      },
      "source": [
        "The policy player won:\n",
        "- 99.5% of games played against the `RandomPlayer` agent.\n",
        "- 97.6% of games played against the `MinimaxPlayer` agent with depth 2.\n",
        "- 94.9% of games played against the `MinimaxPlayer` agent with depth 3.\n",
        "- 87.5% of games played against the `MinimaxPlayer` agent with depth 4."
      ]
    },
    {
      "cell_type": "markdown",
      "source": [
        "# Submission Instructions\n",
        "\n",
        "1. Perform a Restart and Run All by clicking **Tools > Restart session and run all**.\n",
        "2. Copy the link to your notebook by clicking **Share > Copy Link**.\n",
        "3. Paste the copied link into the `notebook_url` field in the [Notebook Renderer](https://colab.research.google.com/drive/1CJTipys46ldZxJFwnt7XbdjQUfkmoXeU?usp=sharing) tool and then execute the cell to render the notebook.\n",
        "4. The Notebook Renderer will open up a save file dialog. Save the resulting HTML file yo your local machine.\n",
        "5. Submit the HTML file to Canvas.\n"
      ],
      "metadata": {
        "id": "c1yM8qwP0cX2"
      },
      "id": "c1yM8qwP0cX2"
    }
  ],
  "metadata": {
    "kernelspec": {
      "display_name": "Python 3 (ipykernel)",
      "language": "python",
      "name": "python3"
    },
    "language_info": {
      "codemirror_mode": {
        "name": "ipython",
        "version": 3
      },
      "file_extension": ".py",
      "mimetype": "text/x-python",
      "name": "python",
      "nbconvert_exporter": "python",
      "pygments_lexer": "ipython3",
      "version": "3.9.18"
    },
    "colab": {
      "provenance": [],
      "include_colab_link": true
    }
  },
  "nbformat": 4,
  "nbformat_minor": 5
}